{
  "nbformat": 4,
  "nbformat_minor": 0,
  "metadata": {
    "kernelspec": {
      "display_name": "Python 3",
      "language": "python",
      "name": "python3"
    },
    "language_info": {
      "codemirror_mode": {
        "name": "ipython",
        "version": 3
      },
      "file_extension": ".py",
      "mimetype": "text/x-python",
      "name": "python",
      "nbconvert_exporter": "python",
      "pygments_lexer": "ipython3",
      "version": "3.7.4"
    },
    "varInspector": {
      "cols": {
        "lenName": 16,
        "lenType": 16,
        "lenVar": 40
      },
      "kernels_config": {
        "python": {
          "delete_cmd_postfix": "",
          "delete_cmd_prefix": "del ",
          "library": "var_list.py",
          "varRefreshCmd": "print(var_dic_list())"
        },
        "r": {
          "delete_cmd_postfix": ") ",
          "delete_cmd_prefix": "rm(",
          "library": "var_list.r",
          "varRefreshCmd": "cat(var_dic_list()) "
        }
      },
      "types_to_exclude": [
        "module",
        "function",
        "builtin_function_or_method",
        "instance",
        "_Feature"
      ],
      "window_display": false
    },
    "colab": {
      "name": "Copia de Comprobando Funcionamiento PubSub.ipynb",
      "provenance": []
    }
  },
  "cells": [
    {
      "cell_type": "markdown",
      "metadata": {
        "id": "Z8lwpHUcjJp4"
      },
      "source": [
        "# Utilizando PubSub\n",
        "\n",
        "Una vez hayamos creado y activado la cuenta de Google Cloud y puesto en marcha PubSub, podemos comprobar que todo está funcionando. Para ello, vamos a utilizar las credenciales que hemos creado en ese procedimiento.\n",
        "\n",
        "Primero es necesario activar Google Drive, donde guardaremos de forma segura nuestros credenciales que nos permitirán autentificarnos. Para ello, efectuamos y seguimos las instrucciones que se nos indiquen en el siguiente bloque:\n"
      ]
    },
    {
      "cell_type": "code",
      "metadata": {
        "id": "xzt2g5crjjEW"
      },
      "source": [
        "from google.colab import drive\r\n",
        "drive.mount('/content/drive')"
      ],
      "execution_count": null,
      "outputs": []
    },
    {
      "cell_type": "markdown",
      "metadata": {
        "id": "xDxYz6XzjhqD"
      },
      "source": [
        "A continuación vamos a coger las credenciales que hemos descargado y vamos a pegarlo en la misma carpeta en la que se encuentra este cuaderno:\r\n",
        "\r\n",
        "```\r\n",
        "'drive/\r\n",
        "    My Drive/ \r\n",
        "          credentials.json                               \r\n",
        "```\r\n",
        "\r\n",
        "Renombremos el nombre del JSON a `credentials.json` para que funcione el siguiente comando:"
      ]
    },
    {
      "cell_type": "code",
      "metadata": {
        "id": "k90NdA-cjJqK"
      },
      "source": [
        "import os\n",
        "os.environ['GOOGLE_APPLICATION_CREDENTIALS'] = '/content/drive/My Drive/credentials.json' \n",
        "!echo $GOOGLE_APPLICATION_CREDENTIALS"
      ],
      "execution_count": null,
      "outputs": []
    },
    {
      "cell_type": "markdown",
      "metadata": {
        "id": "M7FInC-4jJqN"
      },
      "source": [
        "Una vez hemos dado permisos de acceso a nuestra cuenta de Google Cloud, vamos a subir los primeros datos a nuestro `tema` (`topic`).\n",
        "\n",
        "Para ello, tenemos que llenar los campos:\n",
        " - `project_id`\n",
        " - `topic_name`\n",
        " \n",
        "Con los datos de nuestro proyecto/tema"
      ]
    },
    {
      "cell_type": "code",
      "metadata": {
        "id": "i2sxcqBjjJqO"
      },
      "source": [
        "from google.cloud import pubsub_v1\n",
        "\n",
        "# TODO especificar nuestro 'project_id' y 'topic_name'\n",
        "project_id = '___________________'################################ se encuentra en MyFirstProyect-> ID\n",
        "topic_name = '___________________'################################ se encuentra en PubSub -> Temas-> Id del Tema\n",
        "\n",
        "# Configure the batch to publish as soon as there is one kilobyte\n",
        "# of data or one second has passed.\n",
        "batch_settings = pubsub_v1.types.BatchSettings(\n",
        "    max_bytes=1024,  # One kilobyte\n",
        "    max_latency=1,   # One second\n",
        ")\n",
        "publisher = pubsub_v1.PublisherClient(batch_settings)\n",
        "topic_path = publisher.topic_path(project_id, topic_name)\n",
        "\n",
        "for n in range(1, 10):\n",
        "    data = u'Message number {}'.format(n)\n",
        "    # Data must be a bytestring\n",
        "    data = data.encode('utf-8')\n",
        "    future = publisher.publish(topic_path, data=data)\n",
        "    print(future.result())\n",
        "\n",
        "print('Published messages with batch settings.')"
      ],
      "execution_count": null,
      "outputs": []
    },
    {
      "cell_type": "markdown",
      "metadata": {
        "id": "MXOaKg8YjJqQ"
      },
      "source": [
        "Y por último, vamos a leer esos datos mediante nuestra `suscripción` (`subscription`)\n",
        "\n",
        "Para ello, tenemos que llenar los campos:\n",
        " - `project_id`\n",
        " - `subscription_name`\n",
        " \n",
        "Con los datos de nuestro proyecto/suscripción"
      ]
    },
    {
      "cell_type": "code",
      "metadata": {
        "id": "rAw97aJfjJqS"
      },
      "source": [
        "# from google.cloud import pubsub_v1\n",
        "\n",
        "# TODO especificar 'project_id' y 'subscription_name'\n",
        "project_id = '___________________' #\n",
        "subscription_name = '___________________'# se encuentra en PubSub -> Suscripciones-> Id de suscripción\n",
        "\n",
        "client = pubsub_v1.SubscriberClient()\n",
        "subscription = client.subscription_path(project_id, subscription_name)\n",
        "\n",
        "\n",
        "# Llamada a PubSub\n",
        "response = client.pull(subscription, 1)  # Número de mensajes que vamos a recibir (puede que no se descarguen todos a la vez)\n",
        "\n",
        "print(response)"
      ],
      "execution_count": null,
      "outputs": []
    }
  ]
}