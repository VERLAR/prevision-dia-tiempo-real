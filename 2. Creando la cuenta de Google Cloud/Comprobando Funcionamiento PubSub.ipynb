{
 "cells": [
  {
   "cell_type": "markdown",
   "metadata": {},
   "source": [
    "# Utilizando PubSub\n",
    "\n",
    "Una vez hayamos creado y activado la cuenta de Google Cloud y puesto en marcha PubSub, podemos comprobar que todo está funcionando. Para ello, vamos a utilizar las credenciales que hemos creado en ese procedimiento.\n",
    "\n",
    "Para empezar vamos a coger las credenciales que hemos descargado y vamos a pegarlo en la misma carpeta en la que se encuentra este cuaderno:\n",
    "\n",
    "```\n",
    "2. Creando la cuenta de Google Cloud\n",
    "    .ipynb_checkpoints\n",
    "    Comprobando Funcionamiento PubSub.ipynb\n",
    "    credentials.json                               <-------------------------------------------\n",
    "    Readme.md\n",
    "```\n",
    "\n",
    "Renombremos el nombre del JSON a `credentials.json` para que funcione el siguiente comando:"
   ]
  },
  {
   "cell_type": "code",
   "execution_count": 15,
   "metadata": {},
   "outputs": [
    {
     "name": "stdout",
     "output_type": "stream",
     "text": [
      "env: GOOGLE_APPLICATION_CREDENTIALS=credentials.json\n"
     ]
    }
   ],
   "source": [
    "# TODO tenemos que dirigir la variable 'GOOGLE_APPLICATION_CREDENTIALS' al\n",
    "# JSON que hemos creado en el proceso anterior.\n",
    "\n",
    "%env GOOGLE_APPLICATION_CREDENTIALS=credentials.json"
   ]
  },
  {
   "cell_type": "markdown",
   "metadata": {},
   "source": [
    "Una vez hemos dado permisos de acceso a nuestra cuenta de Google Cloud, vamos a subir los primeros datos a nuestro `tema` (`topic`).\n",
    "\n",
    "Para ello, tenemos que llenar los campos:\n",
    " - `project_id`\n",
    " - `topic_name`\n",
    " \n",
    "Con los datos de nuestro proyecto/tema"
   ]
  },
  {
   "cell_type": "code",
   "execution_count": 4,
   "metadata": {},
   "outputs": [
    {
     "name": "stdout",
     "output_type": "stream",
     "text": [
      "867466604100963\n",
      "867466007934564\n",
      "867462930897861\n",
      "867466786240740\n",
      "867467102272370\n",
      "867466974370673\n",
      "867461862147218\n",
      "867462653630908\n",
      "867466002555724\n",
      "Published messages with batch settings.\n"
     ]
    }
   ],
   "source": [
    "from google.cloud import pubsub_v1\n",
    "\n",
    "# TODO especificar nuestro 'project_id' y 'topic_name'\n",
    "project_id = '___________________'################################ se encuentra en MyFirstProyect-> ID\n",
    "topic_name = '___________________'################################ se encuentra en PubSub -> Temas-> Id del Tema\n",
    "\n",
    "# Configure the batch to publish as soon as there is one kilobyte\n",
    "# of data or one second has passed.\n",
    "batch_settings = pubsub_v1.types.BatchSettings(\n",
    "    max_bytes=1024,  # One kilobyte\n",
    "    max_latency=1,   # One second\n",
    ")\n",
    "publisher = pubsub_v1.PublisherClient(batch_settings)\n",
    "topic_path = publisher.topic_path(project_id, topic_name)\n",
    "\n",
    "for n in range(1, 10):\n",
    "    data = u'Message number {}'.format(n)\n",
    "    # Data must be a bytestring\n",
    "    data = data.encode('utf-8')\n",
    "    future = publisher.publish(topic_path, data=data)\n",
    "    print(future.result())\n",
    "\n",
    "print('Published messages with batch settings.')"
   ]
  },
  {
   "cell_type": "markdown",
   "metadata": {},
   "source": [
    "Y por último, vamos a leer esos datos mediante nuestra `suscripción` (`subscription`)\n",
    "\n",
    "Para ello, tenemos que llenar los campos:\n",
    " - `project_id`\n",
    " - `subscription_name`\n",
    " \n",
    "Con los datos de nuestro proyecto/suscripción"
   ]
  },
  {
   "cell_type": "code",
   "execution_count": null,
   "metadata": {},
   "outputs": [],
   "source": [
    "# from google.cloud import pubsub_v1\n",
    "\n",
    "# TODO especificar 'project_id' y 'subscription_name'\n",
    "project_id = '___________________'\n",
    "subscription_name = '___________________'################################ se encuentra en PubSub -> Suscripciones-> Id de suscripción\n",
    "\n",
    "client = pubsub_v1.SubscriberClient()\n",
    "subscription = client.subscription_path(project_id, subscription_name)\n",
    "\n",
    "\n",
    "# Llamada a PubSub\n",
    "response = client.pull(subscription, 1)  # Número de mensajes que vamos a recibir (puede que no se descarguen todos a la vez)\n",
    "\n",
    "print(response)"
   ]
  }
 ],
 "metadata": {
  "kernelspec": {
   "display_name": "Python 3",
   "language": "python",
   "name": "python3"
  },
  "language_info": {
   "codemirror_mode": {
    "name": "ipython",
    "version": 3
   },
   "file_extension": ".py",
   "mimetype": "text/x-python",
   "name": "python",
   "nbconvert_exporter": "python",
   "pygments_lexer": "ipython3",
   "version": "3.7.4"
  },
  "varInspector": {
   "cols": {
    "lenName": 16,
    "lenType": 16,
    "lenVar": 40
   },
   "kernels_config": {
    "python": {
     "delete_cmd_postfix": "",
     "delete_cmd_prefix": "del ",
     "library": "var_list.py",
     "varRefreshCmd": "print(var_dic_list())"
    },
    "r": {
     "delete_cmd_postfix": ") ",
     "delete_cmd_prefix": "rm(",
     "library": "var_list.r",
     "varRefreshCmd": "cat(var_dic_list()) "
    }
   },
   "types_to_exclude": [
    "module",
    "function",
    "builtin_function_or_method",
    "instance",
    "_Feature"
   ],
   "window_display": false
  }
 },
 "nbformat": 4,
 "nbformat_minor": 2
}
