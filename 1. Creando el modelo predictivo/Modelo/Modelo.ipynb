{
 "cells": [
  {
   "cell_type": "markdown",
   "metadata": {},
   "source": [
    "# Creando el modelo de regresión\n",
    "\n",
    "En este apartado cargaremos los datos históricos y crearemos un modelo de regresión para hacer los cálculos de predicción. Para este ejemplo, utilizaremos el modelo SVR (`Support Vector Regression` del módulo de [scikit-learn](https://scikit-learn.org/stable/index.html) de [Python](https://www.python.org/): [sklearn.svm.SVR](https://scikit-learn.org/stable/modules/generated/sklearn.svm.SVR.html)), pero se podrían utilizar otros modelos de regresión para comparar los resultados.\n",
    "\n",
    "Los pasos que se seguirán en este *notebook* son los siguientes:\n",
    "\n",
    " 1. [Carga de datos históricos](#Carga-de-datos-históricos)\n",
    " 2. [Preparación de los datos](#Preparación-de-los-datos)\n",
    " 3. [Normalización](#Normalización)\n",
    " 4. [Añadiendo información a los datos de entrada](#Añadiendo-información-a-los-datos-de-entrada)\n",
    " 5. [Training/Test/Validation Set](#Training/Test/Validation-Set)\n",
    " 6. [Creando el modelo](#Creando-el-modelo)\n",
    " 7. [Visualizando los resultados](#Visualizando-los-resultados)\n",
    "\n",
    "## Carga de datos históricos\n",
    "\n",
    "Vamos a empezar cargando los datos:"
   ]
  },
  {
   "cell_type": "code",
   "execution_count": 3,
   "metadata": {
    "ExecuteTime": {
     "end_time": "2019-11-18T08:44:11.253319Z",
     "start_time": "2019-11-18T08:44:02.604299Z"
    }
   },
   "outputs": [],
   "source": [
    "import pandas as pd\n",
    "\n",
    "df = pd.read_csv('C:/Users/alberto.irusta/Desktop/prevision-dia-tiempo-real/1. Creando el modelo predictivo/Datos/TXT_Simulación_datos_2019-01-01_2019-12-31.txt',\n",
    "                 parse_dates=['ticketDate'])\n",
    "\n",
    "\n",
    "\n",
    "df.rename(columns={\"ticketDate\": \"Fecha\", \"amount\": \"Importe\"}, inplace=True)\n",
    "\n",
    "df = df[df['Fecha'] >= '2018-01-01']"
   ]
  },
  {
   "cell_type": "markdown",
   "metadata": {},
   "source": [
    "Nuestros `dataframe` de momento sólo contiene 2 columnas:\n",
    "\n",
    " - `Fecha`: día y hora de la emisión del ticket (formato `%Y-%m-%d %H:%M:%S`)\n",
    " - `Importe`: importe del ticket en €"
   ]
  },
  {
   "cell_type": "code",
   "execution_count": 4,
   "metadata": {
    "ExecuteTime": {
     "end_time": "2019-11-18T08:44:11.275028Z",
     "start_time": "2019-11-18T08:44:11.255081Z"
    }
   },
   "outputs": [
    {
     "data": {
      "text/html": [
       "<div>\n",
       "<style scoped>\n",
       "    .dataframe tbody tr th:only-of-type {\n",
       "        vertical-align: middle;\n",
       "    }\n",
       "\n",
       "    .dataframe tbody tr th {\n",
       "        vertical-align: top;\n",
       "    }\n",
       "\n",
       "    .dataframe thead th {\n",
       "        text-align: right;\n",
       "    }\n",
       "</style>\n",
       "<table border=\"1\" class=\"dataframe\">\n",
       "  <thead>\n",
       "    <tr style=\"text-align: right;\">\n",
       "      <th></th>\n",
       "      <th>Fecha</th>\n",
       "      <th>Importe</th>\n",
       "    </tr>\n",
       "  </thead>\n",
       "  <tbody>\n",
       "    <tr>\n",
       "      <td>142779</td>\n",
       "      <td>2019-12-31 23:07:00</td>\n",
       "      <td>3665765.03</td>\n",
       "    </tr>\n",
       "    <tr>\n",
       "      <td>142780</td>\n",
       "      <td>2019-12-31 23:09:00</td>\n",
       "      <td>3688284.50</td>\n",
       "    </tr>\n",
       "    <tr>\n",
       "      <td>142781</td>\n",
       "      <td>2019-12-31 23:11:00</td>\n",
       "      <td>3710922.43</td>\n",
       "    </tr>\n",
       "    <tr>\n",
       "      <td>142782</td>\n",
       "      <td>2019-12-31 23:15:00</td>\n",
       "      <td>3756555.76</td>\n",
       "    </tr>\n",
       "    <tr>\n",
       "      <td>142783</td>\n",
       "      <td>2019-12-31 23:48:00</td>\n",
       "      <td>4151740.92</td>\n",
       "    </tr>\n",
       "  </tbody>\n",
       "</table>\n",
       "</div>"
      ],
      "text/plain": [
       "                     Fecha     Importe\n",
       "142779 2019-12-31 23:07:00  3665765.03\n",
       "142780 2019-12-31 23:09:00  3688284.50\n",
       "142781 2019-12-31 23:11:00  3710922.43\n",
       "142782 2019-12-31 23:15:00  3756555.76\n",
       "142783 2019-12-31 23:48:00  4151740.92"
      ]
     },
     "execution_count": 4,
     "metadata": {},
     "output_type": "execute_result"
    }
   ],
   "source": [
    "df.tail()"
   ]
  },
  {
   "cell_type": "markdown",
   "metadata": {},
   "source": [
    "y el tipo de dato que contiene cada columna:\n",
    " - `Fecha`: tipo de dato `datetime`\n",
    " - `Importe`: tipo de dato `float`"
   ]
  },
  {
   "cell_type": "code",
   "execution_count": 5,
   "metadata": {
    "ExecuteTime": {
     "end_time": "2019-11-18T08:44:11.416597Z",
     "start_time": "2019-11-18T08:44:11.277023Z"
    }
   },
   "outputs": [
    {
     "name": "stdout",
     "output_type": "stream",
     "text": [
      "<class 'pandas.core.frame.DataFrame'>\n",
      "Int64Index: 142784 entries, 0 to 142783\n",
      "Data columns (total 2 columns):\n",
      "Fecha      142784 non-null datetime64[ns]\n",
      "Importe    142784 non-null float64\n",
      "dtypes: datetime64[ns](1), float64(1)\n",
      "memory usage: 3.3 MB\n"
     ]
    }
   ],
   "source": [
    "df.info()"
   ]
  },
  {
   "cell_type": "markdown",
   "metadata": {},
   "source": [
    "## Preparación de los datos\n",
    "\n",
    "Como se ha indicado al inicio, el objetivo es crear un modelo de **regresión**, por lo que tenemos que preparar los datos de forma que tengamos unos datos de entrada $X$ y otros de salida $Y$.\n",
    "\n",
    "Para ello, vamos a intentar transformar nuestro `dataframe` para que tenga un formato similar a la siguiente tabla (en donde las ventas se van acumulando cada 15 minutos):\n",
    "\n",
    "| Dia | 09:00 | 09:15 | 09:30 | ... | 21:30 | 21:45 | 22:00 |\n",
    "| --- | --- | --- | --- | --- | --- | --- | --- |\n",
    "| 2019-09-26 | 0 | 20 000 | 51 000 | ... | 5 000 000 | 5 000 100 | 5 000 150 |\n",
    "| 2019-09-27 | 0 | 20 200 | 51 400 | ... | 5 500 000 | 5 500 100 | 5 500 150 |\n",
    "| 2019-09-28 | 0 | 23 000 | 53 000 | ... | 6 000 000 | 6 000 100 | 6 000 150 |\n",
    "\n",
    "De esta manera, tendríamos los datos de entrada $X$ (en el que se introducirán más variables):\n",
    "\n",
    "| 09:00 | 09:15 | 09:30 | ... | 21:30 | 21:45 |\n",
    "| --- | --- | --- | --- | --- | --- |\n",
    "| 0 | 20 000 | 51 000 | ... | 5 000 000 | 5 000 100 |\n",
    "| 0 | 20 200 | 51 400 | ... | 5 500 000 | 5 500 100 |\n",
    "| 0 | 23 000 | 53 000 | ... | 6 000 000 | 6 000 100 |\n",
    "\n",
    "Y los datos de salida $Y$:\n",
    "\n",
    "| 22:00 |\n",
    "| --- |\n",
    "| 5 000 150 |\n",
    "| 5 500 150 |\n",
    "| 6 000 150 |\n",
    "\n",
    "Este es un ejemplo ilustrativo, ya que se contabilizan compras fueras del rango usual laboral (compras online u horarios especiales).\n",
    "\n",
    "Para preparar esa tabla, vamos a empezar agregando las ventas en intervalos de 15 minutos:"
   ]
  },
  {
   "cell_type": "code",
   "execution_count": 6,
   "metadata": {
    "ExecuteTime": {
     "end_time": "2019-11-18T08:44:11.471563Z",
     "start_time": "2019-11-18T08:44:11.418563Z"
    }
   },
   "outputs": [
    {
     "data": {
      "text/html": [
       "<div>\n",
       "<style scoped>\n",
       "    .dataframe tbody tr th:only-of-type {\n",
       "        vertical-align: middle;\n",
       "    }\n",
       "\n",
       "    .dataframe tbody tr th {\n",
       "        vertical-align: top;\n",
       "    }\n",
       "\n",
       "    .dataframe thead th {\n",
       "        text-align: right;\n",
       "    }\n",
       "</style>\n",
       "<table border=\"1\" class=\"dataframe\">\n",
       "  <thead>\n",
       "    <tr style=\"text-align: right;\">\n",
       "      <th></th>\n",
       "      <th>Importe</th>\n",
       "    </tr>\n",
       "    <tr>\n",
       "      <th>Fecha</th>\n",
       "      <th></th>\n",
       "    </tr>\n",
       "  </thead>\n",
       "  <tbody>\n",
       "    <tr>\n",
       "      <td>2019-12-31 22:45:00</td>\n",
       "      <td>3061963.21</td>\n",
       "    </tr>\n",
       "    <tr>\n",
       "      <td>2019-12-31 23:00:00</td>\n",
       "      <td>18340542.26</td>\n",
       "    </tr>\n",
       "    <tr>\n",
       "      <td>2019-12-31 23:15:00</td>\n",
       "      <td>3756555.76</td>\n",
       "    </tr>\n",
       "    <tr>\n",
       "      <td>2019-12-31 23:30:00</td>\n",
       "      <td>0.00</td>\n",
       "    </tr>\n",
       "    <tr>\n",
       "      <td>2019-12-31 23:45:00</td>\n",
       "      <td>4151740.92</td>\n",
       "    </tr>\n",
       "  </tbody>\n",
       "</table>\n",
       "</div>"
      ],
      "text/plain": [
       "                         Importe\n",
       "Fecha                           \n",
       "2019-12-31 22:45:00   3061963.21\n",
       "2019-12-31 23:00:00  18340542.26\n",
       "2019-12-31 23:15:00   3756555.76\n",
       "2019-12-31 23:30:00         0.00\n",
       "2019-12-31 23:45:00   4151740.92"
      ]
     },
     "execution_count": 6,
     "metadata": {},
     "output_type": "execute_result"
    }
   ],
   "source": [
    "df.index = df.pop('Fecha')\n",
    "df = df.resample('15T').sum()\n",
    "\n",
    "df.tail()"
   ]
  },
  {
   "cell_type": "markdown",
   "metadata": {},
   "source": [
    "Continuaremos desglosando la `Fecha` en 2 nuevas columnas:\n",
    " - `Dia`\n",
    " - `Hora`"
   ]
  },
  {
   "cell_type": "code",
   "execution_count": 7,
   "metadata": {
    "ExecuteTime": {
     "end_time": "2019-11-18T08:44:11.989191Z",
     "start_time": "2019-11-18T08:44:11.474525Z"
    }
   },
   "outputs": [
    {
     "data": {
      "text/html": [
       "<div>\n",
       "<style scoped>\n",
       "    .dataframe tbody tr th:only-of-type {\n",
       "        vertical-align: middle;\n",
       "    }\n",
       "\n",
       "    .dataframe tbody tr th {\n",
       "        vertical-align: top;\n",
       "    }\n",
       "\n",
       "    .dataframe thead th {\n",
       "        text-align: right;\n",
       "    }\n",
       "</style>\n",
       "<table border=\"1\" class=\"dataframe\">\n",
       "  <thead>\n",
       "    <tr style=\"text-align: right;\">\n",
       "      <th></th>\n",
       "      <th>Importe</th>\n",
       "      <th>Dia</th>\n",
       "      <th>Hora</th>\n",
       "    </tr>\n",
       "    <tr>\n",
       "      <th>Fecha</th>\n",
       "      <th></th>\n",
       "      <th></th>\n",
       "      <th></th>\n",
       "    </tr>\n",
       "  </thead>\n",
       "  <tbody>\n",
       "    <tr>\n",
       "      <td>2019-12-31 22:45:00</td>\n",
       "      <td>3061963.21</td>\n",
       "      <td>2019-12-31</td>\n",
       "      <td>22:45</td>\n",
       "    </tr>\n",
       "    <tr>\n",
       "      <td>2019-12-31 23:00:00</td>\n",
       "      <td>18340542.26</td>\n",
       "      <td>2019-12-31</td>\n",
       "      <td>23:00</td>\n",
       "    </tr>\n",
       "    <tr>\n",
       "      <td>2019-12-31 23:15:00</td>\n",
       "      <td>3756555.76</td>\n",
       "      <td>2019-12-31</td>\n",
       "      <td>23:15</td>\n",
       "    </tr>\n",
       "    <tr>\n",
       "      <td>2019-12-31 23:30:00</td>\n",
       "      <td>0.00</td>\n",
       "      <td>2019-12-31</td>\n",
       "      <td>23:30</td>\n",
       "    </tr>\n",
       "    <tr>\n",
       "      <td>2019-12-31 23:45:00</td>\n",
       "      <td>4151740.92</td>\n",
       "      <td>2019-12-31</td>\n",
       "      <td>23:45</td>\n",
       "    </tr>\n",
       "  </tbody>\n",
       "</table>\n",
       "</div>"
      ],
      "text/plain": [
       "                         Importe         Dia   Hora\n",
       "Fecha                                              \n",
       "2019-12-31 22:45:00   3061963.21  2019-12-31  22:45\n",
       "2019-12-31 23:00:00  18340542.26  2019-12-31  23:00\n",
       "2019-12-31 23:15:00   3756555.76  2019-12-31  23:15\n",
       "2019-12-31 23:30:00         0.00  2019-12-31  23:30\n",
       "2019-12-31 23:45:00   4151740.92  2019-12-31  23:45"
      ]
     },
     "execution_count": 7,
     "metadata": {},
     "output_type": "execute_result"
    }
   ],
   "source": [
    "df['Dia'] = df.index.map(lambda x: x.strftime('%Y-%m-%d'))\n",
    "df['Hora'] = df.index.map(lambda x: x.strftime('%H:%M'))\n",
    "\n",
    "df.tail()"
   ]
  },
  {
   "cell_type": "markdown",
   "metadata": {},
   "source": [
    "Ahora ya estamos listos para formatear nuestro `dataframe`, para ello utilizaremos la función [crosstab](https://pandas.pydata.org/pandas-docs/stable/reference/api/pandas.crosstab.html) del módulo de [pandas](https://pandas.pydata.org/pandas-docs/stable/index.html):"
   ]
  },
  {
   "cell_type": "code",
   "execution_count": 8,
   "metadata": {
    "ExecuteTime": {
     "end_time": "2019-11-18T08:44:12.056001Z",
     "start_time": "2019-11-18T08:44:11.991145Z"
    }
   },
   "outputs": [
    {
     "data": {
      "text/html": [
       "<div>\n",
       "<style scoped>\n",
       "    .dataframe tbody tr th:only-of-type {\n",
       "        vertical-align: middle;\n",
       "    }\n",
       "\n",
       "    .dataframe tbody tr th {\n",
       "        vertical-align: top;\n",
       "    }\n",
       "\n",
       "    .dataframe thead th {\n",
       "        text-align: right;\n",
       "    }\n",
       "</style>\n",
       "<table border=\"1\" class=\"dataframe\">\n",
       "  <thead>\n",
       "    <tr style=\"text-align: right;\">\n",
       "      <th>Hora</th>\n",
       "      <th>00:00</th>\n",
       "      <th>00:15</th>\n",
       "      <th>00:30</th>\n",
       "      <th>00:45</th>\n",
       "      <th>01:00</th>\n",
       "      <th>01:15</th>\n",
       "      <th>01:30</th>\n",
       "      <th>01:45</th>\n",
       "      <th>02:00</th>\n",
       "      <th>02:15</th>\n",
       "      <th>...</th>\n",
       "      <th>21:30</th>\n",
       "      <th>21:45</th>\n",
       "      <th>22:00</th>\n",
       "      <th>22:15</th>\n",
       "      <th>22:30</th>\n",
       "      <th>22:45</th>\n",
       "      <th>23:00</th>\n",
       "      <th>23:15</th>\n",
       "      <th>23:30</th>\n",
       "      <th>23:45</th>\n",
       "    </tr>\n",
       "    <tr>\n",
       "      <th>Dia</th>\n",
       "      <th></th>\n",
       "      <th></th>\n",
       "      <th></th>\n",
       "      <th></th>\n",
       "      <th></th>\n",
       "      <th></th>\n",
       "      <th></th>\n",
       "      <th></th>\n",
       "      <th></th>\n",
       "      <th></th>\n",
       "      <th></th>\n",
       "      <th></th>\n",
       "      <th></th>\n",
       "      <th></th>\n",
       "      <th></th>\n",
       "      <th></th>\n",
       "      <th></th>\n",
       "      <th></th>\n",
       "      <th></th>\n",
       "      <th></th>\n",
       "      <th></th>\n",
       "    </tr>\n",
       "  </thead>\n",
       "  <tbody>\n",
       "    <tr>\n",
       "      <td>2019-12-27</td>\n",
       "      <td>0.0</td>\n",
       "      <td>0.0</td>\n",
       "      <td>0.0</td>\n",
       "      <td>22.22</td>\n",
       "      <td>0.00</td>\n",
       "      <td>20.66</td>\n",
       "      <td>24.61</td>\n",
       "      <td>0.00</td>\n",
       "      <td>0.00</td>\n",
       "      <td>0.00</td>\n",
       "      <td>...</td>\n",
       "      <td>14195449.59</td>\n",
       "      <td>18674753.26</td>\n",
       "      <td>8830466.20</td>\n",
       "      <td>6993437.32</td>\n",
       "      <td>12271717.33</td>\n",
       "      <td>12893667.68</td>\n",
       "      <td>3102882.89</td>\n",
       "      <td>6234078.90</td>\n",
       "      <td>6682340.35</td>\n",
       "      <td>3468545.16</td>\n",
       "    </tr>\n",
       "    <tr>\n",
       "      <td>2019-12-28</td>\n",
       "      <td>0.0</td>\n",
       "      <td>0.0</td>\n",
       "      <td>0.0</td>\n",
       "      <td>0.00</td>\n",
       "      <td>49.14</td>\n",
       "      <td>0.00</td>\n",
       "      <td>0.00</td>\n",
       "      <td>21.09</td>\n",
       "      <td>23.44</td>\n",
       "      <td>11.83</td>\n",
       "      <td>...</td>\n",
       "      <td>9801415.28</td>\n",
       "      <td>6472283.75</td>\n",
       "      <td>6183345.05</td>\n",
       "      <td>6461520.56</td>\n",
       "      <td>10115455.06</td>\n",
       "      <td>10656593.21</td>\n",
       "      <td>4225363.76</td>\n",
       "      <td>11077258.09</td>\n",
       "      <td>6942534.29</td>\n",
       "      <td>7249797.96</td>\n",
       "    </tr>\n",
       "    <tr>\n",
       "      <td>2019-12-29</td>\n",
       "      <td>0.0</td>\n",
       "      <td>0.0</td>\n",
       "      <td>0.0</td>\n",
       "      <td>0.00</td>\n",
       "      <td>0.00</td>\n",
       "      <td>0.00</td>\n",
       "      <td>0.00</td>\n",
       "      <td>0.00</td>\n",
       "      <td>12.84</td>\n",
       "      <td>27.67</td>\n",
       "      <td>...</td>\n",
       "      <td>165822.22</td>\n",
       "      <td>172745.76</td>\n",
       "      <td>69842.53</td>\n",
       "      <td>109633.70</td>\n",
       "      <td>190308.41</td>\n",
       "      <td>120219.28</td>\n",
       "      <td>189956.15</td>\n",
       "      <td>99035.39</td>\n",
       "      <td>103569.34</td>\n",
       "      <td>55646.60</td>\n",
       "    </tr>\n",
       "    <tr>\n",
       "      <td>2019-12-30</td>\n",
       "      <td>0.0</td>\n",
       "      <td>0.0</td>\n",
       "      <td>0.0</td>\n",
       "      <td>0.00</td>\n",
       "      <td>0.00</td>\n",
       "      <td>0.00</td>\n",
       "      <td>0.00</td>\n",
       "      <td>0.00</td>\n",
       "      <td>0.00</td>\n",
       "      <td>0.00</td>\n",
       "      <td>...</td>\n",
       "      <td>9982709.16</td>\n",
       "      <td>10510408.86</td>\n",
       "      <td>8953719.48</td>\n",
       "      <td>11281191.27</td>\n",
       "      <td>0.00</td>\n",
       "      <td>4084556.12</td>\n",
       "      <td>4832984.90</td>\n",
       "      <td>2544430.12</td>\n",
       "      <td>5341264.15</td>\n",
       "      <td>2793031.34</td>\n",
       "    </tr>\n",
       "    <tr>\n",
       "      <td>2019-12-31</td>\n",
       "      <td>19.1</td>\n",
       "      <td>0.0</td>\n",
       "      <td>0.0</td>\n",
       "      <td>18.02</td>\n",
       "      <td>0.00</td>\n",
       "      <td>0.00</td>\n",
       "      <td>0.00</td>\n",
       "      <td>0.00</td>\n",
       "      <td>0.00</td>\n",
       "      <td>0.00</td>\n",
       "      <td>...</td>\n",
       "      <td>8471703.79</td>\n",
       "      <td>11232695.65</td>\n",
       "      <td>2620354.22</td>\n",
       "      <td>5640719.84</td>\n",
       "      <td>5887374.00</td>\n",
       "      <td>3061963.21</td>\n",
       "      <td>18340542.26</td>\n",
       "      <td>3756555.76</td>\n",
       "      <td>0.00</td>\n",
       "      <td>4151740.92</td>\n",
       "    </tr>\n",
       "  </tbody>\n",
       "</table>\n",
       "<p>5 rows × 96 columns</p>\n",
       "</div>"
      ],
      "text/plain": [
       "Hora        00:00  00:15  00:30  00:45  01:00  01:15  01:30  01:45  02:00  \\\n",
       "Dia                                                                         \n",
       "2019-12-27    0.0    0.0    0.0  22.22   0.00  20.66  24.61   0.00   0.00   \n",
       "2019-12-28    0.0    0.0    0.0   0.00  49.14   0.00   0.00  21.09  23.44   \n",
       "2019-12-29    0.0    0.0    0.0   0.00   0.00   0.00   0.00   0.00  12.84   \n",
       "2019-12-30    0.0    0.0    0.0   0.00   0.00   0.00   0.00   0.00   0.00   \n",
       "2019-12-31   19.1    0.0    0.0  18.02   0.00   0.00   0.00   0.00   0.00   \n",
       "\n",
       "Hora        02:15  ...        21:30        21:45       22:00        22:15  \\\n",
       "Dia                ...                                                      \n",
       "2019-12-27   0.00  ...  14195449.59  18674753.26  8830466.20   6993437.32   \n",
       "2019-12-28  11.83  ...   9801415.28   6472283.75  6183345.05   6461520.56   \n",
       "2019-12-29  27.67  ...    165822.22    172745.76    69842.53    109633.70   \n",
       "2019-12-30   0.00  ...   9982709.16  10510408.86  8953719.48  11281191.27   \n",
       "2019-12-31   0.00  ...   8471703.79  11232695.65  2620354.22   5640719.84   \n",
       "\n",
       "Hora              22:30        22:45        23:00        23:15       23:30  \\\n",
       "Dia                                                                          \n",
       "2019-12-27  12271717.33  12893667.68   3102882.89   6234078.90  6682340.35   \n",
       "2019-12-28  10115455.06  10656593.21   4225363.76  11077258.09  6942534.29   \n",
       "2019-12-29    190308.41    120219.28    189956.15     99035.39   103569.34   \n",
       "2019-12-30         0.00   4084556.12   4832984.90   2544430.12  5341264.15   \n",
       "2019-12-31   5887374.00   3061963.21  18340542.26   3756555.76        0.00   \n",
       "\n",
       "Hora             23:45  \n",
       "Dia                     \n",
       "2019-12-27  3468545.16  \n",
       "2019-12-28  7249797.96  \n",
       "2019-12-29    55646.60  \n",
       "2019-12-30  2793031.34  \n",
       "2019-12-31  4151740.92  \n",
       "\n",
       "[5 rows x 96 columns]"
      ]
     },
     "execution_count": 8,
     "metadata": {},
     "output_type": "execute_result"
    }
   ],
   "source": [
    "df = pd.crosstab(index=df['Dia'],\n",
    "                 columns=[df['Hora']],\n",
    "                 values=df.Importe,\n",
    "                 aggfunc=sum).fillna(0).reset_index()\n",
    "\n",
    "df.set_index('Dia', inplace=True)\n",
    "\n",
    "df.tail()"
   ]
  },
  {
   "cell_type": "markdown",
   "metadata": {},
   "source": [
    "Para finalizar con esta parte, vamos hacer la suma acumulada de cada fila:"
   ]
  },
  {
   "cell_type": "code",
   "execution_count": 9,
   "metadata": {
    "ExecuteTime": {
     "end_time": "2019-11-18T08:44:12.100861Z",
     "start_time": "2019-11-18T08:44:12.058966Z"
    }
   },
   "outputs": [
    {
     "data": {
      "text/html": [
       "<div>\n",
       "<style scoped>\n",
       "    .dataframe tbody tr th:only-of-type {\n",
       "        vertical-align: middle;\n",
       "    }\n",
       "\n",
       "    .dataframe tbody tr th {\n",
       "        vertical-align: top;\n",
       "    }\n",
       "\n",
       "    .dataframe thead th {\n",
       "        text-align: right;\n",
       "    }\n",
       "</style>\n",
       "<table border=\"1\" class=\"dataframe\">\n",
       "  <thead>\n",
       "    <tr style=\"text-align: right;\">\n",
       "      <th>Hora</th>\n",
       "      <th>00:00</th>\n",
       "      <th>00:15</th>\n",
       "      <th>00:30</th>\n",
       "      <th>00:45</th>\n",
       "      <th>01:00</th>\n",
       "      <th>01:15</th>\n",
       "      <th>01:30</th>\n",
       "      <th>01:45</th>\n",
       "      <th>02:00</th>\n",
       "      <th>02:15</th>\n",
       "      <th>...</th>\n",
       "      <th>21:30</th>\n",
       "      <th>21:45</th>\n",
       "      <th>22:00</th>\n",
       "      <th>22:15</th>\n",
       "      <th>22:30</th>\n",
       "      <th>22:45</th>\n",
       "      <th>23:00</th>\n",
       "      <th>23:15</th>\n",
       "      <th>23:30</th>\n",
       "      <th>23:45</th>\n",
       "    </tr>\n",
       "    <tr>\n",
       "      <th>Dia</th>\n",
       "      <th></th>\n",
       "      <th></th>\n",
       "      <th></th>\n",
       "      <th></th>\n",
       "      <th></th>\n",
       "      <th></th>\n",
       "      <th></th>\n",
       "      <th></th>\n",
       "      <th></th>\n",
       "      <th></th>\n",
       "      <th></th>\n",
       "      <th></th>\n",
       "      <th></th>\n",
       "      <th></th>\n",
       "      <th></th>\n",
       "      <th></th>\n",
       "      <th></th>\n",
       "      <th></th>\n",
       "      <th></th>\n",
       "      <th></th>\n",
       "      <th></th>\n",
       "    </tr>\n",
       "  </thead>\n",
       "  <tbody>\n",
       "    <tr>\n",
       "      <td>2019-12-27</td>\n",
       "      <td>0.0</td>\n",
       "      <td>0.0</td>\n",
       "      <td>0.0</td>\n",
       "      <td>22.22</td>\n",
       "      <td>22.22</td>\n",
       "      <td>42.88</td>\n",
       "      <td>67.49</td>\n",
       "      <td>67.49</td>\n",
       "      <td>67.49</td>\n",
       "      <td>67.49</td>\n",
       "      <td>...</td>\n",
       "      <td>1.464971e+08</td>\n",
       "      <td>1.651718e+08</td>\n",
       "      <td>1.740023e+08</td>\n",
       "      <td>1.809957e+08</td>\n",
       "      <td>1.932675e+08</td>\n",
       "      <td>2.061611e+08</td>\n",
       "      <td>2.092640e+08</td>\n",
       "      <td>2.154981e+08</td>\n",
       "      <td>2.221804e+08</td>\n",
       "      <td>2.256490e+08</td>\n",
       "    </tr>\n",
       "    <tr>\n",
       "      <td>2019-12-28</td>\n",
       "      <td>0.0</td>\n",
       "      <td>0.0</td>\n",
       "      <td>0.0</td>\n",
       "      <td>0.00</td>\n",
       "      <td>49.14</td>\n",
       "      <td>49.14</td>\n",
       "      <td>49.14</td>\n",
       "      <td>70.23</td>\n",
       "      <td>93.67</td>\n",
       "      <td>105.50</td>\n",
       "      <td>...</td>\n",
       "      <td>9.066097e+07</td>\n",
       "      <td>9.713325e+07</td>\n",
       "      <td>1.033166e+08</td>\n",
       "      <td>1.097781e+08</td>\n",
       "      <td>1.198936e+08</td>\n",
       "      <td>1.305502e+08</td>\n",
       "      <td>1.347755e+08</td>\n",
       "      <td>1.458528e+08</td>\n",
       "      <td>1.527953e+08</td>\n",
       "      <td>1.600451e+08</td>\n",
       "    </tr>\n",
       "    <tr>\n",
       "      <td>2019-12-29</td>\n",
       "      <td>0.0</td>\n",
       "      <td>0.0</td>\n",
       "      <td>0.0</td>\n",
       "      <td>0.00</td>\n",
       "      <td>0.00</td>\n",
       "      <td>0.00</td>\n",
       "      <td>0.00</td>\n",
       "      <td>0.00</td>\n",
       "      <td>12.84</td>\n",
       "      <td>40.51</td>\n",
       "      <td>...</td>\n",
       "      <td>2.015264e+06</td>\n",
       "      <td>2.188010e+06</td>\n",
       "      <td>2.257853e+06</td>\n",
       "      <td>2.367486e+06</td>\n",
       "      <td>2.557795e+06</td>\n",
       "      <td>2.678014e+06</td>\n",
       "      <td>2.867970e+06</td>\n",
       "      <td>2.967005e+06</td>\n",
       "      <td>3.070575e+06</td>\n",
       "      <td>3.126221e+06</td>\n",
       "    </tr>\n",
       "    <tr>\n",
       "      <td>2019-12-30</td>\n",
       "      <td>0.0</td>\n",
       "      <td>0.0</td>\n",
       "      <td>0.0</td>\n",
       "      <td>0.00</td>\n",
       "      <td>0.00</td>\n",
       "      <td>0.00</td>\n",
       "      <td>0.00</td>\n",
       "      <td>0.00</td>\n",
       "      <td>0.00</td>\n",
       "      <td>0.00</td>\n",
       "      <td>...</td>\n",
       "      <td>1.154936e+08</td>\n",
       "      <td>1.260040e+08</td>\n",
       "      <td>1.349578e+08</td>\n",
       "      <td>1.462390e+08</td>\n",
       "      <td>1.462390e+08</td>\n",
       "      <td>1.503235e+08</td>\n",
       "      <td>1.551565e+08</td>\n",
       "      <td>1.577009e+08</td>\n",
       "      <td>1.630422e+08</td>\n",
       "      <td>1.658352e+08</td>\n",
       "    </tr>\n",
       "    <tr>\n",
       "      <td>2019-12-31</td>\n",
       "      <td>19.1</td>\n",
       "      <td>19.1</td>\n",
       "      <td>19.1</td>\n",
       "      <td>37.12</td>\n",
       "      <td>37.12</td>\n",
       "      <td>37.12</td>\n",
       "      <td>37.12</td>\n",
       "      <td>37.12</td>\n",
       "      <td>37.12</td>\n",
       "      <td>37.12</td>\n",
       "      <td>...</td>\n",
       "      <td>1.262170e+08</td>\n",
       "      <td>1.374497e+08</td>\n",
       "      <td>1.400701e+08</td>\n",
       "      <td>1.457108e+08</td>\n",
       "      <td>1.515982e+08</td>\n",
       "      <td>1.546601e+08</td>\n",
       "      <td>1.730007e+08</td>\n",
       "      <td>1.767572e+08</td>\n",
       "      <td>1.767572e+08</td>\n",
       "      <td>1.809090e+08</td>\n",
       "    </tr>\n",
       "  </tbody>\n",
       "</table>\n",
       "<p>5 rows × 96 columns</p>\n",
       "</div>"
      ],
      "text/plain": [
       "Hora        00:00  00:15  00:30  00:45  01:00  01:15  01:30  01:45  02:00  \\\n",
       "Dia                                                                         \n",
       "2019-12-27    0.0    0.0    0.0  22.22  22.22  42.88  67.49  67.49  67.49   \n",
       "2019-12-28    0.0    0.0    0.0   0.00  49.14  49.14  49.14  70.23  93.67   \n",
       "2019-12-29    0.0    0.0    0.0   0.00   0.00   0.00   0.00   0.00  12.84   \n",
       "2019-12-30    0.0    0.0    0.0   0.00   0.00   0.00   0.00   0.00   0.00   \n",
       "2019-12-31   19.1   19.1   19.1  37.12  37.12  37.12  37.12  37.12  37.12   \n",
       "\n",
       "Hora         02:15  ...         21:30         21:45         22:00  \\\n",
       "Dia                 ...                                             \n",
       "2019-12-27   67.49  ...  1.464971e+08  1.651718e+08  1.740023e+08   \n",
       "2019-12-28  105.50  ...  9.066097e+07  9.713325e+07  1.033166e+08   \n",
       "2019-12-29   40.51  ...  2.015264e+06  2.188010e+06  2.257853e+06   \n",
       "2019-12-30    0.00  ...  1.154936e+08  1.260040e+08  1.349578e+08   \n",
       "2019-12-31   37.12  ...  1.262170e+08  1.374497e+08  1.400701e+08   \n",
       "\n",
       "Hora               22:15         22:30         22:45         23:00  \\\n",
       "Dia                                                                  \n",
       "2019-12-27  1.809957e+08  1.932675e+08  2.061611e+08  2.092640e+08   \n",
       "2019-12-28  1.097781e+08  1.198936e+08  1.305502e+08  1.347755e+08   \n",
       "2019-12-29  2.367486e+06  2.557795e+06  2.678014e+06  2.867970e+06   \n",
       "2019-12-30  1.462390e+08  1.462390e+08  1.503235e+08  1.551565e+08   \n",
       "2019-12-31  1.457108e+08  1.515982e+08  1.546601e+08  1.730007e+08   \n",
       "\n",
       "Hora               23:15         23:30         23:45  \n",
       "Dia                                                   \n",
       "2019-12-27  2.154981e+08  2.221804e+08  2.256490e+08  \n",
       "2019-12-28  1.458528e+08  1.527953e+08  1.600451e+08  \n",
       "2019-12-29  2.967005e+06  3.070575e+06  3.126221e+06  \n",
       "2019-12-30  1.577009e+08  1.630422e+08  1.658352e+08  \n",
       "2019-12-31  1.767572e+08  1.767572e+08  1.809090e+08  \n",
       "\n",
       "[5 rows x 96 columns]"
      ]
     },
     "execution_count": 9,
     "metadata": {},
     "output_type": "execute_result"
    }
   ],
   "source": [
    "df = df.cumsum(axis=1)\n",
    "\n",
    "df.tail()"
   ]
  },
  {
   "cell_type": "markdown",
   "metadata": {},
   "source": [
    "## Normalización\n",
    "\n",
    "Para la normalización de los datos vamos a dividir todos los campos por el máximo valor de la tabla. De esa manera, todos nuestros valores oscilarán entre 0 y 1."
   ]
  },
  {
   "cell_type": "code",
   "execution_count": 10,
   "metadata": {
    "ExecuteTime": {
     "end_time": "2019-11-18T08:44:12.183691Z",
     "start_time": "2019-11-18T08:44:12.103845Z"
    }
   },
   "outputs": [
    {
     "data": {
      "text/html": [
       "<div>\n",
       "<style scoped>\n",
       "    .dataframe tbody tr th:only-of-type {\n",
       "        vertical-align: middle;\n",
       "    }\n",
       "\n",
       "    .dataframe tbody tr th {\n",
       "        vertical-align: top;\n",
       "    }\n",
       "\n",
       "    .dataframe thead th {\n",
       "        text-align: right;\n",
       "    }\n",
       "</style>\n",
       "<table border=\"1\" class=\"dataframe\">\n",
       "  <thead>\n",
       "    <tr style=\"text-align: right;\">\n",
       "      <th>Hora</th>\n",
       "      <th>Dia</th>\n",
       "      <th>00:00</th>\n",
       "      <th>00:15</th>\n",
       "      <th>00:30</th>\n",
       "      <th>00:45</th>\n",
       "      <th>01:00</th>\n",
       "      <th>01:15</th>\n",
       "      <th>01:30</th>\n",
       "      <th>01:45</th>\n",
       "      <th>02:00</th>\n",
       "      <th>...</th>\n",
       "      <th>21:30</th>\n",
       "      <th>21:45</th>\n",
       "      <th>22:00</th>\n",
       "      <th>22:15</th>\n",
       "      <th>22:30</th>\n",
       "      <th>22:45</th>\n",
       "      <th>23:00</th>\n",
       "      <th>23:15</th>\n",
       "      <th>23:30</th>\n",
       "      <th>23:45</th>\n",
       "    </tr>\n",
       "  </thead>\n",
       "  <tbody>\n",
       "    <tr>\n",
       "      <td>360</td>\n",
       "      <td>2019-12-27</td>\n",
       "      <td>0.000000e+00</td>\n",
       "      <td>0.000000e+00</td>\n",
       "      <td>0.000000e+00</td>\n",
       "      <td>8.143098e-08</td>\n",
       "      <td>8.143098e-08</td>\n",
       "      <td>1.571449e-07</td>\n",
       "      <td>2.473347e-07</td>\n",
       "      <td>2.473347e-07</td>\n",
       "      <td>2.473347e-07</td>\n",
       "      <td>...</td>\n",
       "      <td>0.536877</td>\n",
       "      <td>0.605315</td>\n",
       "      <td>0.637677</td>\n",
       "      <td>0.663306</td>\n",
       "      <td>0.708279</td>\n",
       "      <td>0.755531</td>\n",
       "      <td>0.766902</td>\n",
       "      <td>0.789749</td>\n",
       "      <td>0.814238</td>\n",
       "      <td>0.826949</td>\n",
       "    </tr>\n",
       "    <tr>\n",
       "      <td>361</td>\n",
       "      <td>2019-12-28</td>\n",
       "      <td>0.000000e+00</td>\n",
       "      <td>0.000000e+00</td>\n",
       "      <td>0.000000e+00</td>\n",
       "      <td>0.000000e+00</td>\n",
       "      <td>1.800863e-07</td>\n",
       "      <td>1.800863e-07</td>\n",
       "      <td>1.800863e-07</td>\n",
       "      <td>2.573761e-07</td>\n",
       "      <td>3.432781e-07</td>\n",
       "      <td>...</td>\n",
       "      <td>0.332251</td>\n",
       "      <td>0.355970</td>\n",
       "      <td>0.378631</td>\n",
       "      <td>0.402311</td>\n",
       "      <td>0.439381</td>\n",
       "      <td>0.478435</td>\n",
       "      <td>0.493920</td>\n",
       "      <td>0.534516</td>\n",
       "      <td>0.559958</td>\n",
       "      <td>0.586527</td>\n",
       "    </tr>\n",
       "    <tr>\n",
       "      <td>362</td>\n",
       "      <td>2019-12-29</td>\n",
       "      <td>0.000000e+00</td>\n",
       "      <td>0.000000e+00</td>\n",
       "      <td>0.000000e+00</td>\n",
       "      <td>0.000000e+00</td>\n",
       "      <td>0.000000e+00</td>\n",
       "      <td>0.000000e+00</td>\n",
       "      <td>0.000000e+00</td>\n",
       "      <td>0.000000e+00</td>\n",
       "      <td>4.705553e-08</td>\n",
       "      <td>...</td>\n",
       "      <td>0.007385</td>\n",
       "      <td>0.008019</td>\n",
       "      <td>0.008274</td>\n",
       "      <td>0.008676</td>\n",
       "      <td>0.009374</td>\n",
       "      <td>0.009814</td>\n",
       "      <td>0.010510</td>\n",
       "      <td>0.010873</td>\n",
       "      <td>0.011253</td>\n",
       "      <td>0.011457</td>\n",
       "    </tr>\n",
       "    <tr>\n",
       "      <td>363</td>\n",
       "      <td>2019-12-30</td>\n",
       "      <td>0.000000e+00</td>\n",
       "      <td>0.000000e+00</td>\n",
       "      <td>0.000000e+00</td>\n",
       "      <td>0.000000e+00</td>\n",
       "      <td>0.000000e+00</td>\n",
       "      <td>0.000000e+00</td>\n",
       "      <td>0.000000e+00</td>\n",
       "      <td>0.000000e+00</td>\n",
       "      <td>0.000000e+00</td>\n",
       "      <td>...</td>\n",
       "      <td>0.423257</td>\n",
       "      <td>0.461775</td>\n",
       "      <td>0.494588</td>\n",
       "      <td>0.535931</td>\n",
       "      <td>0.535931</td>\n",
       "      <td>0.550900</td>\n",
       "      <td>0.568611</td>\n",
       "      <td>0.577936</td>\n",
       "      <td>0.597511</td>\n",
       "      <td>0.607746</td>\n",
       "    </tr>\n",
       "    <tr>\n",
       "      <td>364</td>\n",
       "      <td>2019-12-31</td>\n",
       "      <td>6.999693e-08</td>\n",
       "      <td>6.999693e-08</td>\n",
       "      <td>6.999693e-08</td>\n",
       "      <td>1.360359e-07</td>\n",
       "      <td>1.360359e-07</td>\n",
       "      <td>1.360359e-07</td>\n",
       "      <td>1.360359e-07</td>\n",
       "      <td>1.360359e-07</td>\n",
       "      <td>1.360359e-07</td>\n",
       "      <td>...</td>\n",
       "      <td>0.462555</td>\n",
       "      <td>0.503720</td>\n",
       "      <td>0.513323</td>\n",
       "      <td>0.533995</td>\n",
       "      <td>0.555571</td>\n",
       "      <td>0.566792</td>\n",
       "      <td>0.634006</td>\n",
       "      <td>0.647773</td>\n",
       "      <td>0.647773</td>\n",
       "      <td>0.662988</td>\n",
       "    </tr>\n",
       "  </tbody>\n",
       "</table>\n",
       "<p>5 rows × 97 columns</p>\n",
       "</div>"
      ],
      "text/plain": [
       "Hora         Dia         00:00         00:15         00:30         00:45  \\\n",
       "360   2019-12-27  0.000000e+00  0.000000e+00  0.000000e+00  8.143098e-08   \n",
       "361   2019-12-28  0.000000e+00  0.000000e+00  0.000000e+00  0.000000e+00   \n",
       "362   2019-12-29  0.000000e+00  0.000000e+00  0.000000e+00  0.000000e+00   \n",
       "363   2019-12-30  0.000000e+00  0.000000e+00  0.000000e+00  0.000000e+00   \n",
       "364   2019-12-31  6.999693e-08  6.999693e-08  6.999693e-08  1.360359e-07   \n",
       "\n",
       "Hora         01:00         01:15         01:30         01:45         02:00  \\\n",
       "360   8.143098e-08  1.571449e-07  2.473347e-07  2.473347e-07  2.473347e-07   \n",
       "361   1.800863e-07  1.800863e-07  1.800863e-07  2.573761e-07  3.432781e-07   \n",
       "362   0.000000e+00  0.000000e+00  0.000000e+00  0.000000e+00  4.705553e-08   \n",
       "363   0.000000e+00  0.000000e+00  0.000000e+00  0.000000e+00  0.000000e+00   \n",
       "364   1.360359e-07  1.360359e-07  1.360359e-07  1.360359e-07  1.360359e-07   \n",
       "\n",
       "Hora  ...     21:30     21:45     22:00     22:15     22:30     22:45  \\\n",
       "360   ...  0.536877  0.605315  0.637677  0.663306  0.708279  0.755531   \n",
       "361   ...  0.332251  0.355970  0.378631  0.402311  0.439381  0.478435   \n",
       "362   ...  0.007385  0.008019  0.008274  0.008676  0.009374  0.009814   \n",
       "363   ...  0.423257  0.461775  0.494588  0.535931  0.535931  0.550900   \n",
       "364   ...  0.462555  0.503720  0.513323  0.533995  0.555571  0.566792   \n",
       "\n",
       "Hora     23:00     23:15     23:30     23:45  \n",
       "360   0.766902  0.789749  0.814238  0.826949  \n",
       "361   0.493920  0.534516  0.559958  0.586527  \n",
       "362   0.010510  0.010873  0.011253  0.011457  \n",
       "363   0.568611  0.577936  0.597511  0.607746  \n",
       "364   0.634006  0.647773  0.647773  0.662988  \n",
       "\n",
       "[5 rows x 97 columns]"
      ]
     },
     "execution_count": 10,
     "metadata": {},
     "output_type": "execute_result"
    }
   ],
   "source": [
    "max_value = df['23:45'].max()\n",
    "df /= max_value\n",
    "df.reset_index(inplace=True)\n",
    "\n",
    "df.tail()"
   ]
  },
  {
   "cell_type": "markdown",
   "metadata": {},
   "source": [
    "## Añadiendo información a los datos de entrada\n",
    "\n",
    "Una vez que hemos preparado los datos para poder aplicar un modelo de regresión, vamos a añadir información adicional a los datos para intentar crear un modelo más afinado. En este caso vamos a añadir información de calendario:\n",
    "\n",
    " - Día de la semana\n",
    " - Días festivos\n",
    " \n",
    "Esas nuevas variables van a ser variables **categóricas** por lo que crearemos [variables *dummy*](https://medium.com/hugo-ferreiras-blog/dealing-with-categorical-features-in-machine-learning-1bb70f07262d) para introducirlo en el modelo.\n",
    "\n",
    "### Días de la semana"
   ]
  },
  {
   "cell_type": "code",
   "execution_count": 11,
   "metadata": {
    "ExecuteTime": {
     "end_time": "2019-11-18T08:44:12.216573Z",
     "start_time": "2019-11-18T08:44:12.185656Z"
    }
   },
   "outputs": [
    {
     "data": {
      "text/html": [
       "<div>\n",
       "<style scoped>\n",
       "    .dataframe tbody tr th:only-of-type {\n",
       "        vertical-align: middle;\n",
       "    }\n",
       "\n",
       "    .dataframe tbody tr th {\n",
       "        vertical-align: top;\n",
       "    }\n",
       "\n",
       "    .dataframe thead th {\n",
       "        text-align: right;\n",
       "    }\n",
       "</style>\n",
       "<table border=\"1\" class=\"dataframe\">\n",
       "  <thead>\n",
       "    <tr style=\"text-align: right;\">\n",
       "      <th>Hora</th>\n",
       "      <th>Dia</th>\n",
       "      <th>Lunes</th>\n",
       "      <th>Martes</th>\n",
       "      <th>Miercoles</th>\n",
       "      <th>Jueves</th>\n",
       "      <th>Viernes</th>\n",
       "      <th>Sabado</th>\n",
       "      <th>Domingo</th>\n",
       "    </tr>\n",
       "  </thead>\n",
       "  <tbody>\n",
       "    <tr>\n",
       "      <td>360</td>\n",
       "      <td>2019-12-27</td>\n",
       "      <td>False</td>\n",
       "      <td>False</td>\n",
       "      <td>False</td>\n",
       "      <td>False</td>\n",
       "      <td>True</td>\n",
       "      <td>False</td>\n",
       "      <td>False</td>\n",
       "    </tr>\n",
       "    <tr>\n",
       "      <td>361</td>\n",
       "      <td>2019-12-28</td>\n",
       "      <td>False</td>\n",
       "      <td>False</td>\n",
       "      <td>False</td>\n",
       "      <td>False</td>\n",
       "      <td>False</td>\n",
       "      <td>True</td>\n",
       "      <td>False</td>\n",
       "    </tr>\n",
       "    <tr>\n",
       "      <td>362</td>\n",
       "      <td>2019-12-29</td>\n",
       "      <td>False</td>\n",
       "      <td>False</td>\n",
       "      <td>False</td>\n",
       "      <td>False</td>\n",
       "      <td>False</td>\n",
       "      <td>False</td>\n",
       "      <td>True</td>\n",
       "    </tr>\n",
       "    <tr>\n",
       "      <td>363</td>\n",
       "      <td>2019-12-30</td>\n",
       "      <td>True</td>\n",
       "      <td>False</td>\n",
       "      <td>False</td>\n",
       "      <td>False</td>\n",
       "      <td>False</td>\n",
       "      <td>False</td>\n",
       "      <td>False</td>\n",
       "    </tr>\n",
       "    <tr>\n",
       "      <td>364</td>\n",
       "      <td>2019-12-31</td>\n",
       "      <td>False</td>\n",
       "      <td>True</td>\n",
       "      <td>False</td>\n",
       "      <td>False</td>\n",
       "      <td>False</td>\n",
       "      <td>False</td>\n",
       "      <td>False</td>\n",
       "    </tr>\n",
       "  </tbody>\n",
       "</table>\n",
       "</div>"
      ],
      "text/plain": [
       "Hora        Dia  Lunes  Martes  Miercoles  Jueves  Viernes  Sabado  Domingo\n",
       "360  2019-12-27  False   False      False   False     True   False    False\n",
       "361  2019-12-28  False   False      False   False    False    True    False\n",
       "362  2019-12-29  False   False      False   False    False   False     True\n",
       "363  2019-12-30   True   False      False   False    False   False    False\n",
       "364  2019-12-31  False    True      False   False    False   False    False"
      ]
     },
     "execution_count": 11,
     "metadata": {},
     "output_type": "execute_result"
    }
   ],
   "source": [
    "df['Dia'] = pd.to_datetime(df['Dia'])\n",
    "weekdays = [\n",
    "    [0, 'Lunes'],\n",
    "    [1, 'Martes'],\n",
    "    [2, 'Miercoles'],\n",
    "    [3, 'Jueves'],\n",
    "    [4, 'Viernes'],\n",
    "    [5, 'Sabado'],\n",
    "    [6, 'Domingo']\n",
    "]\n",
    "for weekday, weekday_name in weekdays:\n",
    "    df[weekday_name] = df['Dia'].map(lambda x: x.weekday() == weekday)\n",
    "    \n",
    "df[['Dia', 'Lunes', 'Martes', 'Miercoles',\n",
    "    'Jueves', 'Viernes', 'Sabado', 'Domingo']].tail()"
   ]
  },
  {
   "cell_type": "markdown",
   "metadata": {},
   "source": [
    "### Días Festivos"
   ]
  },
  {
   "cell_type": "code",
   "execution_count": 12,
   "metadata": {
    "ExecuteTime": {
     "end_time": "2019-11-18T08:44:12.260100Z",
     "start_time": "2019-11-18T08:44:12.218568Z"
    }
   },
   "outputs": [],
   "source": [
    "calendario = ['2019-01-01','2019-01-01','2019-01-06','2019-03-19',\n",
    "              '2019-04-28','2019-05-15','2019-07-25','2019-08-15',\n",
    "              '2019-10-12','2019-11-01','2019-12-06','2019-12-08','2019-12-25','2019-12-26']\n",
    "\n",
    "df['Festivo'] = df['Dia'].isin(calendario)"
   ]
  },
  {
   "cell_type": "markdown",
   "metadata": {},
   "source": [
    "## Training/Test/Validation Set\n",
    "\n",
    "Por último, antes de crear el modelo vamos a dividir los datos en 3 bloques:\n",
    "\n",
    " - **Training Set**: 80% de los datos\n",
    " - **Test Set**: 10% de los datos\n",
    " - **Validation Set**: 10% de los datos"
   ]
  },
  {
   "cell_type": "code",
   "execution_count": 13,
   "metadata": {
    "ExecuteTime": {
     "end_time": "2019-11-18T08:44:12.312787Z",
     "start_time": "2019-11-18T08:44:12.262064Z"
    }
   },
   "outputs": [],
   "source": [
    "def training_test_set():\n",
    "    # Training Set (80%)\n",
    "    train_data = df.sample(frac=0.8, random_state=0)\n",
    "    test_validation_data = df.drop(train_data.index)\n",
    "\n",
    "    # Test/Validatin Set (10%/10%)\n",
    "    test_data = test_validation_data.sample(frac=0.5, random_state=0)\n",
    "    validation_data = test_validation_data.drop(test_data.index)\n",
    "\n",
    "    # Definir la variable 'Y'\n",
    "    train_y = train_data.pop('23:45')\n",
    "    test_y = test_data.pop('23:45')\n",
    "    validation_y = validation_data.pop('23:45')\n",
    "\n",
    "    # Eliminamos la columna 'Dia'\n",
    "    train_data.drop(['Dia'], axis=1, inplace=True)\n",
    "    test_data.drop(['Dia'], axis=1, inplace=True)\n",
    "    validation_data.drop(['Dia'], axis=1, inplace=True)\n",
    "    \n",
    "    return [train_data, test_data, validation_data, train_y, test_y, validation_y]"
   ]
  },
  {
   "cell_type": "markdown",
   "metadata": {},
   "source": [
    "## Creando el modelo\n",
    "\n",
    "Como se ha indicado en la introducción, en este ejemplo se va a utilizar el modelo [SVR](https://scikit-learn.org/stable/modules/generated/sklearn.svm.SVR.html) para la regresión y se va a elegir el `kernel` `rbf`.\n",
    "\n",
    "No es objeto de este *notebook* explicar los detalles de este modelo, pero el lector que esté interesado en profundizar en este modelo puede ver con más detalle los algoritmos que se utilizan para hacer los cálculos en la documentación oficial de [scikit-learn](https://scikit-learn.org/stable/modules/svm.html#svm-regression).\n",
    "\n",
    "En `SVR` hay básicamente 2 parámetros que se utilizan para ajustar el modelo:\n",
    "\n",
    " - `C`\n",
    " - `Epsilon`\n",
    " \n",
    "a los que vamos a darle diferentes valores."
   ]
  },
  {
   "cell_type": "code",
   "execution_count": 14,
   "metadata": {
    "ExecuteTime": {
     "end_time": "2019-11-18T08:44:12.935853Z",
     "start_time": "2019-11-18T08:44:12.317743Z"
    }
   },
   "outputs": [],
   "source": [
    "from sklearn.svm import SVR\n",
    "\n",
    "def crear_modelo():\n",
    "    error = -1\n",
    "\n",
    "    for C in [0.1, 1, 100, 1000]:\n",
    "        for epsilon in [0.0001, 0.0005, 0.001, 0.005, 0.01, 0.05, 0.1, 0.5, 1, 5, 10]:\n",
    "            # Creamos el modelo con los parámetros seleccionados\n",
    "            svr_rbf = SVR(kernel='rbf', C=C, gamma='auto', epsilon=epsilon)\n",
    "\n",
    "            # Ajustamos el modelo a nuestros datos\n",
    "            model = svr_rbf.fit(train_data, train_y)\n",
    "\n",
    "            # Medir la calidad del modelo con el Test Set\n",
    "            error_now = (model.predict(test_data) - test_y).std()\n",
    "\n",
    "            # Guardar los parámetros si se ha mejorado el error\n",
    "            if (error_now < error) or (error == -1):\n",
    "                error = error_now\n",
    "                C_good = C\n",
    "                epsilon_good = epsilon\n",
    "                \n",
    "    return SVR(kernel='rbf', C=C_good, gamma='auto', epsilon=epsilon_good)"
   ]
  },
  {
   "cell_type": "markdown",
   "metadata": {},
   "source": [
    "Como queremos crear diferentes modelos para cada hora, a la hora de crear el modelo tendremos que modificar las variables de entrada $X$, eliminando las columnas que no se van a tener en cuenta para el modelo. Para ese fin vamos a definir la siguiente función:"
   ]
  },
  {
   "cell_type": "code",
   "execution_count": 15,
   "metadata": {
    "ExecuteTime": {
     "end_time": "2019-11-18T08:44:12.942807Z",
     "start_time": "2019-11-18T08:44:12.937823Z"
    }
   },
   "outputs": [],
   "source": [
    "def eliminar_columnas(hour_now):\n",
    "    \"\"\"Eliminar las columnas que no se van a utilizar para el cálculo de las previsiones\"\"\"\n",
    "\n",
    "    cols_drop = df.columns[(df.columns > hour_now) & (df.columns < '23:45')]\n",
    "    for col in cols_drop:\n",
    "        df.pop(col)"
   ]
  },
  {
   "cell_type": "markdown",
   "metadata": {},
   "source": [
    "También vamos a necesitar otra función para guardar los modelos utilizando el módulo `joblib`"
   ]
  },
  {
   "cell_type": "code",
   "execution_count": 16,
   "metadata": {
    "ExecuteTime": {
     "end_time": "2019-11-18T08:44:13.023059Z",
     "start_time": "2019-11-18T08:44:12.944800Z"
    }
   },
   "outputs": [],
   "source": [
    "import os\n",
    "import joblib\n",
    "\n",
    "\n",
    "def guardar_modelo_svr(name):\n",
    "    \"\"\"Guardar los resultados del modelo\"\"\"\n",
    "\n",
    "    folder = 'models/'\n",
    "    if not os.path.exists(folder):\n",
    "        os.makedirs(folder)\n",
    "\n",
    "    filename = 'all_data_model_' + name + '.sav'\n",
    "    joblib.dump(model, folder + filename)"
   ]
  },
  {
   "cell_type": "code",
   "execution_count": 18,
   "metadata": {
    "ExecuteTime": {
     "end_time": "2019-11-18T08:44:13.112072Z",
     "start_time": "2019-11-18T08:44:13.025057Z"
    }
   },
   "outputs": [],
   "source": [
    "df_orig = df.copy()"
   ]
  },
  {
   "cell_type": "markdown",
   "metadata": {},
   "source": [
    "Pongamos en marcha los cálculos..."
   ]
  },
  {
   "cell_type": "code",
   "execution_count": 19,
   "metadata": {
    "ExecuteTime": {
     "end_time": "2019-11-18T08:44:21.830206Z",
     "start_time": "2019-11-18T08:44:13.116021Z"
    },
    "scrolled": true
   },
   "outputs": [
    {
     "name": "stdout",
     "output_type": "stream",
     "text": [
      "\n",
      "Creando modelo para las 10...\n",
      "Modelo guardado!\n",
      "Error de validación: 0.05416437029788017\n",
      "\n",
      "Creando modelo para las 11...\n",
      "Modelo guardado!\n",
      "Error de validación: 0.05898184865835802\n",
      "\n",
      "Creando modelo para las 12...\n",
      "Modelo guardado!\n",
      "Error de validación: 0.06336144583763553\n",
      "\n",
      "Creando modelo para las 13...\n",
      "Modelo guardado!\n",
      "Error de validación: 0.04371170439656865\n",
      "\n",
      "Creando modelo para las 14...\n",
      "Modelo guardado!\n",
      "Error de validación: 0.043686322515764785\n",
      "\n",
      "Creando modelo para las 15...\n",
      "Modelo guardado!\n",
      "Error de validación: 0.046305362629968094\n",
      "\n",
      "Creando modelo para las 16...\n",
      "Modelo guardado!\n",
      "Error de validación: 0.06234688683208714\n",
      "\n",
      "Creando modelo para las 17...\n",
      "Modelo guardado!\n",
      "Error de validación: 0.053667250027135065\n",
      "\n",
      "Creando modelo para las 18...\n",
      "Modelo guardado!\n",
      "Error de validación: 0.049804101853045124\n",
      "\n",
      "Creando modelo para las 19...\n",
      "Modelo guardado!\n",
      "Error de validación: 0.04899598024343952\n",
      "\n",
      "Creando modelo para las 20...\n",
      "Modelo guardado!\n",
      "Error de validación: 0.04791194047917602\n",
      "\n",
      "Creando modelo para las 21...\n",
      "Modelo guardado!\n",
      "Error de validación: 0.0442239361384773\n"
     ]
    }
   ],
   "source": [
    "for hour in range(10, 22):\n",
    "    print('\\nCreando modelo para las ' + str(hour) + '...')\n",
    "    df = df_orig.copy()\n",
    "    eliminar_columnas(str(hour) + ':00')\n",
    "    train_data, test_data, validation_data, train_y, test_y, validation_y = training_test_set()\n",
    "    model = crear_modelo()\n",
    "    model.fit(train_data, train_y)\n",
    "    guardar_modelo_svr(str(hour) + '00')\n",
    "    print('Modelo guardado!')\n",
    "    print('Error de validación: ' + str((model.predict(validation_data) - validation_y).std()))"
   ]
  },
  {
   "cell_type": "markdown",
   "metadata": {},
   "source": [
    "## Visualizando los resultados\n",
    "\n",
    "Cargamos las librerias de [Plotly](https://plot.ly/python/)"
   ]
  },
  {
   "cell_type": "code",
   "execution_count": 20,
   "metadata": {
    "ExecuteTime": {
     "end_time": "2019-11-18T08:44:22.222645Z",
     "start_time": "2019-11-18T08:44:21.832201Z"
    }
   },
   "outputs": [
    {
     "data": {
      "text/html": [
       "        <script type=\"text/javascript\">\n",
       "        window.PlotlyConfig = {MathJaxConfig: 'local'};\n",
       "        if (window.MathJax) {MathJax.Hub.Config({SVG: {font: \"STIX-Web\"}});}\n",
       "        if (typeof require !== 'undefined') {\n",
       "        require.undef(\"plotly\");\n",
       "        requirejs.config({\n",
       "            paths: {\n",
       "                'plotly': ['https://cdn.plot.ly/plotly-latest.min']\n",
       "            }\n",
       "        });\n",
       "        require(['plotly'], function(Plotly) {\n",
       "            window._Plotly = Plotly;\n",
       "        });\n",
       "        }\n",
       "        </script>\n",
       "        "
      ]
     },
     "metadata": {},
     "output_type": "display_data"
    }
   ],
   "source": [
    "import plotly.graph_objs as go\n",
    "from plotly.offline import download_plotlyjs, init_notebook_mode, plot, iplot\n",
    "\n",
    "init_notebook_mode(connected=True)"
   ]
  },
  {
   "cell_type": "markdown",
   "metadata": {},
   "source": [
    "Seleccionamos los días que queremos mostrar"
   ]
  },
  {
   "cell_type": "code",
   "execution_count": 21,
   "metadata": {
    "ExecuteTime": {
     "end_time": "2019-11-18T08:44:22.749490Z",
     "start_time": "2019-11-18T08:44:22.224640Z"
    }
   },
   "outputs": [],
   "source": [
    "dias = df_orig.loc[df_orig.index.isin(validation_y.index), 'Dia']"
   ]
  },
  {
   "cell_type": "markdown",
   "metadata": {},
   "source": [
    "Cargamos el modelo que queremos analizar:"
   ]
  },
  {
   "cell_type": "code",
   "execution_count": 22,
   "metadata": {
    "ExecuteTime": {
     "end_time": "2019-11-18T08:44:22.823046Z",
     "start_time": "2019-11-18T08:44:22.751485Z"
    }
   },
   "outputs": [],
   "source": [
    "hour = 10\n",
    "\n",
    "# Cargamos el modelo\n",
    "loaded_model = joblib.load('models/all_data_model_{}00.sav'.format(str(hour)))\n",
    "\n",
    "# Creamos los datos de validación\n",
    "df = df_orig.copy()\n",
    "eliminar_columnas(str(hour) + ':00')\n",
    "train_data, test_data, validation_data, train_y, test_y, validation_y = training_test_set()"
   ]
  },
  {
   "cell_type": "markdown",
   "metadata": {},
   "source": [
    "Visualizamos"
   ]
  },
  {
   "cell_type": "code",
   "execution_count": 23,
   "metadata": {
    "ExecuteTime": {
     "end_time": "2019-11-18T08:45:32.176577Z",
     "start_time": "2019-11-18T08:45:31.950203Z"
    }
   },
   "outputs": [
    {
     "data": {
      "application/vnd.plotly.v1+json": {
       "config": {
        "linkText": "Export to plot.ly",
        "plotlyServerURL": "https://plot.ly",
        "showLink": false
       },
       "data": [
        {
         "name": "Real",
         "type": "scatter",
         "x": [
          "2019-01-10T00:00:00",
          "2019-01-26T00:00:00",
          "2019-02-08T00:00:00",
          "2019-02-17T00:00:00",
          "2019-02-23T00:00:00",
          "2019-03-14T00:00:00",
          "2019-03-24T00:00:00",
          "2019-03-26T00:00:00",
          "2019-03-29T00:00:00",
          "2019-03-30T00:00:00",
          "2019-04-02T00:00:00",
          "2019-04-10T00:00:00",
          "2019-04-16T00:00:00",
          "2019-04-26T00:00:00",
          "2019-04-28T00:00:00",
          "2019-05-02T00:00:00",
          "2019-05-08T00:00:00",
          "2019-05-09T00:00:00",
          "2019-06-15T00:00:00",
          "2019-06-27T00:00:00",
          "2019-07-12T00:00:00",
          "2019-07-13T00:00:00",
          "2019-07-15T00:00:00",
          "2019-07-17T00:00:00",
          "2019-07-22T00:00:00",
          "2019-07-31T00:00:00",
          "2019-09-02T00:00:00",
          "2019-09-15T00:00:00",
          "2019-09-20T00:00:00",
          "2019-10-05T00:00:00",
          "2019-11-10T00:00:00",
          "2019-11-11T00:00:00",
          "2019-11-22T00:00:00",
          "2019-11-30T00:00:00",
          "2019-12-04T00:00:00",
          "2019-12-05T00:00:00",
          "2019-12-17T00:00:00"
         ],
         "y": [
          146753723.98000002,
          158097241.75,
          248078713.37,
          3890842.9199999995,
          155699734.47000003,
          167578348.99999997,
          3506158.4899999998,
          121561566.3,
          230808010.74,
          148870639.78999996,
          113335451.14,
          131434431.72999999,
          127316106.00000001,
          215430950.79000002,
          387.9099999999999,
          158314715.32000002,
          121877810.75000001,
          167884998.34,
          173957723.33,
          142742991.06000003,
          213472598.05999994,
          160881047.01999998,
          159889783.61,
          138983041.94000003,
          186761385.32000005,
          144952084.47,
          162399300.32999998,
          3372264.25,
          206920656.53,
          177678611.13000003,
          2968492.04,
          168919977.58999997,
          240225900.04,
          165314031.64,
          138970615.72,
          134543006.32000002,
          142986356.20000005
         ]
        },
        {
         "name": "Predicción",
         "type": "scatter",
         "x": [
          "2019-01-10T00:00:00",
          "2019-01-26T00:00:00",
          "2019-02-08T00:00:00",
          "2019-02-17T00:00:00",
          "2019-02-23T00:00:00",
          "2019-03-14T00:00:00",
          "2019-03-24T00:00:00",
          "2019-03-26T00:00:00",
          "2019-03-29T00:00:00",
          "2019-03-30T00:00:00",
          "2019-04-02T00:00:00",
          "2019-04-10T00:00:00",
          "2019-04-16T00:00:00",
          "2019-04-26T00:00:00",
          "2019-04-28T00:00:00",
          "2019-05-02T00:00:00",
          "2019-05-08T00:00:00",
          "2019-05-09T00:00:00",
          "2019-06-15T00:00:00",
          "2019-06-27T00:00:00",
          "2019-07-12T00:00:00",
          "2019-07-13T00:00:00",
          "2019-07-15T00:00:00",
          "2019-07-17T00:00:00",
          "2019-07-22T00:00:00",
          "2019-07-31T00:00:00",
          "2019-09-02T00:00:00",
          "2019-09-15T00:00:00",
          "2019-09-20T00:00:00",
          "2019-10-05T00:00:00",
          "2019-11-10T00:00:00",
          "2019-11-11T00:00:00",
          "2019-11-22T00:00:00",
          "2019-11-30T00:00:00",
          "2019-12-04T00:00:00",
          "2019-12-05T00:00:00",
          "2019-12-17T00:00:00"
         ],
         "y": [
          152668134.5873702,
          165744312.1122883,
          238826058.59091684,
          3174336.418303648,
          165744337.14010352,
          152668192.8612581,
          3174365.080256066,
          123405194.84984021,
          238827661.53110215,
          165744670.9904481,
          123406680.39882983,
          139492149.2582635,
          123406210.6692562,
          238825256.90234855,
          -50463791.872610316,
          152669077.44699198,
          139494898.84878537,
          152668491.80647004,
          165744458.32126582,
          152668957.170273,
          238826155.47851095,
          165744769.59103325,
          175546555.8524397,
          139494177.03886968,
          175546177.66780683,
          139493344.9688938,
          175548038.32674778,
          3174351.243811141,
          238824981.42674708,
          165744548.69280964,
          3174351.0691516194,
          175545084.483603,
          238827265.11434886,
          165743770.2590503,
          139494875.8364298,
          152668947.15538242,
          123405247.39740703
         ]
        }
       ],
       "layout": {
        "template": {
         "data": {
          "bar": [
           {
            "error_x": {
             "color": "#2a3f5f"
            },
            "error_y": {
             "color": "#2a3f5f"
            },
            "marker": {
             "line": {
              "color": "#E5ECF6",
              "width": 0.5
             }
            },
            "type": "bar"
           }
          ],
          "barpolar": [
           {
            "marker": {
             "line": {
              "color": "#E5ECF6",
              "width": 0.5
             }
            },
            "type": "barpolar"
           }
          ],
          "carpet": [
           {
            "aaxis": {
             "endlinecolor": "#2a3f5f",
             "gridcolor": "white",
             "linecolor": "white",
             "minorgridcolor": "white",
             "startlinecolor": "#2a3f5f"
            },
            "baxis": {
             "endlinecolor": "#2a3f5f",
             "gridcolor": "white",
             "linecolor": "white",
             "minorgridcolor": "white",
             "startlinecolor": "#2a3f5f"
            },
            "type": "carpet"
           }
          ],
          "choropleth": [
           {
            "colorbar": {
             "outlinewidth": 0,
             "ticks": ""
            },
            "type": "choropleth"
           }
          ],
          "contour": [
           {
            "colorbar": {
             "outlinewidth": 0,
             "ticks": ""
            },
            "colorscale": [
             [
              0,
              "#0d0887"
             ],
             [
              0.1111111111111111,
              "#46039f"
             ],
             [
              0.2222222222222222,
              "#7201a8"
             ],
             [
              0.3333333333333333,
              "#9c179e"
             ],
             [
              0.4444444444444444,
              "#bd3786"
             ],
             [
              0.5555555555555556,
              "#d8576b"
             ],
             [
              0.6666666666666666,
              "#ed7953"
             ],
             [
              0.7777777777777778,
              "#fb9f3a"
             ],
             [
              0.8888888888888888,
              "#fdca26"
             ],
             [
              1,
              "#f0f921"
             ]
            ],
            "type": "contour"
           }
          ],
          "contourcarpet": [
           {
            "colorbar": {
             "outlinewidth": 0,
             "ticks": ""
            },
            "type": "contourcarpet"
           }
          ],
          "heatmap": [
           {
            "colorbar": {
             "outlinewidth": 0,
             "ticks": ""
            },
            "colorscale": [
             [
              0,
              "#0d0887"
             ],
             [
              0.1111111111111111,
              "#46039f"
             ],
             [
              0.2222222222222222,
              "#7201a8"
             ],
             [
              0.3333333333333333,
              "#9c179e"
             ],
             [
              0.4444444444444444,
              "#bd3786"
             ],
             [
              0.5555555555555556,
              "#d8576b"
             ],
             [
              0.6666666666666666,
              "#ed7953"
             ],
             [
              0.7777777777777778,
              "#fb9f3a"
             ],
             [
              0.8888888888888888,
              "#fdca26"
             ],
             [
              1,
              "#f0f921"
             ]
            ],
            "type": "heatmap"
           }
          ],
          "heatmapgl": [
           {
            "colorbar": {
             "outlinewidth": 0,
             "ticks": ""
            },
            "colorscale": [
             [
              0,
              "#0d0887"
             ],
             [
              0.1111111111111111,
              "#46039f"
             ],
             [
              0.2222222222222222,
              "#7201a8"
             ],
             [
              0.3333333333333333,
              "#9c179e"
             ],
             [
              0.4444444444444444,
              "#bd3786"
             ],
             [
              0.5555555555555556,
              "#d8576b"
             ],
             [
              0.6666666666666666,
              "#ed7953"
             ],
             [
              0.7777777777777778,
              "#fb9f3a"
             ],
             [
              0.8888888888888888,
              "#fdca26"
             ],
             [
              1,
              "#f0f921"
             ]
            ],
            "type": "heatmapgl"
           }
          ],
          "histogram": [
           {
            "marker": {
             "colorbar": {
              "outlinewidth": 0,
              "ticks": ""
             }
            },
            "type": "histogram"
           }
          ],
          "histogram2d": [
           {
            "colorbar": {
             "outlinewidth": 0,
             "ticks": ""
            },
            "colorscale": [
             [
              0,
              "#0d0887"
             ],
             [
              0.1111111111111111,
              "#46039f"
             ],
             [
              0.2222222222222222,
              "#7201a8"
             ],
             [
              0.3333333333333333,
              "#9c179e"
             ],
             [
              0.4444444444444444,
              "#bd3786"
             ],
             [
              0.5555555555555556,
              "#d8576b"
             ],
             [
              0.6666666666666666,
              "#ed7953"
             ],
             [
              0.7777777777777778,
              "#fb9f3a"
             ],
             [
              0.8888888888888888,
              "#fdca26"
             ],
             [
              1,
              "#f0f921"
             ]
            ],
            "type": "histogram2d"
           }
          ],
          "histogram2dcontour": [
           {
            "colorbar": {
             "outlinewidth": 0,
             "ticks": ""
            },
            "colorscale": [
             [
              0,
              "#0d0887"
             ],
             [
              0.1111111111111111,
              "#46039f"
             ],
             [
              0.2222222222222222,
              "#7201a8"
             ],
             [
              0.3333333333333333,
              "#9c179e"
             ],
             [
              0.4444444444444444,
              "#bd3786"
             ],
             [
              0.5555555555555556,
              "#d8576b"
             ],
             [
              0.6666666666666666,
              "#ed7953"
             ],
             [
              0.7777777777777778,
              "#fb9f3a"
             ],
             [
              0.8888888888888888,
              "#fdca26"
             ],
             [
              1,
              "#f0f921"
             ]
            ],
            "type": "histogram2dcontour"
           }
          ],
          "mesh3d": [
           {
            "colorbar": {
             "outlinewidth": 0,
             "ticks": ""
            },
            "type": "mesh3d"
           }
          ],
          "parcoords": [
           {
            "line": {
             "colorbar": {
              "outlinewidth": 0,
              "ticks": ""
             }
            },
            "type": "parcoords"
           }
          ],
          "pie": [
           {
            "automargin": true,
            "type": "pie"
           }
          ],
          "scatter": [
           {
            "marker": {
             "colorbar": {
              "outlinewidth": 0,
              "ticks": ""
             }
            },
            "type": "scatter"
           }
          ],
          "scatter3d": [
           {
            "line": {
             "colorbar": {
              "outlinewidth": 0,
              "ticks": ""
             }
            },
            "marker": {
             "colorbar": {
              "outlinewidth": 0,
              "ticks": ""
             }
            },
            "type": "scatter3d"
           }
          ],
          "scattercarpet": [
           {
            "marker": {
             "colorbar": {
              "outlinewidth": 0,
              "ticks": ""
             }
            },
            "type": "scattercarpet"
           }
          ],
          "scattergeo": [
           {
            "marker": {
             "colorbar": {
              "outlinewidth": 0,
              "ticks": ""
             }
            },
            "type": "scattergeo"
           }
          ],
          "scattergl": [
           {
            "marker": {
             "colorbar": {
              "outlinewidth": 0,
              "ticks": ""
             }
            },
            "type": "scattergl"
           }
          ],
          "scattermapbox": [
           {
            "marker": {
             "colorbar": {
              "outlinewidth": 0,
              "ticks": ""
             }
            },
            "type": "scattermapbox"
           }
          ],
          "scatterpolar": [
           {
            "marker": {
             "colorbar": {
              "outlinewidth": 0,
              "ticks": ""
             }
            },
            "type": "scatterpolar"
           }
          ],
          "scatterpolargl": [
           {
            "marker": {
             "colorbar": {
              "outlinewidth": 0,
              "ticks": ""
             }
            },
            "type": "scatterpolargl"
           }
          ],
          "scatterternary": [
           {
            "marker": {
             "colorbar": {
              "outlinewidth": 0,
              "ticks": ""
             }
            },
            "type": "scatterternary"
           }
          ],
          "surface": [
           {
            "colorbar": {
             "outlinewidth": 0,
             "ticks": ""
            },
            "colorscale": [
             [
              0,
              "#0d0887"
             ],
             [
              0.1111111111111111,
              "#46039f"
             ],
             [
              0.2222222222222222,
              "#7201a8"
             ],
             [
              0.3333333333333333,
              "#9c179e"
             ],
             [
              0.4444444444444444,
              "#bd3786"
             ],
             [
              0.5555555555555556,
              "#d8576b"
             ],
             [
              0.6666666666666666,
              "#ed7953"
             ],
             [
              0.7777777777777778,
              "#fb9f3a"
             ],
             [
              0.8888888888888888,
              "#fdca26"
             ],
             [
              1,
              "#f0f921"
             ]
            ],
            "type": "surface"
           }
          ],
          "table": [
           {
            "cells": {
             "fill": {
              "color": "#EBF0F8"
             },
             "line": {
              "color": "white"
             }
            },
            "header": {
             "fill": {
              "color": "#C8D4E3"
             },
             "line": {
              "color": "white"
             }
            },
            "type": "table"
           }
          ]
         },
         "layout": {
          "annotationdefaults": {
           "arrowcolor": "#2a3f5f",
           "arrowhead": 0,
           "arrowwidth": 1
          },
          "coloraxis": {
           "colorbar": {
            "outlinewidth": 0,
            "ticks": ""
           }
          },
          "colorscale": {
           "diverging": [
            [
             0,
             "#8e0152"
            ],
            [
             0.1,
             "#c51b7d"
            ],
            [
             0.2,
             "#de77ae"
            ],
            [
             0.3,
             "#f1b6da"
            ],
            [
             0.4,
             "#fde0ef"
            ],
            [
             0.5,
             "#f7f7f7"
            ],
            [
             0.6,
             "#e6f5d0"
            ],
            [
             0.7,
             "#b8e186"
            ],
            [
             0.8,
             "#7fbc41"
            ],
            [
             0.9,
             "#4d9221"
            ],
            [
             1,
             "#276419"
            ]
           ],
           "sequential": [
            [
             0,
             "#0d0887"
            ],
            [
             0.1111111111111111,
             "#46039f"
            ],
            [
             0.2222222222222222,
             "#7201a8"
            ],
            [
             0.3333333333333333,
             "#9c179e"
            ],
            [
             0.4444444444444444,
             "#bd3786"
            ],
            [
             0.5555555555555556,
             "#d8576b"
            ],
            [
             0.6666666666666666,
             "#ed7953"
            ],
            [
             0.7777777777777778,
             "#fb9f3a"
            ],
            [
             0.8888888888888888,
             "#fdca26"
            ],
            [
             1,
             "#f0f921"
            ]
           ],
           "sequentialminus": [
            [
             0,
             "#0d0887"
            ],
            [
             0.1111111111111111,
             "#46039f"
            ],
            [
             0.2222222222222222,
             "#7201a8"
            ],
            [
             0.3333333333333333,
             "#9c179e"
            ],
            [
             0.4444444444444444,
             "#bd3786"
            ],
            [
             0.5555555555555556,
             "#d8576b"
            ],
            [
             0.6666666666666666,
             "#ed7953"
            ],
            [
             0.7777777777777778,
             "#fb9f3a"
            ],
            [
             0.8888888888888888,
             "#fdca26"
            ],
            [
             1,
             "#f0f921"
            ]
           ]
          },
          "colorway": [
           "#636efa",
           "#EF553B",
           "#00cc96",
           "#ab63fa",
           "#FFA15A",
           "#19d3f3",
           "#FF6692",
           "#B6E880",
           "#FF97FF",
           "#FECB52"
          ],
          "font": {
           "color": "#2a3f5f"
          },
          "geo": {
           "bgcolor": "white",
           "lakecolor": "white",
           "landcolor": "#E5ECF6",
           "showlakes": true,
           "showland": true,
           "subunitcolor": "white"
          },
          "hoverlabel": {
           "align": "left"
          },
          "hovermode": "closest",
          "mapbox": {
           "style": "light"
          },
          "paper_bgcolor": "white",
          "plot_bgcolor": "#E5ECF6",
          "polar": {
           "angularaxis": {
            "gridcolor": "white",
            "linecolor": "white",
            "ticks": ""
           },
           "bgcolor": "#E5ECF6",
           "radialaxis": {
            "gridcolor": "white",
            "linecolor": "white",
            "ticks": ""
           }
          },
          "scene": {
           "xaxis": {
            "backgroundcolor": "#E5ECF6",
            "gridcolor": "white",
            "gridwidth": 2,
            "linecolor": "white",
            "showbackground": true,
            "ticks": "",
            "zerolinecolor": "white"
           },
           "yaxis": {
            "backgroundcolor": "#E5ECF6",
            "gridcolor": "white",
            "gridwidth": 2,
            "linecolor": "white",
            "showbackground": true,
            "ticks": "",
            "zerolinecolor": "white"
           },
           "zaxis": {
            "backgroundcolor": "#E5ECF6",
            "gridcolor": "white",
            "gridwidth": 2,
            "linecolor": "white",
            "showbackground": true,
            "ticks": "",
            "zerolinecolor": "white"
           }
          },
          "shapedefaults": {
           "line": {
            "color": "#2a3f5f"
           }
          },
          "ternary": {
           "aaxis": {
            "gridcolor": "white",
            "linecolor": "white",
            "ticks": ""
           },
           "baxis": {
            "gridcolor": "white",
            "linecolor": "white",
            "ticks": ""
           },
           "bgcolor": "#E5ECF6",
           "caxis": {
            "gridcolor": "white",
            "linecolor": "white",
            "ticks": ""
           }
          },
          "title": {
           "x": 0.05
          },
          "xaxis": {
           "automargin": true,
           "gridcolor": "white",
           "linecolor": "white",
           "ticks": "",
           "title": {
            "standoff": 15
           },
           "zerolinecolor": "white",
           "zerolinewidth": 2
          },
          "yaxis": {
           "automargin": true,
           "gridcolor": "white",
           "linecolor": "white",
           "ticks": "",
           "title": {
            "standoff": 15
           },
           "zerolinecolor": "white",
           "zerolinewidth": 2
          }
         }
        },
        "yaxis": {
         "title": {
          "text": "Ventas €"
         }
        }
       }
      },
      "text/html": [
       "<div>\n",
       "        \n",
       "        \n",
       "            <div id=\"4ddd2036-566f-4a60-9e8b-9cc63d1fa8ef\" class=\"plotly-graph-div\" style=\"height:525px; width:100%;\"></div>\n",
       "            <script type=\"text/javascript\">\n",
       "                require([\"plotly\"], function(Plotly) {\n",
       "                    window.PLOTLYENV=window.PLOTLYENV || {};\n",
       "                    \n",
       "                if (document.getElementById(\"4ddd2036-566f-4a60-9e8b-9cc63d1fa8ef\")) {\n",
       "                    Plotly.newPlot(\n",
       "                        '4ddd2036-566f-4a60-9e8b-9cc63d1fa8ef',\n",
       "                        [{\"name\": \"Real\", \"type\": \"scatter\", \"x\": [\"2019-01-10T00:00:00\", \"2019-01-26T00:00:00\", \"2019-02-08T00:00:00\", \"2019-02-17T00:00:00\", \"2019-02-23T00:00:00\", \"2019-03-14T00:00:00\", \"2019-03-24T00:00:00\", \"2019-03-26T00:00:00\", \"2019-03-29T00:00:00\", \"2019-03-30T00:00:00\", \"2019-04-02T00:00:00\", \"2019-04-10T00:00:00\", \"2019-04-16T00:00:00\", \"2019-04-26T00:00:00\", \"2019-04-28T00:00:00\", \"2019-05-02T00:00:00\", \"2019-05-08T00:00:00\", \"2019-05-09T00:00:00\", \"2019-06-15T00:00:00\", \"2019-06-27T00:00:00\", \"2019-07-12T00:00:00\", \"2019-07-13T00:00:00\", \"2019-07-15T00:00:00\", \"2019-07-17T00:00:00\", \"2019-07-22T00:00:00\", \"2019-07-31T00:00:00\", \"2019-09-02T00:00:00\", \"2019-09-15T00:00:00\", \"2019-09-20T00:00:00\", \"2019-10-05T00:00:00\", \"2019-11-10T00:00:00\", \"2019-11-11T00:00:00\", \"2019-11-22T00:00:00\", \"2019-11-30T00:00:00\", \"2019-12-04T00:00:00\", \"2019-12-05T00:00:00\", \"2019-12-17T00:00:00\"], \"y\": [146753723.98000002, 158097241.75, 248078713.37, 3890842.9199999995, 155699734.47000003, 167578348.99999997, 3506158.4899999998, 121561566.3, 230808010.74, 148870639.78999996, 113335451.14, 131434431.72999999, 127316106.00000001, 215430950.79000002, 387.9099999999999, 158314715.32000002, 121877810.75000001, 167884998.34, 173957723.33, 142742991.06000003, 213472598.05999994, 160881047.01999998, 159889783.61, 138983041.94000003, 186761385.32000005, 144952084.47, 162399300.32999998, 3372264.25, 206920656.53, 177678611.13000003, 2968492.04, 168919977.58999997, 240225900.04, 165314031.64, 138970615.72, 134543006.32000002, 142986356.20000005]}, {\"name\": \"Predicci\\u00f3n\", \"type\": \"scatter\", \"x\": [\"2019-01-10T00:00:00\", \"2019-01-26T00:00:00\", \"2019-02-08T00:00:00\", \"2019-02-17T00:00:00\", \"2019-02-23T00:00:00\", \"2019-03-14T00:00:00\", \"2019-03-24T00:00:00\", \"2019-03-26T00:00:00\", \"2019-03-29T00:00:00\", \"2019-03-30T00:00:00\", \"2019-04-02T00:00:00\", \"2019-04-10T00:00:00\", \"2019-04-16T00:00:00\", \"2019-04-26T00:00:00\", \"2019-04-28T00:00:00\", \"2019-05-02T00:00:00\", \"2019-05-08T00:00:00\", \"2019-05-09T00:00:00\", \"2019-06-15T00:00:00\", \"2019-06-27T00:00:00\", \"2019-07-12T00:00:00\", \"2019-07-13T00:00:00\", \"2019-07-15T00:00:00\", \"2019-07-17T00:00:00\", \"2019-07-22T00:00:00\", \"2019-07-31T00:00:00\", \"2019-09-02T00:00:00\", \"2019-09-15T00:00:00\", \"2019-09-20T00:00:00\", \"2019-10-05T00:00:00\", \"2019-11-10T00:00:00\", \"2019-11-11T00:00:00\", \"2019-11-22T00:00:00\", \"2019-11-30T00:00:00\", \"2019-12-04T00:00:00\", \"2019-12-05T00:00:00\", \"2019-12-17T00:00:00\"], \"y\": [152668134.5873702, 165744312.1122883, 238826058.59091684, 3174336.418303648, 165744337.14010352, 152668192.8612581, 3174365.080256066, 123405194.84984021, 238827661.53110215, 165744670.9904481, 123406680.39882983, 139492149.2582635, 123406210.6692562, 238825256.90234855, -50463791.872610316, 152669077.44699198, 139494898.84878537, 152668491.80647004, 165744458.32126582, 152668957.170273, 238826155.47851095, 165744769.59103325, 175546555.8524397, 139494177.03886968, 175546177.66780683, 139493344.9688938, 175548038.32674778, 3174351.243811141, 238824981.42674708, 165744548.69280964, 3174351.0691516194, 175545084.483603, 238827265.11434886, 165743770.2590503, 139494875.8364298, 152668947.15538242, 123405247.39740703]}],\n",
       "                        {\"template\": {\"data\": {\"bar\": [{\"error_x\": {\"color\": \"#2a3f5f\"}, \"error_y\": {\"color\": \"#2a3f5f\"}, \"marker\": {\"line\": {\"color\": \"#E5ECF6\", \"width\": 0.5}}, \"type\": \"bar\"}], \"barpolar\": [{\"marker\": {\"line\": {\"color\": \"#E5ECF6\", \"width\": 0.5}}, \"type\": \"barpolar\"}], \"carpet\": [{\"aaxis\": {\"endlinecolor\": \"#2a3f5f\", \"gridcolor\": \"white\", \"linecolor\": \"white\", \"minorgridcolor\": \"white\", \"startlinecolor\": \"#2a3f5f\"}, \"baxis\": {\"endlinecolor\": \"#2a3f5f\", \"gridcolor\": \"white\", \"linecolor\": \"white\", \"minorgridcolor\": \"white\", \"startlinecolor\": \"#2a3f5f\"}, \"type\": \"carpet\"}], \"choropleth\": [{\"colorbar\": {\"outlinewidth\": 0, \"ticks\": \"\"}, \"type\": \"choropleth\"}], \"contour\": [{\"colorbar\": {\"outlinewidth\": 0, \"ticks\": \"\"}, \"colorscale\": [[0.0, \"#0d0887\"], [0.1111111111111111, \"#46039f\"], [0.2222222222222222, \"#7201a8\"], [0.3333333333333333, \"#9c179e\"], [0.4444444444444444, \"#bd3786\"], [0.5555555555555556, \"#d8576b\"], [0.6666666666666666, \"#ed7953\"], [0.7777777777777778, \"#fb9f3a\"], [0.8888888888888888, \"#fdca26\"], [1.0, \"#f0f921\"]], \"type\": \"contour\"}], \"contourcarpet\": [{\"colorbar\": {\"outlinewidth\": 0, \"ticks\": \"\"}, \"type\": \"contourcarpet\"}], \"heatmap\": [{\"colorbar\": {\"outlinewidth\": 0, \"ticks\": \"\"}, \"colorscale\": [[0.0, \"#0d0887\"], [0.1111111111111111, \"#46039f\"], [0.2222222222222222, \"#7201a8\"], [0.3333333333333333, \"#9c179e\"], [0.4444444444444444, \"#bd3786\"], [0.5555555555555556, \"#d8576b\"], [0.6666666666666666, \"#ed7953\"], [0.7777777777777778, \"#fb9f3a\"], [0.8888888888888888, \"#fdca26\"], [1.0, \"#f0f921\"]], \"type\": \"heatmap\"}], \"heatmapgl\": [{\"colorbar\": {\"outlinewidth\": 0, \"ticks\": \"\"}, \"colorscale\": [[0.0, \"#0d0887\"], [0.1111111111111111, \"#46039f\"], [0.2222222222222222, \"#7201a8\"], [0.3333333333333333, \"#9c179e\"], [0.4444444444444444, \"#bd3786\"], [0.5555555555555556, \"#d8576b\"], [0.6666666666666666, \"#ed7953\"], [0.7777777777777778, \"#fb9f3a\"], [0.8888888888888888, \"#fdca26\"], [1.0, \"#f0f921\"]], \"type\": \"heatmapgl\"}], \"histogram\": [{\"marker\": {\"colorbar\": {\"outlinewidth\": 0, \"ticks\": \"\"}}, \"type\": \"histogram\"}], \"histogram2d\": [{\"colorbar\": {\"outlinewidth\": 0, \"ticks\": \"\"}, \"colorscale\": [[0.0, \"#0d0887\"], [0.1111111111111111, \"#46039f\"], [0.2222222222222222, \"#7201a8\"], [0.3333333333333333, \"#9c179e\"], [0.4444444444444444, \"#bd3786\"], [0.5555555555555556, \"#d8576b\"], [0.6666666666666666, \"#ed7953\"], [0.7777777777777778, \"#fb9f3a\"], [0.8888888888888888, \"#fdca26\"], [1.0, \"#f0f921\"]], \"type\": \"histogram2d\"}], \"histogram2dcontour\": [{\"colorbar\": {\"outlinewidth\": 0, \"ticks\": \"\"}, \"colorscale\": [[0.0, \"#0d0887\"], [0.1111111111111111, \"#46039f\"], [0.2222222222222222, \"#7201a8\"], [0.3333333333333333, \"#9c179e\"], [0.4444444444444444, \"#bd3786\"], [0.5555555555555556, \"#d8576b\"], [0.6666666666666666, \"#ed7953\"], [0.7777777777777778, \"#fb9f3a\"], [0.8888888888888888, \"#fdca26\"], [1.0, \"#f0f921\"]], \"type\": \"histogram2dcontour\"}], \"mesh3d\": [{\"colorbar\": {\"outlinewidth\": 0, \"ticks\": \"\"}, \"type\": \"mesh3d\"}], \"parcoords\": [{\"line\": {\"colorbar\": {\"outlinewidth\": 0, \"ticks\": \"\"}}, \"type\": \"parcoords\"}], \"pie\": [{\"automargin\": true, \"type\": \"pie\"}], \"scatter\": [{\"marker\": {\"colorbar\": {\"outlinewidth\": 0, \"ticks\": \"\"}}, \"type\": \"scatter\"}], \"scatter3d\": [{\"line\": {\"colorbar\": {\"outlinewidth\": 0, \"ticks\": \"\"}}, \"marker\": {\"colorbar\": {\"outlinewidth\": 0, \"ticks\": \"\"}}, \"type\": \"scatter3d\"}], \"scattercarpet\": [{\"marker\": {\"colorbar\": {\"outlinewidth\": 0, \"ticks\": \"\"}}, \"type\": \"scattercarpet\"}], \"scattergeo\": [{\"marker\": {\"colorbar\": {\"outlinewidth\": 0, \"ticks\": \"\"}}, \"type\": \"scattergeo\"}], \"scattergl\": [{\"marker\": {\"colorbar\": {\"outlinewidth\": 0, \"ticks\": \"\"}}, \"type\": \"scattergl\"}], \"scattermapbox\": [{\"marker\": {\"colorbar\": {\"outlinewidth\": 0, \"ticks\": \"\"}}, \"type\": \"scattermapbox\"}], \"scatterpolar\": [{\"marker\": {\"colorbar\": {\"outlinewidth\": 0, \"ticks\": \"\"}}, \"type\": \"scatterpolar\"}], \"scatterpolargl\": [{\"marker\": {\"colorbar\": {\"outlinewidth\": 0, \"ticks\": \"\"}}, \"type\": \"scatterpolargl\"}], \"scatterternary\": [{\"marker\": {\"colorbar\": {\"outlinewidth\": 0, \"ticks\": \"\"}}, \"type\": \"scatterternary\"}], \"surface\": [{\"colorbar\": {\"outlinewidth\": 0, \"ticks\": \"\"}, \"colorscale\": [[0.0, \"#0d0887\"], [0.1111111111111111, \"#46039f\"], [0.2222222222222222, \"#7201a8\"], [0.3333333333333333, \"#9c179e\"], [0.4444444444444444, \"#bd3786\"], [0.5555555555555556, \"#d8576b\"], [0.6666666666666666, \"#ed7953\"], [0.7777777777777778, \"#fb9f3a\"], [0.8888888888888888, \"#fdca26\"], [1.0, \"#f0f921\"]], \"type\": \"surface\"}], \"table\": [{\"cells\": {\"fill\": {\"color\": \"#EBF0F8\"}, \"line\": {\"color\": \"white\"}}, \"header\": {\"fill\": {\"color\": \"#C8D4E3\"}, \"line\": {\"color\": \"white\"}}, \"type\": \"table\"}]}, \"layout\": {\"annotationdefaults\": {\"arrowcolor\": \"#2a3f5f\", \"arrowhead\": 0, \"arrowwidth\": 1}, \"coloraxis\": {\"colorbar\": {\"outlinewidth\": 0, \"ticks\": \"\"}}, \"colorscale\": {\"diverging\": [[0, \"#8e0152\"], [0.1, \"#c51b7d\"], [0.2, \"#de77ae\"], [0.3, \"#f1b6da\"], [0.4, \"#fde0ef\"], [0.5, \"#f7f7f7\"], [0.6, \"#e6f5d0\"], [0.7, \"#b8e186\"], [0.8, \"#7fbc41\"], [0.9, \"#4d9221\"], [1, \"#276419\"]], \"sequential\": [[0.0, \"#0d0887\"], [0.1111111111111111, \"#46039f\"], [0.2222222222222222, \"#7201a8\"], [0.3333333333333333, \"#9c179e\"], [0.4444444444444444, \"#bd3786\"], [0.5555555555555556, \"#d8576b\"], [0.6666666666666666, \"#ed7953\"], [0.7777777777777778, \"#fb9f3a\"], [0.8888888888888888, \"#fdca26\"], [1.0, \"#f0f921\"]], \"sequentialminus\": [[0.0, \"#0d0887\"], [0.1111111111111111, \"#46039f\"], [0.2222222222222222, \"#7201a8\"], [0.3333333333333333, \"#9c179e\"], [0.4444444444444444, \"#bd3786\"], [0.5555555555555556, \"#d8576b\"], [0.6666666666666666, \"#ed7953\"], [0.7777777777777778, \"#fb9f3a\"], [0.8888888888888888, \"#fdca26\"], [1.0, \"#f0f921\"]]}, \"colorway\": [\"#636efa\", \"#EF553B\", \"#00cc96\", \"#ab63fa\", \"#FFA15A\", \"#19d3f3\", \"#FF6692\", \"#B6E880\", \"#FF97FF\", \"#FECB52\"], \"font\": {\"color\": \"#2a3f5f\"}, \"geo\": {\"bgcolor\": \"white\", \"lakecolor\": \"white\", \"landcolor\": \"#E5ECF6\", \"showlakes\": true, \"showland\": true, \"subunitcolor\": \"white\"}, \"hoverlabel\": {\"align\": \"left\"}, \"hovermode\": \"closest\", \"mapbox\": {\"style\": \"light\"}, \"paper_bgcolor\": \"white\", \"plot_bgcolor\": \"#E5ECF6\", \"polar\": {\"angularaxis\": {\"gridcolor\": \"white\", \"linecolor\": \"white\", \"ticks\": \"\"}, \"bgcolor\": \"#E5ECF6\", \"radialaxis\": {\"gridcolor\": \"white\", \"linecolor\": \"white\", \"ticks\": \"\"}}, \"scene\": {\"xaxis\": {\"backgroundcolor\": \"#E5ECF6\", \"gridcolor\": \"white\", \"gridwidth\": 2, \"linecolor\": \"white\", \"showbackground\": true, \"ticks\": \"\", \"zerolinecolor\": \"white\"}, \"yaxis\": {\"backgroundcolor\": \"#E5ECF6\", \"gridcolor\": \"white\", \"gridwidth\": 2, \"linecolor\": \"white\", \"showbackground\": true, \"ticks\": \"\", \"zerolinecolor\": \"white\"}, \"zaxis\": {\"backgroundcolor\": \"#E5ECF6\", \"gridcolor\": \"white\", \"gridwidth\": 2, \"linecolor\": \"white\", \"showbackground\": true, \"ticks\": \"\", \"zerolinecolor\": \"white\"}}, \"shapedefaults\": {\"line\": {\"color\": \"#2a3f5f\"}}, \"ternary\": {\"aaxis\": {\"gridcolor\": \"white\", \"linecolor\": \"white\", \"ticks\": \"\"}, \"baxis\": {\"gridcolor\": \"white\", \"linecolor\": \"white\", \"ticks\": \"\"}, \"bgcolor\": \"#E5ECF6\", \"caxis\": {\"gridcolor\": \"white\", \"linecolor\": \"white\", \"ticks\": \"\"}}, \"title\": {\"x\": 0.05}, \"xaxis\": {\"automargin\": true, \"gridcolor\": \"white\", \"linecolor\": \"white\", \"ticks\": \"\", \"title\": {\"standoff\": 15}, \"zerolinecolor\": \"white\", \"zerolinewidth\": 2}, \"yaxis\": {\"automargin\": true, \"gridcolor\": \"white\", \"linecolor\": \"white\", \"ticks\": \"\", \"title\": {\"standoff\": 15}, \"zerolinecolor\": \"white\", \"zerolinewidth\": 2}}}, \"yaxis\": {\"title\": {\"text\": \"Ventas \\u20ac\"}}},\n",
       "                        {\"responsive\": true}\n",
       "                    ).then(function(){\n",
       "                            \n",
       "var gd = document.getElementById('4ddd2036-566f-4a60-9e8b-9cc63d1fa8ef');\n",
       "var x = new MutationObserver(function (mutations, observer) {{\n",
       "        var display = window.getComputedStyle(gd).display;\n",
       "        if (!display || display === 'none') {{\n",
       "            console.log([gd, 'removed!']);\n",
       "            Plotly.purge(gd);\n",
       "            observer.disconnect();\n",
       "        }}\n",
       "}});\n",
       "\n",
       "// Listen for the removal of the full notebook cells\n",
       "var notebookContainer = gd.closest('#notebook-container');\n",
       "if (notebookContainer) {{\n",
       "    x.observe(notebookContainer, {childList: true});\n",
       "}}\n",
       "\n",
       "// Listen for the clearing of the current output cell\n",
       "var outputEl = gd.closest('.output');\n",
       "if (outputEl) {{\n",
       "    x.observe(outputEl, {childList: true});\n",
       "}}\n",
       "\n",
       "                        })\n",
       "                };\n",
       "                });\n",
       "            </script>\n",
       "        </div>"
      ]
     },
     "metadata": {},
     "output_type": "display_data"
    }
   ],
   "source": [
    "iplot({\n",
    "    'data': [go.Scatter(\n",
    "                x=dias,\n",
    "                y=validation_y * max_value,\n",
    "                name='Real'\n",
    "            ),go.Scatter(\n",
    "                x=dias,\n",
    "                y=loaded_model.predict(validation_data) * max_value,\n",
    "                name='Predicción'\n",
    "    )],\n",
    "    'layout': go.Layout(\n",
    "                yaxis={\n",
    "                    'title': 'Ventas €'\n",
    "                }\n",
    "    )\n",
    "})"
   ]
  }
 ],
 "metadata": {
  "@webio": {
   "lastCommId": null,
   "lastKernelId": null
  },
  "hide_input": false,
  "kernelspec": {
   "display_name": "Python 3",
   "language": "python",
   "name": "python3"
  },
  "language_info": {
   "codemirror_mode": {
    "name": "ipython",
    "version": 3
   },
   "file_extension": ".py",
   "mimetype": "text/x-python",
   "name": "python",
   "nbconvert_exporter": "python",
   "pygments_lexer": "ipython3",
   "version": "3.7.4"
  },
  "varInspector": {
   "cols": {
    "lenName": 16,
    "lenType": 16,
    "lenVar": 40
   },
   "kernels_config": {
    "python": {
     "delete_cmd_postfix": "",
     "delete_cmd_prefix": "del ",
     "library": "var_list.py",
     "varRefreshCmd": "print(var_dic_list())"
    },
    "r": {
     "delete_cmd_postfix": ") ",
     "delete_cmd_prefix": "rm(",
     "library": "var_list.r",
     "varRefreshCmd": "cat(var_dic_list()) "
    }
   },
   "types_to_exclude": [
    "module",
    "function",
    "builtin_function_or_method",
    "instance",
    "_Feature"
   ],
   "window_display": true
  }
 },
 "nbformat": 4,
 "nbformat_minor": 2
}
