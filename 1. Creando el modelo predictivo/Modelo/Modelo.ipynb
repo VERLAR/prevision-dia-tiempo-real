{
 "cells": [
  {
   "cell_type": "markdown",
   "metadata": {},
   "source": [
    "# Creando el modelo de regresión\n",
    "\n",
    "En este apartado cargaremos los datos históricos y crearemos un modelo de regresión para hacer los cálculos de predicción. Para este ejemplo, utilizaremos el modelo SVR (`Support Vector Regression` del módulo de [scikit-learn](https://scikit-learn.org/stable/index.html) de [Python](https://www.python.org/): [sklearn.svm.SVR](https://scikit-learn.org/stable/modules/generated/sklearn.svm.SVR.html)), pero se podrían utilizar otros modelos de regresión para comparar los resultados.\n",
    "\n",
    "Los pasos que se seguirán en este *notebook* son los siguientes:\n",
    "\n",
    " 1. [Carga de datos históricos](#Carga-de-datos-históricos)\n",
    " 2. [Preparación de los datos](#Preparación-de-los-datos)\n",
    " 3. [Normalización](#Normalización)\n",
    " 4. [Añadiendo información a los datos de entrada](#Añadiendo-información-a-los-datos-de-entrada)\n",
    " 5. [Training/Test/Validation Set](#Training/Test/Validation-Set)\n",
    " 6. [Creando el modelo](#Creando-el-modelo)\n",
    " 7. [Visualizando los resultados](#Visualizando-los-resultados)\n",
    "\n",
    "## Carga de datos históricos\n",
    "\n",
    "Vamos a empezar cargando los datos:"
   ]
  },
  {
   "cell_type": "code",
   "execution_count": 15,
   "metadata": {
    "ExecuteTime": {
     "end_time": "2019-11-18T08:44:11.253319Z",
     "start_time": "2019-11-18T08:44:02.604299Z"
    }
   },
   "outputs": [],
   "source": [
    "import pandas as pd\n",
    "\n",
    "df = pd.read_csv('C:/Users/alberto.irusta/Desktop/Deusto Generacion Historico/1 - Creacion Historico/Simulación_datos_2019-01-01_2019-12-31/TXTSimulación_datos_ 2019-01-01 _ 2019-12-31 .txt',\n",
    "                 parse_dates=['ticketDate'])\n",
    "\n",
    "\n",
    "\n",
    "df.rename(columns={\"ticketDate\": \"Fecha\", \"amount\": \"Importe\"}, inplace=True)\n",
    "\n",
    "df = df[df['Fecha'] >= '2018-01-01']"
   ]
  },
  {
   "cell_type": "markdown",
   "metadata": {},
   "source": [
    "Nuestros `dataframe` de momento sólo contiene 2 columnas:\n",
    "\n",
    " - `Fecha`: día y hora de la emisión del ticket (formato `%Y-%m-%d %H:%M:%S`)\n",
    " - `Importe`: importe del ticket en €"
   ]
  },
  {
   "cell_type": "code",
   "execution_count": 16,
   "metadata": {
    "ExecuteTime": {
     "end_time": "2019-11-18T08:44:11.275028Z",
     "start_time": "2019-11-18T08:44:11.255081Z"
    }
   },
   "outputs": [
    {
     "data": {
      "text/html": [
       "<div>\n",
       "<style scoped>\n",
       "    .dataframe tbody tr th:only-of-type {\n",
       "        vertical-align: middle;\n",
       "    }\n",
       "\n",
       "    .dataframe tbody tr th {\n",
       "        vertical-align: top;\n",
       "    }\n",
       "\n",
       "    .dataframe thead th {\n",
       "        text-align: right;\n",
       "    }\n",
       "</style>\n",
       "<table border=\"1\" class=\"dataframe\">\n",
       "  <thead>\n",
       "    <tr style=\"text-align: right;\">\n",
       "      <th></th>\n",
       "      <th>Fecha</th>\n",
       "      <th>Importe</th>\n",
       "    </tr>\n",
       "  </thead>\n",
       "  <tbody>\n",
       "    <tr>\n",
       "      <td>151863</td>\n",
       "      <td>2019-12-31 19:58:00</td>\n",
       "      <td>645.45</td>\n",
       "    </tr>\n",
       "    <tr>\n",
       "      <td>151864</td>\n",
       "      <td>2019-12-31 20:05:00</td>\n",
       "      <td>1575.74</td>\n",
       "    </tr>\n",
       "    <tr>\n",
       "      <td>151865</td>\n",
       "      <td>2019-12-31 20:11:00</td>\n",
       "      <td>7682.87</td>\n",
       "    </tr>\n",
       "    <tr>\n",
       "      <td>151866</td>\n",
       "      <td>2019-12-31 20:35:00</td>\n",
       "      <td>1937.30</td>\n",
       "    </tr>\n",
       "    <tr>\n",
       "      <td>151867</td>\n",
       "      <td>2019-12-31 20:58:00</td>\n",
       "      <td>2861.57</td>\n",
       "    </tr>\n",
       "  </tbody>\n",
       "</table>\n",
       "</div>"
      ],
      "text/plain": [
       "                     Fecha  Importe\n",
       "151863 2019-12-31 19:58:00   645.45\n",
       "151864 2019-12-31 20:05:00  1575.74\n",
       "151865 2019-12-31 20:11:00  7682.87\n",
       "151866 2019-12-31 20:35:00  1937.30\n",
       "151867 2019-12-31 20:58:00  2861.57"
      ]
     },
     "execution_count": 16,
     "metadata": {},
     "output_type": "execute_result"
    }
   ],
   "source": [
    "df.tail()"
   ]
  },
  {
   "cell_type": "markdown",
   "metadata": {},
   "source": [
    "y el tipo de dato que contiene cada columna:\n",
    " - `Fecha`: tipo de dato `datetime`\n",
    " - `Importe`: tipo de dato `float`"
   ]
  },
  {
   "cell_type": "code",
   "execution_count": 17,
   "metadata": {
    "ExecuteTime": {
     "end_time": "2019-11-18T08:44:11.416597Z",
     "start_time": "2019-11-18T08:44:11.277023Z"
    }
   },
   "outputs": [
    {
     "name": "stdout",
     "output_type": "stream",
     "text": [
      "<class 'pandas.core.frame.DataFrame'>\n",
      "Int64Index: 151868 entries, 0 to 151867\n",
      "Data columns (total 2 columns):\n",
      "Fecha      151868 non-null datetime64[ns]\n",
      "Importe    151868 non-null float64\n",
      "dtypes: datetime64[ns](1), float64(1)\n",
      "memory usage: 3.5 MB\n"
     ]
    }
   ],
   "source": [
    "df.info()"
   ]
  },
  {
   "cell_type": "markdown",
   "metadata": {},
   "source": [
    "## Preparación de los datos\n",
    "\n",
    "Como se ha indicado al inicio, el objetivo es crear un modelo de **regresión**, por lo que tenemos que preparar los datos de forma que tengamos unos datos de entrada $X$ y otros de salida $Y$.\n",
    "\n",
    "Para ello, vamos a intentar transformar nuestro `dataframe` para que tenga un formato similar a la siguiente tabla (en donde las ventas se van acumulando cada 15 minutos):\n",
    "\n",
    "| Dia | 09:00 | 09:15 | 09:30 | ... | 21:30 | 21:45 | 22:00 |\n",
    "| --- | --- | --- | --- | --- | --- | --- | --- |\n",
    "| 2019-09-26 | 0 | 20 000 | 51 000 | ... | 5 000 000 | 5 000 100 | 5 000 150 |\n",
    "| 2019-09-27 | 0 | 20 200 | 51 400 | ... | 5 500 000 | 5 500 100 | 5 500 150 |\n",
    "| 2019-09-28 | 0 | 23 000 | 53 000 | ... | 6 000 000 | 6 000 100 | 6 000 150 |\n",
    "\n",
    "De esta manera, tendríamos los datos de entrada $X$ (en el que se introducirán más variables):\n",
    "\n",
    "| 09:00 | 09:15 | 09:30 | ... | 21:30 | 21:45 |\n",
    "| --- | --- | --- | --- | --- | --- |\n",
    "| 0 | 20 000 | 51 000 | ... | 5 000 000 | 5 000 100 |\n",
    "| 0 | 20 200 | 51 400 | ... | 5 500 000 | 5 500 100 |\n",
    "| 0 | 23 000 | 53 000 | ... | 6 000 000 | 6 000 100 |\n",
    "\n",
    "Y los datos de salida $Y$:\n",
    "\n",
    "| 22:00 |\n",
    "| --- |\n",
    "| 5 000 150 |\n",
    "| 5 500 150 |\n",
    "| 6 000 150 |\n",
    "\n",
    "Este es un ejemplo ilustrativo, ya que se contabilizan compras fueras del rango usual laboral (compras online u horarios especiales).\n",
    "\n",
    "Para preparar esa tabla, vamos a empezar agregando las ventas en intervalos de 15 minutos:"
   ]
  },
  {
   "cell_type": "code",
   "execution_count": 18,
   "metadata": {
    "ExecuteTime": {
     "end_time": "2019-11-18T08:44:11.471563Z",
     "start_time": "2019-11-18T08:44:11.418563Z"
    }
   },
   "outputs": [
    {
     "data": {
      "text/html": [
       "<div>\n",
       "<style scoped>\n",
       "    .dataframe tbody tr th:only-of-type {\n",
       "        vertical-align: middle;\n",
       "    }\n",
       "\n",
       "    .dataframe tbody tr th {\n",
       "        vertical-align: top;\n",
       "    }\n",
       "\n",
       "    .dataframe thead th {\n",
       "        text-align: right;\n",
       "    }\n",
       "</style>\n",
       "<table border=\"1\" class=\"dataframe\">\n",
       "  <thead>\n",
       "    <tr style=\"text-align: right;\">\n",
       "      <th></th>\n",
       "      <th>Importe</th>\n",
       "    </tr>\n",
       "    <tr>\n",
       "      <th>Fecha</th>\n",
       "      <th></th>\n",
       "    </tr>\n",
       "  </thead>\n",
       "  <tbody>\n",
       "    <tr>\n",
       "      <td>2019-12-31 19:45:00</td>\n",
       "      <td>1274.68</td>\n",
       "    </tr>\n",
       "    <tr>\n",
       "      <td>2019-12-31 20:00:00</td>\n",
       "      <td>9258.61</td>\n",
       "    </tr>\n",
       "    <tr>\n",
       "      <td>2019-12-31 20:15:00</td>\n",
       "      <td>0.00</td>\n",
       "    </tr>\n",
       "    <tr>\n",
       "      <td>2019-12-31 20:30:00</td>\n",
       "      <td>1937.30</td>\n",
       "    </tr>\n",
       "    <tr>\n",
       "      <td>2019-12-31 20:45:00</td>\n",
       "      <td>2861.57</td>\n",
       "    </tr>\n",
       "  </tbody>\n",
       "</table>\n",
       "</div>"
      ],
      "text/plain": [
       "                     Importe\n",
       "Fecha                       \n",
       "2019-12-31 19:45:00  1274.68\n",
       "2019-12-31 20:00:00  9258.61\n",
       "2019-12-31 20:15:00     0.00\n",
       "2019-12-31 20:30:00  1937.30\n",
       "2019-12-31 20:45:00  2861.57"
      ]
     },
     "execution_count": 18,
     "metadata": {},
     "output_type": "execute_result"
    }
   ],
   "source": [
    "df.index = df.pop('Fecha')\n",
    "df = df.resample('15T').sum()\n",
    "\n",
    "df.tail()"
   ]
  },
  {
   "cell_type": "markdown",
   "metadata": {},
   "source": [
    "Continuaremos desglosando la `Fecha` en 2 nuevas columnas:\n",
    " - `Dia`\n",
    " - `Hora`"
   ]
  },
  {
   "cell_type": "code",
   "execution_count": 19,
   "metadata": {
    "ExecuteTime": {
     "end_time": "2019-11-18T08:44:11.989191Z",
     "start_time": "2019-11-18T08:44:11.474525Z"
    }
   },
   "outputs": [
    {
     "data": {
      "text/html": [
       "<div>\n",
       "<style scoped>\n",
       "    .dataframe tbody tr th:only-of-type {\n",
       "        vertical-align: middle;\n",
       "    }\n",
       "\n",
       "    .dataframe tbody tr th {\n",
       "        vertical-align: top;\n",
       "    }\n",
       "\n",
       "    .dataframe thead th {\n",
       "        text-align: right;\n",
       "    }\n",
       "</style>\n",
       "<table border=\"1\" class=\"dataframe\">\n",
       "  <thead>\n",
       "    <tr style=\"text-align: right;\">\n",
       "      <th></th>\n",
       "      <th>Importe</th>\n",
       "      <th>Dia</th>\n",
       "      <th>Hora</th>\n",
       "    </tr>\n",
       "    <tr>\n",
       "      <th>Fecha</th>\n",
       "      <th></th>\n",
       "      <th></th>\n",
       "      <th></th>\n",
       "    </tr>\n",
       "  </thead>\n",
       "  <tbody>\n",
       "    <tr>\n",
       "      <td>2019-12-31 19:45:00</td>\n",
       "      <td>1274.68</td>\n",
       "      <td>2019-12-31</td>\n",
       "      <td>19:45</td>\n",
       "    </tr>\n",
       "    <tr>\n",
       "      <td>2019-12-31 20:00:00</td>\n",
       "      <td>9258.61</td>\n",
       "      <td>2019-12-31</td>\n",
       "      <td>20:00</td>\n",
       "    </tr>\n",
       "    <tr>\n",
       "      <td>2019-12-31 20:15:00</td>\n",
       "      <td>0.00</td>\n",
       "      <td>2019-12-31</td>\n",
       "      <td>20:15</td>\n",
       "    </tr>\n",
       "    <tr>\n",
       "      <td>2019-12-31 20:30:00</td>\n",
       "      <td>1937.30</td>\n",
       "      <td>2019-12-31</td>\n",
       "      <td>20:30</td>\n",
       "    </tr>\n",
       "    <tr>\n",
       "      <td>2019-12-31 20:45:00</td>\n",
       "      <td>2861.57</td>\n",
       "      <td>2019-12-31</td>\n",
       "      <td>20:45</td>\n",
       "    </tr>\n",
       "  </tbody>\n",
       "</table>\n",
       "</div>"
      ],
      "text/plain": [
       "                     Importe         Dia   Hora\n",
       "Fecha                                          \n",
       "2019-12-31 19:45:00  1274.68  2019-12-31  19:45\n",
       "2019-12-31 20:00:00  9258.61  2019-12-31  20:00\n",
       "2019-12-31 20:15:00     0.00  2019-12-31  20:15\n",
       "2019-12-31 20:30:00  1937.30  2019-12-31  20:30\n",
       "2019-12-31 20:45:00  2861.57  2019-12-31  20:45"
      ]
     },
     "execution_count": 19,
     "metadata": {},
     "output_type": "execute_result"
    }
   ],
   "source": [
    "df['Dia'] = df.index.map(lambda x: x.strftime('%Y-%m-%d'))\n",
    "df['Hora'] = df.index.map(lambda x: x.strftime('%H:%M'))\n",
    "\n",
    "df.tail()"
   ]
  },
  {
   "cell_type": "markdown",
   "metadata": {},
   "source": [
    "Ahora ya estamos listos para formatear nuestro `dataframe`, para ello utilizaremos la función [crosstab](https://pandas.pydata.org/pandas-docs/stable/reference/api/pandas.crosstab.html) del módulo de [pandas](https://pandas.pydata.org/pandas-docs/stable/index.html):"
   ]
  },
  {
   "cell_type": "code",
   "execution_count": 20,
   "metadata": {
    "ExecuteTime": {
     "end_time": "2019-11-18T08:44:12.056001Z",
     "start_time": "2019-11-18T08:44:11.991145Z"
    }
   },
   "outputs": [
    {
     "data": {
      "text/html": [
       "<div>\n",
       "<style scoped>\n",
       "    .dataframe tbody tr th:only-of-type {\n",
       "        vertical-align: middle;\n",
       "    }\n",
       "\n",
       "    .dataframe tbody tr th {\n",
       "        vertical-align: top;\n",
       "    }\n",
       "\n",
       "    .dataframe thead th {\n",
       "        text-align: right;\n",
       "    }\n",
       "</style>\n",
       "<table border=\"1\" class=\"dataframe\">\n",
       "  <thead>\n",
       "    <tr style=\"text-align: right;\">\n",
       "      <th>Hora</th>\n",
       "      <th>00:00</th>\n",
       "      <th>00:15</th>\n",
       "      <th>00:30</th>\n",
       "      <th>00:45</th>\n",
       "      <th>01:00</th>\n",
       "      <th>01:15</th>\n",
       "      <th>01:30</th>\n",
       "      <th>01:45</th>\n",
       "      <th>02:00</th>\n",
       "      <th>02:15</th>\n",
       "      <th>...</th>\n",
       "      <th>21:30</th>\n",
       "      <th>21:45</th>\n",
       "      <th>22:00</th>\n",
       "      <th>22:15</th>\n",
       "      <th>22:30</th>\n",
       "      <th>22:45</th>\n",
       "      <th>23:00</th>\n",
       "      <th>23:15</th>\n",
       "      <th>23:30</th>\n",
       "      <th>23:45</th>\n",
       "    </tr>\n",
       "    <tr>\n",
       "      <th>Dia</th>\n",
       "      <th></th>\n",
       "      <th></th>\n",
       "      <th></th>\n",
       "      <th></th>\n",
       "      <th></th>\n",
       "      <th></th>\n",
       "      <th></th>\n",
       "      <th></th>\n",
       "      <th></th>\n",
       "      <th></th>\n",
       "      <th></th>\n",
       "      <th></th>\n",
       "      <th></th>\n",
       "      <th></th>\n",
       "      <th></th>\n",
       "      <th></th>\n",
       "      <th></th>\n",
       "      <th></th>\n",
       "      <th></th>\n",
       "      <th></th>\n",
       "      <th></th>\n",
       "    </tr>\n",
       "  </thead>\n",
       "  <tbody>\n",
       "    <tr>\n",
       "      <td>2019-12-27</td>\n",
       "      <td>0.0</td>\n",
       "      <td>0.00</td>\n",
       "      <td>0.0</td>\n",
       "      <td>0.0</td>\n",
       "      <td>0.0</td>\n",
       "      <td>0.0</td>\n",
       "      <td>0.0</td>\n",
       "      <td>0.0</td>\n",
       "      <td>0.0</td>\n",
       "      <td>0.0</td>\n",
       "      <td>...</td>\n",
       "      <td>49173.00</td>\n",
       "      <td>44170.43</td>\n",
       "      <td>50518.81</td>\n",
       "      <td>18013.02</td>\n",
       "      <td>21458.66</td>\n",
       "      <td>6757.40</td>\n",
       "      <td>0.00</td>\n",
       "      <td>0.0</td>\n",
       "      <td>0.0</td>\n",
       "      <td>0.0</td>\n",
       "    </tr>\n",
       "    <tr>\n",
       "      <td>2019-12-28</td>\n",
       "      <td>0.0</td>\n",
       "      <td>13.67</td>\n",
       "      <td>0.0</td>\n",
       "      <td>0.0</td>\n",
       "      <td>0.0</td>\n",
       "      <td>0.0</td>\n",
       "      <td>0.0</td>\n",
       "      <td>0.0</td>\n",
       "      <td>0.0</td>\n",
       "      <td>0.0</td>\n",
       "      <td>...</td>\n",
       "      <td>90271.92</td>\n",
       "      <td>89756.44</td>\n",
       "      <td>51535.95</td>\n",
       "      <td>53132.90</td>\n",
       "      <td>40399.05</td>\n",
       "      <td>28427.47</td>\n",
       "      <td>0.00</td>\n",
       "      <td>0.0</td>\n",
       "      <td>0.0</td>\n",
       "      <td>0.0</td>\n",
       "    </tr>\n",
       "    <tr>\n",
       "      <td>2019-12-29</td>\n",
       "      <td>0.0</td>\n",
       "      <td>13.37</td>\n",
       "      <td>0.0</td>\n",
       "      <td>0.0</td>\n",
       "      <td>0.0</td>\n",
       "      <td>0.0</td>\n",
       "      <td>0.0</td>\n",
       "      <td>0.0</td>\n",
       "      <td>0.0</td>\n",
       "      <td>0.0</td>\n",
       "      <td>...</td>\n",
       "      <td>3373.95</td>\n",
       "      <td>2672.59</td>\n",
       "      <td>282.55</td>\n",
       "      <td>1261.87</td>\n",
       "      <td>1356.19</td>\n",
       "      <td>352.38</td>\n",
       "      <td>80.61</td>\n",
       "      <td>0.0</td>\n",
       "      <td>0.0</td>\n",
       "      <td>0.0</td>\n",
       "    </tr>\n",
       "    <tr>\n",
       "      <td>2019-12-30</td>\n",
       "      <td>0.0</td>\n",
       "      <td>0.00</td>\n",
       "      <td>0.0</td>\n",
       "      <td>0.0</td>\n",
       "      <td>0.0</td>\n",
       "      <td>0.0</td>\n",
       "      <td>0.0</td>\n",
       "      <td>0.0</td>\n",
       "      <td>0.0</td>\n",
       "      <td>0.0</td>\n",
       "      <td>...</td>\n",
       "      <td>81101.25</td>\n",
       "      <td>49469.89</td>\n",
       "      <td>0.00</td>\n",
       "      <td>9214.59</td>\n",
       "      <td>2741.31</td>\n",
       "      <td>117.33</td>\n",
       "      <td>0.00</td>\n",
       "      <td>0.0</td>\n",
       "      <td>0.0</td>\n",
       "      <td>0.0</td>\n",
       "    </tr>\n",
       "    <tr>\n",
       "      <td>2019-12-31</td>\n",
       "      <td>0.0</td>\n",
       "      <td>0.00</td>\n",
       "      <td>0.0</td>\n",
       "      <td>0.0</td>\n",
       "      <td>0.0</td>\n",
       "      <td>0.0</td>\n",
       "      <td>0.0</td>\n",
       "      <td>0.0</td>\n",
       "      <td>0.0</td>\n",
       "      <td>0.0</td>\n",
       "      <td>...</td>\n",
       "      <td>0.00</td>\n",
       "      <td>0.00</td>\n",
       "      <td>0.00</td>\n",
       "      <td>0.00</td>\n",
       "      <td>0.00</td>\n",
       "      <td>0.00</td>\n",
       "      <td>0.00</td>\n",
       "      <td>0.0</td>\n",
       "      <td>0.0</td>\n",
       "      <td>0.0</td>\n",
       "    </tr>\n",
       "  </tbody>\n",
       "</table>\n",
       "<p>5 rows × 96 columns</p>\n",
       "</div>"
      ],
      "text/plain": [
       "Hora        00:00  00:15  00:30  00:45  01:00  01:15  01:30  01:45  02:00  \\\n",
       "Dia                                                                         \n",
       "2019-12-27    0.0   0.00    0.0    0.0    0.0    0.0    0.0    0.0    0.0   \n",
       "2019-12-28    0.0  13.67    0.0    0.0    0.0    0.0    0.0    0.0    0.0   \n",
       "2019-12-29    0.0  13.37    0.0    0.0    0.0    0.0    0.0    0.0    0.0   \n",
       "2019-12-30    0.0   0.00    0.0    0.0    0.0    0.0    0.0    0.0    0.0   \n",
       "2019-12-31    0.0   0.00    0.0    0.0    0.0    0.0    0.0    0.0    0.0   \n",
       "\n",
       "Hora        02:15  ...     21:30     21:45     22:00     22:15     22:30  \\\n",
       "Dia                ...                                                     \n",
       "2019-12-27    0.0  ...  49173.00  44170.43  50518.81  18013.02  21458.66   \n",
       "2019-12-28    0.0  ...  90271.92  89756.44  51535.95  53132.90  40399.05   \n",
       "2019-12-29    0.0  ...   3373.95   2672.59    282.55   1261.87   1356.19   \n",
       "2019-12-30    0.0  ...  81101.25  49469.89      0.00   9214.59   2741.31   \n",
       "2019-12-31    0.0  ...      0.00      0.00      0.00      0.00      0.00   \n",
       "\n",
       "Hora           22:45  23:00  23:15  23:30  23:45  \n",
       "Dia                                               \n",
       "2019-12-27   6757.40   0.00    0.0    0.0    0.0  \n",
       "2019-12-28  28427.47   0.00    0.0    0.0    0.0  \n",
       "2019-12-29    352.38  80.61    0.0    0.0    0.0  \n",
       "2019-12-30    117.33   0.00    0.0    0.0    0.0  \n",
       "2019-12-31      0.00   0.00    0.0    0.0    0.0  \n",
       "\n",
       "[5 rows x 96 columns]"
      ]
     },
     "execution_count": 20,
     "metadata": {},
     "output_type": "execute_result"
    }
   ],
   "source": [
    "df = pd.crosstab(index=df['Dia'],\n",
    "                 columns=[df['Hora']],\n",
    "                 values=df.Importe,\n",
    "                 aggfunc=sum).fillna(0).reset_index()\n",
    "\n",
    "df.set_index('Dia', inplace=True)\n",
    "\n",
    "df.tail()"
   ]
  },
  {
   "cell_type": "markdown",
   "metadata": {},
   "source": [
    "Para finalizar con esta parte, vamos hacer la suma acumulada de cada fila:"
   ]
  },
  {
   "cell_type": "code",
   "execution_count": 21,
   "metadata": {
    "ExecuteTime": {
     "end_time": "2019-11-18T08:44:12.100861Z",
     "start_time": "2019-11-18T08:44:12.058966Z"
    }
   },
   "outputs": [
    {
     "data": {
      "text/html": [
       "<div>\n",
       "<style scoped>\n",
       "    .dataframe tbody tr th:only-of-type {\n",
       "        vertical-align: middle;\n",
       "    }\n",
       "\n",
       "    .dataframe tbody tr th {\n",
       "        vertical-align: top;\n",
       "    }\n",
       "\n",
       "    .dataframe thead th {\n",
       "        text-align: right;\n",
       "    }\n",
       "</style>\n",
       "<table border=\"1\" class=\"dataframe\">\n",
       "  <thead>\n",
       "    <tr style=\"text-align: right;\">\n",
       "      <th>Hora</th>\n",
       "      <th>00:00</th>\n",
       "      <th>00:15</th>\n",
       "      <th>00:30</th>\n",
       "      <th>00:45</th>\n",
       "      <th>01:00</th>\n",
       "      <th>01:15</th>\n",
       "      <th>01:30</th>\n",
       "      <th>01:45</th>\n",
       "      <th>02:00</th>\n",
       "      <th>02:15</th>\n",
       "      <th>...</th>\n",
       "      <th>21:30</th>\n",
       "      <th>21:45</th>\n",
       "      <th>22:00</th>\n",
       "      <th>22:15</th>\n",
       "      <th>22:30</th>\n",
       "      <th>22:45</th>\n",
       "      <th>23:00</th>\n",
       "      <th>23:15</th>\n",
       "      <th>23:30</th>\n",
       "      <th>23:45</th>\n",
       "    </tr>\n",
       "    <tr>\n",
       "      <th>Dia</th>\n",
       "      <th></th>\n",
       "      <th></th>\n",
       "      <th></th>\n",
       "      <th></th>\n",
       "      <th></th>\n",
       "      <th></th>\n",
       "      <th></th>\n",
       "      <th></th>\n",
       "      <th></th>\n",
       "      <th></th>\n",
       "      <th></th>\n",
       "      <th></th>\n",
       "      <th></th>\n",
       "      <th></th>\n",
       "      <th></th>\n",
       "      <th></th>\n",
       "      <th></th>\n",
       "      <th></th>\n",
       "      <th></th>\n",
       "      <th></th>\n",
       "      <th></th>\n",
       "    </tr>\n",
       "  </thead>\n",
       "  <tbody>\n",
       "    <tr>\n",
       "      <td>2019-12-27</td>\n",
       "      <td>0.0</td>\n",
       "      <td>0.00</td>\n",
       "      <td>0.00</td>\n",
       "      <td>0.00</td>\n",
       "      <td>0.00</td>\n",
       "      <td>0.00</td>\n",
       "      <td>0.00</td>\n",
       "      <td>0.00</td>\n",
       "      <td>0.00</td>\n",
       "      <td>0.00</td>\n",
       "      <td>...</td>\n",
       "      <td>5409268.18</td>\n",
       "      <td>5453438.61</td>\n",
       "      <td>5503957.42</td>\n",
       "      <td>5521970.44</td>\n",
       "      <td>5543429.10</td>\n",
       "      <td>5550186.50</td>\n",
       "      <td>5550186.50</td>\n",
       "      <td>5550186.50</td>\n",
       "      <td>5550186.50</td>\n",
       "      <td>5550186.50</td>\n",
       "    </tr>\n",
       "    <tr>\n",
       "      <td>2019-12-28</td>\n",
       "      <td>0.0</td>\n",
       "      <td>13.67</td>\n",
       "      <td>13.67</td>\n",
       "      <td>13.67</td>\n",
       "      <td>13.67</td>\n",
       "      <td>13.67</td>\n",
       "      <td>13.67</td>\n",
       "      <td>13.67</td>\n",
       "      <td>13.67</td>\n",
       "      <td>13.67</td>\n",
       "      <td>...</td>\n",
       "      <td>6426741.03</td>\n",
       "      <td>6516497.47</td>\n",
       "      <td>6568033.42</td>\n",
       "      <td>6621166.32</td>\n",
       "      <td>6661565.37</td>\n",
       "      <td>6689992.84</td>\n",
       "      <td>6689992.84</td>\n",
       "      <td>6689992.84</td>\n",
       "      <td>6689992.84</td>\n",
       "      <td>6689992.84</td>\n",
       "    </tr>\n",
       "    <tr>\n",
       "      <td>2019-12-29</td>\n",
       "      <td>0.0</td>\n",
       "      <td>13.37</td>\n",
       "      <td>13.37</td>\n",
       "      <td>13.37</td>\n",
       "      <td>13.37</td>\n",
       "      <td>13.37</td>\n",
       "      <td>13.37</td>\n",
       "      <td>13.37</td>\n",
       "      <td>13.37</td>\n",
       "      <td>13.37</td>\n",
       "      <td>...</td>\n",
       "      <td>250997.02</td>\n",
       "      <td>253669.61</td>\n",
       "      <td>253952.16</td>\n",
       "      <td>255214.03</td>\n",
       "      <td>256570.22</td>\n",
       "      <td>256922.60</td>\n",
       "      <td>257003.21</td>\n",
       "      <td>257003.21</td>\n",
       "      <td>257003.21</td>\n",
       "      <td>257003.21</td>\n",
       "    </tr>\n",
       "    <tr>\n",
       "      <td>2019-12-30</td>\n",
       "      <td>0.0</td>\n",
       "      <td>0.00</td>\n",
       "      <td>0.00</td>\n",
       "      <td>0.00</td>\n",
       "      <td>0.00</td>\n",
       "      <td>0.00</td>\n",
       "      <td>0.00</td>\n",
       "      <td>0.00</td>\n",
       "      <td>0.00</td>\n",
       "      <td>0.00</td>\n",
       "      <td>...</td>\n",
       "      <td>4809944.02</td>\n",
       "      <td>4859413.91</td>\n",
       "      <td>4859413.91</td>\n",
       "      <td>4868628.50</td>\n",
       "      <td>4871369.81</td>\n",
       "      <td>4871487.14</td>\n",
       "      <td>4871487.14</td>\n",
       "      <td>4871487.14</td>\n",
       "      <td>4871487.14</td>\n",
       "      <td>4871487.14</td>\n",
       "    </tr>\n",
       "    <tr>\n",
       "      <td>2019-12-31</td>\n",
       "      <td>0.0</td>\n",
       "      <td>0.00</td>\n",
       "      <td>0.00</td>\n",
       "      <td>0.00</td>\n",
       "      <td>0.00</td>\n",
       "      <td>0.00</td>\n",
       "      <td>0.00</td>\n",
       "      <td>0.00</td>\n",
       "      <td>0.00</td>\n",
       "      <td>0.00</td>\n",
       "      <td>...</td>\n",
       "      <td>5748856.40</td>\n",
       "      <td>5748856.40</td>\n",
       "      <td>5748856.40</td>\n",
       "      <td>5748856.40</td>\n",
       "      <td>5748856.40</td>\n",
       "      <td>5748856.40</td>\n",
       "      <td>5748856.40</td>\n",
       "      <td>5748856.40</td>\n",
       "      <td>5748856.40</td>\n",
       "      <td>5748856.40</td>\n",
       "    </tr>\n",
       "  </tbody>\n",
       "</table>\n",
       "<p>5 rows × 96 columns</p>\n",
       "</div>"
      ],
      "text/plain": [
       "Hora        00:00  00:15  00:30  00:45  01:00  01:15  01:30  01:45  02:00  \\\n",
       "Dia                                                                         \n",
       "2019-12-27    0.0   0.00   0.00   0.00   0.00   0.00   0.00   0.00   0.00   \n",
       "2019-12-28    0.0  13.67  13.67  13.67  13.67  13.67  13.67  13.67  13.67   \n",
       "2019-12-29    0.0  13.37  13.37  13.37  13.37  13.37  13.37  13.37  13.37   \n",
       "2019-12-30    0.0   0.00   0.00   0.00   0.00   0.00   0.00   0.00   0.00   \n",
       "2019-12-31    0.0   0.00   0.00   0.00   0.00   0.00   0.00   0.00   0.00   \n",
       "\n",
       "Hora        02:15  ...       21:30       21:45       22:00       22:15  \\\n",
       "Dia                ...                                                   \n",
       "2019-12-27   0.00  ...  5409268.18  5453438.61  5503957.42  5521970.44   \n",
       "2019-12-28  13.67  ...  6426741.03  6516497.47  6568033.42  6621166.32   \n",
       "2019-12-29  13.37  ...   250997.02   253669.61   253952.16   255214.03   \n",
       "2019-12-30   0.00  ...  4809944.02  4859413.91  4859413.91  4868628.50   \n",
       "2019-12-31   0.00  ...  5748856.40  5748856.40  5748856.40  5748856.40   \n",
       "\n",
       "Hora             22:30       22:45       23:00       23:15       23:30  \\\n",
       "Dia                                                                      \n",
       "2019-12-27  5543429.10  5550186.50  5550186.50  5550186.50  5550186.50   \n",
       "2019-12-28  6661565.37  6689992.84  6689992.84  6689992.84  6689992.84   \n",
       "2019-12-29   256570.22   256922.60   257003.21   257003.21   257003.21   \n",
       "2019-12-30  4871369.81  4871487.14  4871487.14  4871487.14  4871487.14   \n",
       "2019-12-31  5748856.40  5748856.40  5748856.40  5748856.40  5748856.40   \n",
       "\n",
       "Hora             23:45  \n",
       "Dia                     \n",
       "2019-12-27  5550186.50  \n",
       "2019-12-28  6689992.84  \n",
       "2019-12-29   257003.21  \n",
       "2019-12-30  4871487.14  \n",
       "2019-12-31  5748856.40  \n",
       "\n",
       "[5 rows x 96 columns]"
      ]
     },
     "execution_count": 21,
     "metadata": {},
     "output_type": "execute_result"
    }
   ],
   "source": [
    "df = df.cumsum(axis=1)\n",
    "\n",
    "df.tail()"
   ]
  },
  {
   "cell_type": "markdown",
   "metadata": {},
   "source": [
    "## Normalización\n",
    "\n",
    "Para la normalización de los datos vamos a dividir todos los campos por el máximo valor de la tabla. De esa manera, todos nuestros valores oscilarán entre 0 y 1."
   ]
  },
  {
   "cell_type": "code",
   "execution_count": 22,
   "metadata": {
    "ExecuteTime": {
     "end_time": "2019-11-18T08:44:12.183691Z",
     "start_time": "2019-11-18T08:44:12.103845Z"
    }
   },
   "outputs": [
    {
     "data": {
      "text/html": [
       "<div>\n",
       "<style scoped>\n",
       "    .dataframe tbody tr th:only-of-type {\n",
       "        vertical-align: middle;\n",
       "    }\n",
       "\n",
       "    .dataframe tbody tr th {\n",
       "        vertical-align: top;\n",
       "    }\n",
       "\n",
       "    .dataframe thead th {\n",
       "        text-align: right;\n",
       "    }\n",
       "</style>\n",
       "<table border=\"1\" class=\"dataframe\">\n",
       "  <thead>\n",
       "    <tr style=\"text-align: right;\">\n",
       "      <th>Hora</th>\n",
       "      <th>Dia</th>\n",
       "      <th>00:00</th>\n",
       "      <th>00:15</th>\n",
       "      <th>00:30</th>\n",
       "      <th>00:45</th>\n",
       "      <th>01:00</th>\n",
       "      <th>01:15</th>\n",
       "      <th>01:30</th>\n",
       "      <th>01:45</th>\n",
       "      <th>02:00</th>\n",
       "      <th>...</th>\n",
       "      <th>21:30</th>\n",
       "      <th>21:45</th>\n",
       "      <th>22:00</th>\n",
       "      <th>22:15</th>\n",
       "      <th>22:30</th>\n",
       "      <th>22:45</th>\n",
       "      <th>23:00</th>\n",
       "      <th>23:15</th>\n",
       "      <th>23:30</th>\n",
       "      <th>23:45</th>\n",
       "    </tr>\n",
       "  </thead>\n",
       "  <tbody>\n",
       "    <tr>\n",
       "      <td>360</td>\n",
       "      <td>2019-12-27</td>\n",
       "      <td>0.0</td>\n",
       "      <td>0.000000</td>\n",
       "      <td>0.000000</td>\n",
       "      <td>0.000000</td>\n",
       "      <td>0.000000</td>\n",
       "      <td>0.000000</td>\n",
       "      <td>0.000000</td>\n",
       "      <td>0.000000</td>\n",
       "      <td>0.000000</td>\n",
       "      <td>...</td>\n",
       "      <td>0.734292</td>\n",
       "      <td>0.740288</td>\n",
       "      <td>0.747146</td>\n",
       "      <td>0.749591</td>\n",
       "      <td>0.752504</td>\n",
       "      <td>0.753421</td>\n",
       "      <td>0.753421</td>\n",
       "      <td>0.753421</td>\n",
       "      <td>0.753421</td>\n",
       "      <td>0.753421</td>\n",
       "    </tr>\n",
       "    <tr>\n",
       "      <td>361</td>\n",
       "      <td>2019-12-28</td>\n",
       "      <td>0.0</td>\n",
       "      <td>0.000002</td>\n",
       "      <td>0.000002</td>\n",
       "      <td>0.000002</td>\n",
       "      <td>0.000002</td>\n",
       "      <td>0.000002</td>\n",
       "      <td>0.000002</td>\n",
       "      <td>0.000002</td>\n",
       "      <td>0.000002</td>\n",
       "      <td>...</td>\n",
       "      <td>0.872411</td>\n",
       "      <td>0.884595</td>\n",
       "      <td>0.891591</td>\n",
       "      <td>0.898804</td>\n",
       "      <td>0.904288</td>\n",
       "      <td>0.908147</td>\n",
       "      <td>0.908147</td>\n",
       "      <td>0.908147</td>\n",
       "      <td>0.908147</td>\n",
       "      <td>0.908147</td>\n",
       "    </tr>\n",
       "    <tr>\n",
       "      <td>362</td>\n",
       "      <td>2019-12-29</td>\n",
       "      <td>0.0</td>\n",
       "      <td>0.000002</td>\n",
       "      <td>0.000002</td>\n",
       "      <td>0.000002</td>\n",
       "      <td>0.000002</td>\n",
       "      <td>0.000002</td>\n",
       "      <td>0.000002</td>\n",
       "      <td>0.000002</td>\n",
       "      <td>0.000002</td>\n",
       "      <td>...</td>\n",
       "      <td>0.034072</td>\n",
       "      <td>0.034435</td>\n",
       "      <td>0.034473</td>\n",
       "      <td>0.034645</td>\n",
       "      <td>0.034829</td>\n",
       "      <td>0.034876</td>\n",
       "      <td>0.034887</td>\n",
       "      <td>0.034887</td>\n",
       "      <td>0.034887</td>\n",
       "      <td>0.034887</td>\n",
       "    </tr>\n",
       "    <tr>\n",
       "      <td>363</td>\n",
       "      <td>2019-12-30</td>\n",
       "      <td>0.0</td>\n",
       "      <td>0.000000</td>\n",
       "      <td>0.000000</td>\n",
       "      <td>0.000000</td>\n",
       "      <td>0.000000</td>\n",
       "      <td>0.000000</td>\n",
       "      <td>0.000000</td>\n",
       "      <td>0.000000</td>\n",
       "      <td>0.000000</td>\n",
       "      <td>...</td>\n",
       "      <td>0.652936</td>\n",
       "      <td>0.659651</td>\n",
       "      <td>0.659651</td>\n",
       "      <td>0.660902</td>\n",
       "      <td>0.661274</td>\n",
       "      <td>0.661290</td>\n",
       "      <td>0.661290</td>\n",
       "      <td>0.661290</td>\n",
       "      <td>0.661290</td>\n",
       "      <td>0.661290</td>\n",
       "    </tr>\n",
       "    <tr>\n",
       "      <td>364</td>\n",
       "      <td>2019-12-31</td>\n",
       "      <td>0.0</td>\n",
       "      <td>0.000000</td>\n",
       "      <td>0.000000</td>\n",
       "      <td>0.000000</td>\n",
       "      <td>0.000000</td>\n",
       "      <td>0.000000</td>\n",
       "      <td>0.000000</td>\n",
       "      <td>0.000000</td>\n",
       "      <td>0.000000</td>\n",
       "      <td>...</td>\n",
       "      <td>0.780390</td>\n",
       "      <td>0.780390</td>\n",
       "      <td>0.780390</td>\n",
       "      <td>0.780390</td>\n",
       "      <td>0.780390</td>\n",
       "      <td>0.780390</td>\n",
       "      <td>0.780390</td>\n",
       "      <td>0.780390</td>\n",
       "      <td>0.780390</td>\n",
       "      <td>0.780390</td>\n",
       "    </tr>\n",
       "  </tbody>\n",
       "</table>\n",
       "<p>5 rows × 97 columns</p>\n",
       "</div>"
      ],
      "text/plain": [
       "Hora         Dia  00:00     00:15     00:30     00:45     01:00     01:15  \\\n",
       "360   2019-12-27    0.0  0.000000  0.000000  0.000000  0.000000  0.000000   \n",
       "361   2019-12-28    0.0  0.000002  0.000002  0.000002  0.000002  0.000002   \n",
       "362   2019-12-29    0.0  0.000002  0.000002  0.000002  0.000002  0.000002   \n",
       "363   2019-12-30    0.0  0.000000  0.000000  0.000000  0.000000  0.000000   \n",
       "364   2019-12-31    0.0  0.000000  0.000000  0.000000  0.000000  0.000000   \n",
       "\n",
       "Hora     01:30     01:45     02:00  ...     21:30     21:45     22:00  \\\n",
       "360   0.000000  0.000000  0.000000  ...  0.734292  0.740288  0.747146   \n",
       "361   0.000002  0.000002  0.000002  ...  0.872411  0.884595  0.891591   \n",
       "362   0.000002  0.000002  0.000002  ...  0.034072  0.034435  0.034473   \n",
       "363   0.000000  0.000000  0.000000  ...  0.652936  0.659651  0.659651   \n",
       "364   0.000000  0.000000  0.000000  ...  0.780390  0.780390  0.780390   \n",
       "\n",
       "Hora     22:15     22:30     22:45     23:00     23:15     23:30     23:45  \n",
       "360   0.749591  0.752504  0.753421  0.753421  0.753421  0.753421  0.753421  \n",
       "361   0.898804  0.904288  0.908147  0.908147  0.908147  0.908147  0.908147  \n",
       "362   0.034645  0.034829  0.034876  0.034887  0.034887  0.034887  0.034887  \n",
       "363   0.660902  0.661274  0.661290  0.661290  0.661290  0.661290  0.661290  \n",
       "364   0.780390  0.780390  0.780390  0.780390  0.780390  0.780390  0.780390  \n",
       "\n",
       "[5 rows x 97 columns]"
      ]
     },
     "execution_count": 22,
     "metadata": {},
     "output_type": "execute_result"
    }
   ],
   "source": [
    "max_value = df['23:45'].max()\n",
    "df /= max_value\n",
    "df.reset_index(inplace=True)\n",
    "\n",
    "df.tail()"
   ]
  },
  {
   "cell_type": "markdown",
   "metadata": {},
   "source": [
    "## Añadiendo información a los datos de entrada\n",
    "\n",
    "Una vez que hemos preparado los datos para poder aplicar un modelo de regresión, vamos a añadir información adicional a los datos para intentar crear un modelo más afinado. En este caso vamos a añadir información de calendario:\n",
    "\n",
    " - Día de la semana\n",
    " - Días festivos\n",
    " \n",
    "Esas nuevas variables van a ser variables **categóricas** por lo que crearemos [variables *dummy*](https://medium.com/hugo-ferreiras-blog/dealing-with-categorical-features-in-machine-learning-1bb70f07262d) para introducirlo en el modelo.\n",
    "\n",
    "### Días de la semana"
   ]
  },
  {
   "cell_type": "code",
   "execution_count": 23,
   "metadata": {
    "ExecuteTime": {
     "end_time": "2019-11-18T08:44:12.216573Z",
     "start_time": "2019-11-18T08:44:12.185656Z"
    }
   },
   "outputs": [
    {
     "data": {
      "text/html": [
       "<div>\n",
       "<style scoped>\n",
       "    .dataframe tbody tr th:only-of-type {\n",
       "        vertical-align: middle;\n",
       "    }\n",
       "\n",
       "    .dataframe tbody tr th {\n",
       "        vertical-align: top;\n",
       "    }\n",
       "\n",
       "    .dataframe thead th {\n",
       "        text-align: right;\n",
       "    }\n",
       "</style>\n",
       "<table border=\"1\" class=\"dataframe\">\n",
       "  <thead>\n",
       "    <tr style=\"text-align: right;\">\n",
       "      <th>Hora</th>\n",
       "      <th>Dia</th>\n",
       "      <th>Lunes</th>\n",
       "      <th>Martes</th>\n",
       "      <th>Miercoles</th>\n",
       "      <th>Jueves</th>\n",
       "      <th>Viernes</th>\n",
       "      <th>Sabado</th>\n",
       "      <th>Domingo</th>\n",
       "    </tr>\n",
       "  </thead>\n",
       "  <tbody>\n",
       "    <tr>\n",
       "      <td>360</td>\n",
       "      <td>2019-12-27</td>\n",
       "      <td>False</td>\n",
       "      <td>False</td>\n",
       "      <td>False</td>\n",
       "      <td>False</td>\n",
       "      <td>True</td>\n",
       "      <td>False</td>\n",
       "      <td>False</td>\n",
       "    </tr>\n",
       "    <tr>\n",
       "      <td>361</td>\n",
       "      <td>2019-12-28</td>\n",
       "      <td>False</td>\n",
       "      <td>False</td>\n",
       "      <td>False</td>\n",
       "      <td>False</td>\n",
       "      <td>False</td>\n",
       "      <td>True</td>\n",
       "      <td>False</td>\n",
       "    </tr>\n",
       "    <tr>\n",
       "      <td>362</td>\n",
       "      <td>2019-12-29</td>\n",
       "      <td>False</td>\n",
       "      <td>False</td>\n",
       "      <td>False</td>\n",
       "      <td>False</td>\n",
       "      <td>False</td>\n",
       "      <td>False</td>\n",
       "      <td>True</td>\n",
       "    </tr>\n",
       "    <tr>\n",
       "      <td>363</td>\n",
       "      <td>2019-12-30</td>\n",
       "      <td>True</td>\n",
       "      <td>False</td>\n",
       "      <td>False</td>\n",
       "      <td>False</td>\n",
       "      <td>False</td>\n",
       "      <td>False</td>\n",
       "      <td>False</td>\n",
       "    </tr>\n",
       "    <tr>\n",
       "      <td>364</td>\n",
       "      <td>2019-12-31</td>\n",
       "      <td>False</td>\n",
       "      <td>True</td>\n",
       "      <td>False</td>\n",
       "      <td>False</td>\n",
       "      <td>False</td>\n",
       "      <td>False</td>\n",
       "      <td>False</td>\n",
       "    </tr>\n",
       "  </tbody>\n",
       "</table>\n",
       "</div>"
      ],
      "text/plain": [
       "Hora        Dia  Lunes  Martes  Miercoles  Jueves  Viernes  Sabado  Domingo\n",
       "360  2019-12-27  False   False      False   False     True   False    False\n",
       "361  2019-12-28  False   False      False   False    False    True    False\n",
       "362  2019-12-29  False   False      False   False    False   False     True\n",
       "363  2019-12-30   True   False      False   False    False   False    False\n",
       "364  2019-12-31  False    True      False   False    False   False    False"
      ]
     },
     "execution_count": 23,
     "metadata": {},
     "output_type": "execute_result"
    }
   ],
   "source": [
    "df['Dia'] = pd.to_datetime(df['Dia'])\n",
    "weekdays = [\n",
    "    [0, 'Lunes'],\n",
    "    [1, 'Martes'],\n",
    "    [2, 'Miercoles'],\n",
    "    [3, 'Jueves'],\n",
    "    [4, 'Viernes'],\n",
    "    [5, 'Sabado'],\n",
    "    [6, 'Domingo']\n",
    "]\n",
    "for weekday, weekday_name in weekdays:\n",
    "    df[weekday_name] = df['Dia'].map(lambda x: x.weekday() == weekday)\n",
    "    \n",
    "df[['Dia', 'Lunes', 'Martes', 'Miercoles',\n",
    "    'Jueves', 'Viernes', 'Sabado', 'Domingo']].tail()"
   ]
  },
  {
   "cell_type": "markdown",
   "metadata": {},
   "source": [
    "### Días Festivos"
   ]
  },
  {
   "cell_type": "code",
   "execution_count": 24,
   "metadata": {
    "ExecuteTime": {
     "end_time": "2019-11-18T08:44:12.260100Z",
     "start_time": "2019-11-18T08:44:12.218568Z"
    }
   },
   "outputs": [],
   "source": [
    "calendario = ['2019-01-01','2019-01-01','2019-01-06','2019-03-19',\n",
    "              '2019-04-28','2019-05-15','2019-07-25','2019-08-15',\n",
    "              '2019-10-12','2019-11-01','2019-12-06','2019-12-08','2019-12-25','2019-12-26']\n",
    "\n",
    "df['Festivo'] = df['Dia'].isin(calendario)"
   ]
  },
  {
   "cell_type": "markdown",
   "metadata": {},
   "source": [
    "## Training/Test/Validation Set\n",
    "\n",
    "Por último, antes de crear el modelo vamos a dividir los datos en 3 bloques:\n",
    "\n",
    " - **Training Set**: 80% de los datos\n",
    " - **Test Set**: 10% de los datos\n",
    " - **Validation Set**: 10% de los datos"
   ]
  },
  {
   "cell_type": "code",
   "execution_count": 25,
   "metadata": {
    "ExecuteTime": {
     "end_time": "2019-11-18T08:44:12.312787Z",
     "start_time": "2019-11-18T08:44:12.262064Z"
    }
   },
   "outputs": [],
   "source": [
    "def training_test_set():\n",
    "    # Training Set (80%)\n",
    "    train_data = df.sample(frac=0.8, random_state=0)\n",
    "    test_validation_data = df.drop(train_data.index)\n",
    "\n",
    "    # Test/Validatin Set (10%/10%)\n",
    "    test_data = test_validation_data.sample(frac=0.5, random_state=0)\n",
    "    validation_data = test_validation_data.drop(test_data.index)\n",
    "\n",
    "    # Definir la variable 'Y'\n",
    "    train_y = train_data.pop('23:45')\n",
    "    test_y = test_data.pop('23:45')\n",
    "    validation_y = validation_data.pop('23:45')\n",
    "\n",
    "    # Eliminamos la columna 'Dia'\n",
    "    train_data.drop(['Dia'], axis=1, inplace=True)\n",
    "    test_data.drop(['Dia'], axis=1, inplace=True)\n",
    "    validation_data.drop(['Dia'], axis=1, inplace=True)\n",
    "    \n",
    "    return [train_data, test_data, validation_data, train_y, test_y, validation_y]"
   ]
  },
  {
   "cell_type": "markdown",
   "metadata": {},
   "source": [
    "## Creando el modelo\n",
    "\n",
    "Como se ha indicado en la introducción, en este ejemplo se va a utilizar el modelo [SVR](https://scikit-learn.org/stable/modules/generated/sklearn.svm.SVR.html) para la regresión y se va a elegir el `kernel` `rbf`.\n",
    "\n",
    "No es objeto de este *notebook* explicar los detalles de este modelo, pero el lector que esté interesado en profundizar en este modelo puede ver con más detalle los algoritmos que se utilizan para hacer los cálculos en la documentación oficial de [scikit-learn](https://scikit-learn.org/stable/modules/svm.html#svm-regression).\n",
    "\n",
    "En `SVR` hay básicamente 2 parámetros que se utilizan para ajustar el modelo:\n",
    "\n",
    " - `C`\n",
    " - `Epsilon`\n",
    " \n",
    "a los que vamos a darle diferentes valores."
   ]
  },
  {
   "cell_type": "code",
   "execution_count": 26,
   "metadata": {
    "ExecuteTime": {
     "end_time": "2019-11-18T08:44:12.935853Z",
     "start_time": "2019-11-18T08:44:12.317743Z"
    }
   },
   "outputs": [],
   "source": [
    "from sklearn.svm import SVR\n",
    "\n",
    "def crear_modelo():\n",
    "    error = -1\n",
    "\n",
    "    for C in [0.1, 1, 100, 1000]:\n",
    "        for epsilon in [0.0001, 0.0005, 0.001, 0.005, 0.01, 0.05, 0.1, 0.5, 1, 5, 10]:\n",
    "            # Creamos el modelo con los parámetros seleccionados\n",
    "            svr_rbf = SVR(kernel='rbf', C=C, gamma='auto', epsilon=epsilon)\n",
    "\n",
    "            # Ajustamos el modelo a nuestros datos\n",
    "            model = svr_rbf.fit(train_data, train_y)\n",
    "\n",
    "            # Medir la calidad del modelo con el Test Set\n",
    "            error_now = (model.predict(test_data) - test_y).std()\n",
    "\n",
    "            # Guardar los parámetros si se ha mejorado el error\n",
    "            if (error_now < error) or (error == -1):\n",
    "                error = error_now\n",
    "                C_good = C\n",
    "                epsilon_good = epsilon\n",
    "                \n",
    "    return SVR(kernel='rbf', C=C_good, gamma='auto', epsilon=epsilon_good)"
   ]
  },
  {
   "cell_type": "markdown",
   "metadata": {},
   "source": [
    "Como queremos crear diferentes modelos para cada hora, a la hora de crear el modelo tendremos que modificar las variables de entrada $X$, eliminando las columnas que no se van a tener en cuenta para el modelo. Para ese fin vamos a definir la siguiente función:"
   ]
  },
  {
   "cell_type": "code",
   "execution_count": 27,
   "metadata": {
    "ExecuteTime": {
     "end_time": "2019-11-18T08:44:12.942807Z",
     "start_time": "2019-11-18T08:44:12.937823Z"
    }
   },
   "outputs": [],
   "source": [
    "def eliminar_columnas(hour_now):\n",
    "    \"\"\"Eliminar las columnas que no se van a utilizar para el cálculo de las previsiones\"\"\"\n",
    "\n",
    "    cols_drop = df.columns[(df.columns > hour_now) & (df.columns < '23:45')]\n",
    "    for col in cols_drop:\n",
    "        df.pop(col)"
   ]
  },
  {
   "cell_type": "markdown",
   "metadata": {},
   "source": [
    "También vamos a necesitar otra función para guardar los modelos utilizando el módulo `joblib`"
   ]
  },
  {
   "cell_type": "code",
   "execution_count": 28,
   "metadata": {
    "ExecuteTime": {
     "end_time": "2019-11-18T08:44:13.023059Z",
     "start_time": "2019-11-18T08:44:12.944800Z"
    }
   },
   "outputs": [],
   "source": [
    "import os\n",
    "import joblib\n",
    "\n",
    "\n",
    "def guardar_modelo_svr(name):\n",
    "    \"\"\"Guardar los resultados del modelo\"\"\"\n",
    "\n",
    "    folder = 'models/'\n",
    "    if not os.path.exists(folder):\n",
    "        os.makedirs(folder)\n",
    "\n",
    "    filename = 'all_data_model_' + name + '.sav'\n",
    "    joblib.dump(model, folder + filename)"
   ]
  },
  {
   "cell_type": "code",
   "execution_count": 29,
   "metadata": {
    "ExecuteTime": {
     "end_time": "2019-11-18T08:44:13.112072Z",
     "start_time": "2019-11-18T08:44:13.025057Z"
    }
   },
   "outputs": [],
   "source": [
    "df_orig = df.copy()"
   ]
  },
  {
   "cell_type": "markdown",
   "metadata": {},
   "source": [
    "Pongamos en marcha los cálculos..."
   ]
  },
  {
   "cell_type": "code",
   "execution_count": 30,
   "metadata": {
    "ExecuteTime": {
     "end_time": "2019-11-18T08:44:21.830206Z",
     "start_time": "2019-11-18T08:44:13.116021Z"
    },
    "scrolled": true
   },
   "outputs": [
    {
     "name": "stdout",
     "output_type": "stream",
     "text": [
      "\n",
      "Creando modelo para las 10...\n",
      "Modelo guardado!\n",
      "Error de validación: 0.05096578614287056\n",
      "\n",
      "Creando modelo para las 11...\n",
      "Modelo guardado!\n",
      "Error de validación: 0.020561691296828426\n",
      "\n",
      "Creando modelo para las 12...\n",
      "Modelo guardado!\n",
      "Error de validación: 0.021044507170357454\n",
      "\n",
      "Creando modelo para las 13...\n",
      "Modelo guardado!\n",
      "Error de validación: 0.01687355083110465\n",
      "\n",
      "Creando modelo para las 14...\n",
      "Modelo guardado!\n",
      "Error de validación: 0.017305579861425013\n",
      "\n",
      "Creando modelo para las 15...\n",
      "Modelo guardado!\n",
      "Error de validación: 0.015510280483567625\n",
      "\n",
      "Creando modelo para las 16...\n",
      "Modelo guardado!\n",
      "Error de validación: 0.015504899847212343\n",
      "\n",
      "Creando modelo para las 17...\n",
      "Modelo guardado!\n",
      "Error de validación: 0.014160931040416023\n",
      "\n",
      "Creando modelo para las 18...\n",
      "Modelo guardado!\n",
      "Error de validación: 0.012218663202950453\n",
      "\n",
      "Creando modelo para las 19...\n",
      "Modelo guardado!\n",
      "Error de validación: 0.010746137091347693\n",
      "\n",
      "Creando modelo para las 20...\n",
      "Modelo guardado!\n",
      "Error de validación: 0.006466525379556625\n",
      "\n",
      "Creando modelo para las 21...\n",
      "Modelo guardado!\n",
      "Error de validación: 0.004773504119072744\n"
     ]
    }
   ],
   "source": [
    "for hour in range(10, 22):\n",
    "    print('\\nCreando modelo para las ' + str(hour) + '...')\n",
    "    df = df_orig.copy()\n",
    "    eliminar_columnas(str(hour) + ':00')\n",
    "    train_data, test_data, validation_data, train_y, test_y, validation_y = training_test_set()\n",
    "    model = crear_modelo()\n",
    "    model.fit(train_data, train_y)\n",
    "    guardar_modelo_svr(str(hour) + '00')\n",
    "    print('Modelo guardado!')\n",
    "    print('Error de validación: ' + str((model.predict(validation_data) - validation_y).std()))"
   ]
  },
  {
   "cell_type": "markdown",
   "metadata": {},
   "source": [
    "## Visualizando los resultados\n",
    "\n",
    "Cargamos las librerias de [Plotly](https://plot.ly/python/)"
   ]
  },
  {
   "cell_type": "code",
   "execution_count": 31,
   "metadata": {
    "ExecuteTime": {
     "end_time": "2019-11-18T08:44:22.222645Z",
     "start_time": "2019-11-18T08:44:21.832201Z"
    }
   },
   "outputs": [
    {
     "data": {
      "text/html": [
       "        <script type=\"text/javascript\">\n",
       "        window.PlotlyConfig = {MathJaxConfig: 'local'};\n",
       "        if (window.MathJax) {MathJax.Hub.Config({SVG: {font: \"STIX-Web\"}});}\n",
       "        if (typeof require !== 'undefined') {\n",
       "        require.undef(\"plotly\");\n",
       "        requirejs.config({\n",
       "            paths: {\n",
       "                'plotly': ['https://cdn.plot.ly/plotly-latest.min']\n",
       "            }\n",
       "        });\n",
       "        require(['plotly'], function(Plotly) {\n",
       "            window._Plotly = Plotly;\n",
       "        });\n",
       "        }\n",
       "        </script>\n",
       "        "
      ]
     },
     "metadata": {},
     "output_type": "display_data"
    }
   ],
   "source": [
    "import plotly.graph_objs as go\n",
    "from plotly.offline import download_plotlyjs, init_notebook_mode, plot, iplot\n",
    "\n",
    "init_notebook_mode(connected=True)"
   ]
  },
  {
   "cell_type": "markdown",
   "metadata": {},
   "source": [
    "Seleccionamos los días que queremos mostrar"
   ]
  },
  {
   "cell_type": "code",
   "execution_count": 32,
   "metadata": {
    "ExecuteTime": {
     "end_time": "2019-11-18T08:44:22.749490Z",
     "start_time": "2019-11-18T08:44:22.224640Z"
    }
   },
   "outputs": [],
   "source": [
    "dias = df_orig.loc[df_orig.index.isin(validation_y.index), 'Dia']"
   ]
  },
  {
   "cell_type": "markdown",
   "metadata": {},
   "source": [
    "Cargamos el modelo que queremos analizar:"
   ]
  },
  {
   "cell_type": "code",
   "execution_count": 33,
   "metadata": {
    "ExecuteTime": {
     "end_time": "2019-11-18T08:44:22.823046Z",
     "start_time": "2019-11-18T08:44:22.751485Z"
    }
   },
   "outputs": [],
   "source": [
    "hour = 10\n",
    "\n",
    "# Cargamos el modelo\n",
    "loaded_model = joblib.load('models/all_data_model_{}00.sav'.format(str(hour)))\n",
    "\n",
    "# Creamos los datos de validación\n",
    "df = df_orig.copy()\n",
    "eliminar_columnas(str(hour) + ':00')\n",
    "train_data, test_data, validation_data, train_y, test_y, validation_y = training_test_set()"
   ]
  },
  {
   "cell_type": "markdown",
   "metadata": {},
   "source": [
    "Visualizamos"
   ]
  },
  {
   "cell_type": "code",
   "execution_count": 35,
   "metadata": {
    "ExecuteTime": {
     "end_time": "2019-11-18T08:45:32.176577Z",
     "start_time": "2019-11-18T08:45:31.950203Z"
    }
   },
   "outputs": [
    {
     "data": {
      "application/vnd.plotly.v1+json": {
       "config": {
        "linkText": "Export to plot.ly",
        "plotlyServerURL": "https://plot.ly",
        "showLink": false
       },
       "data": [
        {
         "name": "Real",
         "type": "scatter",
         "x": [
          "2019-01-10T00:00:00",
          "2019-01-26T00:00:00",
          "2019-02-08T00:00:00",
          "2019-02-17T00:00:00",
          "2019-02-23T00:00:00",
          "2019-03-14T00:00:00",
          "2019-03-24T00:00:00",
          "2019-03-26T00:00:00",
          "2019-03-29T00:00:00",
          "2019-03-30T00:00:00",
          "2019-04-02T00:00:00",
          "2019-04-10T00:00:00",
          "2019-04-16T00:00:00",
          "2019-04-26T00:00:00",
          "2019-04-28T00:00:00",
          "2019-05-02T00:00:00",
          "2019-05-08T00:00:00",
          "2019-05-09T00:00:00",
          "2019-06-15T00:00:00",
          "2019-06-27T00:00:00",
          "2019-07-12T00:00:00",
          "2019-07-13T00:00:00",
          "2019-07-15T00:00:00",
          "2019-07-17T00:00:00",
          "2019-07-22T00:00:00",
          "2019-07-31T00:00:00",
          "2019-09-02T00:00:00",
          "2019-09-15T00:00:00",
          "2019-09-20T00:00:00",
          "2019-10-05T00:00:00",
          "2019-11-10T00:00:00",
          "2019-11-11T00:00:00",
          "2019-11-22T00:00:00",
          "2019-11-30T00:00:00",
          "2019-12-04T00:00:00",
          "2019-12-05T00:00:00",
          "2019-12-17T00:00:00"
         ],
         "y": [
          3741271.2899999996,
          6416055.72,
          5675473.57,
          262675.8599999999,
          7019260.469999999,
          4067572.03,
          227043.05999999994,
          3502719.26,
          5581923.409999999,
          7020555.930000001,
          3720776.930000001,
          3951655.6,
          3466525.36,
          5720516.149999999,
          14635.16,
          4216759.4399999995,
          3701482.549999999,
          3827127.75,
          6303656.21,
          3785908.050000002,
          5658211.6400000015,
          6620927.840000001,
          4829856.540000002,
          3712773.2600000002,
          4876434.270000001,
          3688172.3000000007,
          4596767.8500000015,
          260161.10000000006,
          5407310.7,
          6862303.95,
          260752.83,
          4643738.209999999,
          5547577.550000001,
          7015595.299999998,
          3656941.2299999986,
          4245252.64,
          3751031.1299999994
         ]
        },
        {
         "name": "Predicción",
         "type": "scatter",
         "x": [
          "2019-01-10T00:00:00",
          "2019-01-26T00:00:00",
          "2019-02-08T00:00:00",
          "2019-02-17T00:00:00",
          "2019-02-23T00:00:00",
          "2019-03-14T00:00:00",
          "2019-03-24T00:00:00",
          "2019-03-26T00:00:00",
          "2019-03-29T00:00:00",
          "2019-03-30T00:00:00",
          "2019-04-02T00:00:00",
          "2019-04-10T00:00:00",
          "2019-04-16T00:00:00",
          "2019-04-26T00:00:00",
          "2019-04-28T00:00:00",
          "2019-05-02T00:00:00",
          "2019-05-08T00:00:00",
          "2019-05-09T00:00:00",
          "2019-06-15T00:00:00",
          "2019-06-27T00:00:00",
          "2019-07-12T00:00:00",
          "2019-07-13T00:00:00",
          "2019-07-15T00:00:00",
          "2019-07-17T00:00:00",
          "2019-07-22T00:00:00",
          "2019-07-31T00:00:00",
          "2019-09-02T00:00:00",
          "2019-09-15T00:00:00",
          "2019-09-20T00:00:00",
          "2019-10-05T00:00:00",
          "2019-11-10T00:00:00",
          "2019-11-11T00:00:00",
          "2019-11-22T00:00:00",
          "2019-11-30T00:00:00",
          "2019-12-04T00:00:00",
          "2019-12-05T00:00:00",
          "2019-12-17T00:00:00"
         ],
         "y": [
          3951637.6083198306,
          6694330.266559232,
          5595844.716295882,
          255434.86204041084,
          6726153.180625907,
          3945890.7212624867,
          256297.56354038988,
          3854479.0742465435,
          5608437.727541162,
          6718769.34202043,
          3861785.241273736,
          3818085.512399577,
          3872045.2062310935,
          5602531.322587293,
          -1933471.0345590713,
          3980288.186474263,
          3807472.805739452,
          3946006.569827185,
          6708117.720036445,
          3973193.289001137,
          5627008.380274839,
          6738338.924906702,
          4673703.875705427,
          3811631.478734812,
          4674456.874535914,
          3804541.149419639,
          4676860.03829084,
          255824.70912938684,
          5609007.288306465,
          6711468.331577279,
          255700.97788574288,
          4661004.6050778385,
          5617429.063578412,
          6735327.999792778,
          3808083.477815781,
          3970077.9279047446,
          3877106.093288736
         ]
        }
       ],
       "layout": {
        "template": {
         "data": {
          "bar": [
           {
            "error_x": {
             "color": "#2a3f5f"
            },
            "error_y": {
             "color": "#2a3f5f"
            },
            "marker": {
             "line": {
              "color": "#E5ECF6",
              "width": 0.5
             }
            },
            "type": "bar"
           }
          ],
          "barpolar": [
           {
            "marker": {
             "line": {
              "color": "#E5ECF6",
              "width": 0.5
             }
            },
            "type": "barpolar"
           }
          ],
          "carpet": [
           {
            "aaxis": {
             "endlinecolor": "#2a3f5f",
             "gridcolor": "white",
             "linecolor": "white",
             "minorgridcolor": "white",
             "startlinecolor": "#2a3f5f"
            },
            "baxis": {
             "endlinecolor": "#2a3f5f",
             "gridcolor": "white",
             "linecolor": "white",
             "minorgridcolor": "white",
             "startlinecolor": "#2a3f5f"
            },
            "type": "carpet"
           }
          ],
          "choropleth": [
           {
            "colorbar": {
             "outlinewidth": 0,
             "ticks": ""
            },
            "type": "choropleth"
           }
          ],
          "contour": [
           {
            "colorbar": {
             "outlinewidth": 0,
             "ticks": ""
            },
            "colorscale": [
             [
              0,
              "#0d0887"
             ],
             [
              0.1111111111111111,
              "#46039f"
             ],
             [
              0.2222222222222222,
              "#7201a8"
             ],
             [
              0.3333333333333333,
              "#9c179e"
             ],
             [
              0.4444444444444444,
              "#bd3786"
             ],
             [
              0.5555555555555556,
              "#d8576b"
             ],
             [
              0.6666666666666666,
              "#ed7953"
             ],
             [
              0.7777777777777778,
              "#fb9f3a"
             ],
             [
              0.8888888888888888,
              "#fdca26"
             ],
             [
              1,
              "#f0f921"
             ]
            ],
            "type": "contour"
           }
          ],
          "contourcarpet": [
           {
            "colorbar": {
             "outlinewidth": 0,
             "ticks": ""
            },
            "type": "contourcarpet"
           }
          ],
          "heatmap": [
           {
            "colorbar": {
             "outlinewidth": 0,
             "ticks": ""
            },
            "colorscale": [
             [
              0,
              "#0d0887"
             ],
             [
              0.1111111111111111,
              "#46039f"
             ],
             [
              0.2222222222222222,
              "#7201a8"
             ],
             [
              0.3333333333333333,
              "#9c179e"
             ],
             [
              0.4444444444444444,
              "#bd3786"
             ],
             [
              0.5555555555555556,
              "#d8576b"
             ],
             [
              0.6666666666666666,
              "#ed7953"
             ],
             [
              0.7777777777777778,
              "#fb9f3a"
             ],
             [
              0.8888888888888888,
              "#fdca26"
             ],
             [
              1,
              "#f0f921"
             ]
            ],
            "type": "heatmap"
           }
          ],
          "heatmapgl": [
           {
            "colorbar": {
             "outlinewidth": 0,
             "ticks": ""
            },
            "colorscale": [
             [
              0,
              "#0d0887"
             ],
             [
              0.1111111111111111,
              "#46039f"
             ],
             [
              0.2222222222222222,
              "#7201a8"
             ],
             [
              0.3333333333333333,
              "#9c179e"
             ],
             [
              0.4444444444444444,
              "#bd3786"
             ],
             [
              0.5555555555555556,
              "#d8576b"
             ],
             [
              0.6666666666666666,
              "#ed7953"
             ],
             [
              0.7777777777777778,
              "#fb9f3a"
             ],
             [
              0.8888888888888888,
              "#fdca26"
             ],
             [
              1,
              "#f0f921"
             ]
            ],
            "type": "heatmapgl"
           }
          ],
          "histogram": [
           {
            "marker": {
             "colorbar": {
              "outlinewidth": 0,
              "ticks": ""
             }
            },
            "type": "histogram"
           }
          ],
          "histogram2d": [
           {
            "colorbar": {
             "outlinewidth": 0,
             "ticks": ""
            },
            "colorscale": [
             [
              0,
              "#0d0887"
             ],
             [
              0.1111111111111111,
              "#46039f"
             ],
             [
              0.2222222222222222,
              "#7201a8"
             ],
             [
              0.3333333333333333,
              "#9c179e"
             ],
             [
              0.4444444444444444,
              "#bd3786"
             ],
             [
              0.5555555555555556,
              "#d8576b"
             ],
             [
              0.6666666666666666,
              "#ed7953"
             ],
             [
              0.7777777777777778,
              "#fb9f3a"
             ],
             [
              0.8888888888888888,
              "#fdca26"
             ],
             [
              1,
              "#f0f921"
             ]
            ],
            "type": "histogram2d"
           }
          ],
          "histogram2dcontour": [
           {
            "colorbar": {
             "outlinewidth": 0,
             "ticks": ""
            },
            "colorscale": [
             [
              0,
              "#0d0887"
             ],
             [
              0.1111111111111111,
              "#46039f"
             ],
             [
              0.2222222222222222,
              "#7201a8"
             ],
             [
              0.3333333333333333,
              "#9c179e"
             ],
             [
              0.4444444444444444,
              "#bd3786"
             ],
             [
              0.5555555555555556,
              "#d8576b"
             ],
             [
              0.6666666666666666,
              "#ed7953"
             ],
             [
              0.7777777777777778,
              "#fb9f3a"
             ],
             [
              0.8888888888888888,
              "#fdca26"
             ],
             [
              1,
              "#f0f921"
             ]
            ],
            "type": "histogram2dcontour"
           }
          ],
          "mesh3d": [
           {
            "colorbar": {
             "outlinewidth": 0,
             "ticks": ""
            },
            "type": "mesh3d"
           }
          ],
          "parcoords": [
           {
            "line": {
             "colorbar": {
              "outlinewidth": 0,
              "ticks": ""
             }
            },
            "type": "parcoords"
           }
          ],
          "pie": [
           {
            "automargin": true,
            "type": "pie"
           }
          ],
          "scatter": [
           {
            "marker": {
             "colorbar": {
              "outlinewidth": 0,
              "ticks": ""
             }
            },
            "type": "scatter"
           }
          ],
          "scatter3d": [
           {
            "line": {
             "colorbar": {
              "outlinewidth": 0,
              "ticks": ""
             }
            },
            "marker": {
             "colorbar": {
              "outlinewidth": 0,
              "ticks": ""
             }
            },
            "type": "scatter3d"
           }
          ],
          "scattercarpet": [
           {
            "marker": {
             "colorbar": {
              "outlinewidth": 0,
              "ticks": ""
             }
            },
            "type": "scattercarpet"
           }
          ],
          "scattergeo": [
           {
            "marker": {
             "colorbar": {
              "outlinewidth": 0,
              "ticks": ""
             }
            },
            "type": "scattergeo"
           }
          ],
          "scattergl": [
           {
            "marker": {
             "colorbar": {
              "outlinewidth": 0,
              "ticks": ""
             }
            },
            "type": "scattergl"
           }
          ],
          "scattermapbox": [
           {
            "marker": {
             "colorbar": {
              "outlinewidth": 0,
              "ticks": ""
             }
            },
            "type": "scattermapbox"
           }
          ],
          "scatterpolar": [
           {
            "marker": {
             "colorbar": {
              "outlinewidth": 0,
              "ticks": ""
             }
            },
            "type": "scatterpolar"
           }
          ],
          "scatterpolargl": [
           {
            "marker": {
             "colorbar": {
              "outlinewidth": 0,
              "ticks": ""
             }
            },
            "type": "scatterpolargl"
           }
          ],
          "scatterternary": [
           {
            "marker": {
             "colorbar": {
              "outlinewidth": 0,
              "ticks": ""
             }
            },
            "type": "scatterternary"
           }
          ],
          "surface": [
           {
            "colorbar": {
             "outlinewidth": 0,
             "ticks": ""
            },
            "colorscale": [
             [
              0,
              "#0d0887"
             ],
             [
              0.1111111111111111,
              "#46039f"
             ],
             [
              0.2222222222222222,
              "#7201a8"
             ],
             [
              0.3333333333333333,
              "#9c179e"
             ],
             [
              0.4444444444444444,
              "#bd3786"
             ],
             [
              0.5555555555555556,
              "#d8576b"
             ],
             [
              0.6666666666666666,
              "#ed7953"
             ],
             [
              0.7777777777777778,
              "#fb9f3a"
             ],
             [
              0.8888888888888888,
              "#fdca26"
             ],
             [
              1,
              "#f0f921"
             ]
            ],
            "type": "surface"
           }
          ],
          "table": [
           {
            "cells": {
             "fill": {
              "color": "#EBF0F8"
             },
             "line": {
              "color": "white"
             }
            },
            "header": {
             "fill": {
              "color": "#C8D4E3"
             },
             "line": {
              "color": "white"
             }
            },
            "type": "table"
           }
          ]
         },
         "layout": {
          "annotationdefaults": {
           "arrowcolor": "#2a3f5f",
           "arrowhead": 0,
           "arrowwidth": 1
          },
          "coloraxis": {
           "colorbar": {
            "outlinewidth": 0,
            "ticks": ""
           }
          },
          "colorscale": {
           "diverging": [
            [
             0,
             "#8e0152"
            ],
            [
             0.1,
             "#c51b7d"
            ],
            [
             0.2,
             "#de77ae"
            ],
            [
             0.3,
             "#f1b6da"
            ],
            [
             0.4,
             "#fde0ef"
            ],
            [
             0.5,
             "#f7f7f7"
            ],
            [
             0.6,
             "#e6f5d0"
            ],
            [
             0.7,
             "#b8e186"
            ],
            [
             0.8,
             "#7fbc41"
            ],
            [
             0.9,
             "#4d9221"
            ],
            [
             1,
             "#276419"
            ]
           ],
           "sequential": [
            [
             0,
             "#0d0887"
            ],
            [
             0.1111111111111111,
             "#46039f"
            ],
            [
             0.2222222222222222,
             "#7201a8"
            ],
            [
             0.3333333333333333,
             "#9c179e"
            ],
            [
             0.4444444444444444,
             "#bd3786"
            ],
            [
             0.5555555555555556,
             "#d8576b"
            ],
            [
             0.6666666666666666,
             "#ed7953"
            ],
            [
             0.7777777777777778,
             "#fb9f3a"
            ],
            [
             0.8888888888888888,
             "#fdca26"
            ],
            [
             1,
             "#f0f921"
            ]
           ],
           "sequentialminus": [
            [
             0,
             "#0d0887"
            ],
            [
             0.1111111111111111,
             "#46039f"
            ],
            [
             0.2222222222222222,
             "#7201a8"
            ],
            [
             0.3333333333333333,
             "#9c179e"
            ],
            [
             0.4444444444444444,
             "#bd3786"
            ],
            [
             0.5555555555555556,
             "#d8576b"
            ],
            [
             0.6666666666666666,
             "#ed7953"
            ],
            [
             0.7777777777777778,
             "#fb9f3a"
            ],
            [
             0.8888888888888888,
             "#fdca26"
            ],
            [
             1,
             "#f0f921"
            ]
           ]
          },
          "colorway": [
           "#636efa",
           "#EF553B",
           "#00cc96",
           "#ab63fa",
           "#FFA15A",
           "#19d3f3",
           "#FF6692",
           "#B6E880",
           "#FF97FF",
           "#FECB52"
          ],
          "font": {
           "color": "#2a3f5f"
          },
          "geo": {
           "bgcolor": "white",
           "lakecolor": "white",
           "landcolor": "#E5ECF6",
           "showlakes": true,
           "showland": true,
           "subunitcolor": "white"
          },
          "hoverlabel": {
           "align": "left"
          },
          "hovermode": "closest",
          "mapbox": {
           "style": "light"
          },
          "paper_bgcolor": "white",
          "plot_bgcolor": "#E5ECF6",
          "polar": {
           "angularaxis": {
            "gridcolor": "white",
            "linecolor": "white",
            "ticks": ""
           },
           "bgcolor": "#E5ECF6",
           "radialaxis": {
            "gridcolor": "white",
            "linecolor": "white",
            "ticks": ""
           }
          },
          "scene": {
           "xaxis": {
            "backgroundcolor": "#E5ECF6",
            "gridcolor": "white",
            "gridwidth": 2,
            "linecolor": "white",
            "showbackground": true,
            "ticks": "",
            "zerolinecolor": "white"
           },
           "yaxis": {
            "backgroundcolor": "#E5ECF6",
            "gridcolor": "white",
            "gridwidth": 2,
            "linecolor": "white",
            "showbackground": true,
            "ticks": "",
            "zerolinecolor": "white"
           },
           "zaxis": {
            "backgroundcolor": "#E5ECF6",
            "gridcolor": "white",
            "gridwidth": 2,
            "linecolor": "white",
            "showbackground": true,
            "ticks": "",
            "zerolinecolor": "white"
           }
          },
          "shapedefaults": {
           "line": {
            "color": "#2a3f5f"
           }
          },
          "ternary": {
           "aaxis": {
            "gridcolor": "white",
            "linecolor": "white",
            "ticks": ""
           },
           "baxis": {
            "gridcolor": "white",
            "linecolor": "white",
            "ticks": ""
           },
           "bgcolor": "#E5ECF6",
           "caxis": {
            "gridcolor": "white",
            "linecolor": "white",
            "ticks": ""
           }
          },
          "title": {
           "x": 0.05
          },
          "xaxis": {
           "automargin": true,
           "gridcolor": "white",
           "linecolor": "white",
           "ticks": "",
           "title": {
            "standoff": 15
           },
           "zerolinecolor": "white",
           "zerolinewidth": 2
          },
          "yaxis": {
           "automargin": true,
           "gridcolor": "white",
           "linecolor": "white",
           "ticks": "",
           "title": {
            "standoff": 15
           },
           "zerolinecolor": "white",
           "zerolinewidth": 2
          }
         }
        },
        "yaxis": {
         "title": {
          "text": "Ventas €"
         }
        }
       }
      },
      "text/html": [
       "<div>\n",
       "        \n",
       "        \n",
       "            <div id=\"7bdfc71a-74bb-4e04-a602-54ecb520f058\" class=\"plotly-graph-div\" style=\"height:525px; width:100%;\"></div>\n",
       "            <script type=\"text/javascript\">\n",
       "                require([\"plotly\"], function(Plotly) {\n",
       "                    window.PLOTLYENV=window.PLOTLYENV || {};\n",
       "                    \n",
       "                if (document.getElementById(\"7bdfc71a-74bb-4e04-a602-54ecb520f058\")) {\n",
       "                    Plotly.newPlot(\n",
       "                        '7bdfc71a-74bb-4e04-a602-54ecb520f058',\n",
       "                        [{\"name\": \"Real\", \"type\": \"scatter\", \"x\": [\"2019-01-10T00:00:00\", \"2019-01-26T00:00:00\", \"2019-02-08T00:00:00\", \"2019-02-17T00:00:00\", \"2019-02-23T00:00:00\", \"2019-03-14T00:00:00\", \"2019-03-24T00:00:00\", \"2019-03-26T00:00:00\", \"2019-03-29T00:00:00\", \"2019-03-30T00:00:00\", \"2019-04-02T00:00:00\", \"2019-04-10T00:00:00\", \"2019-04-16T00:00:00\", \"2019-04-26T00:00:00\", \"2019-04-28T00:00:00\", \"2019-05-02T00:00:00\", \"2019-05-08T00:00:00\", \"2019-05-09T00:00:00\", \"2019-06-15T00:00:00\", \"2019-06-27T00:00:00\", \"2019-07-12T00:00:00\", \"2019-07-13T00:00:00\", \"2019-07-15T00:00:00\", \"2019-07-17T00:00:00\", \"2019-07-22T00:00:00\", \"2019-07-31T00:00:00\", \"2019-09-02T00:00:00\", \"2019-09-15T00:00:00\", \"2019-09-20T00:00:00\", \"2019-10-05T00:00:00\", \"2019-11-10T00:00:00\", \"2019-11-11T00:00:00\", \"2019-11-22T00:00:00\", \"2019-11-30T00:00:00\", \"2019-12-04T00:00:00\", \"2019-12-05T00:00:00\", \"2019-12-17T00:00:00\"], \"y\": [3741271.2899999996, 6416055.72, 5675473.57, 262675.8599999999, 7019260.469999999, 4067572.03, 227043.05999999994, 3502719.26, 5581923.409999999, 7020555.930000001, 3720776.930000001, 3951655.6, 3466525.36, 5720516.149999999, 14635.16, 4216759.4399999995, 3701482.549999999, 3827127.75, 6303656.21, 3785908.050000002, 5658211.6400000015, 6620927.840000001, 4829856.540000002, 3712773.2600000002, 4876434.270000001, 3688172.3000000007, 4596767.8500000015, 260161.10000000006, 5407310.7, 6862303.95, 260752.83, 4643738.209999999, 5547577.550000001, 7015595.299999998, 3656941.2299999986, 4245252.64, 3751031.1299999994]}, {\"name\": \"Predicci\\u00f3n\", \"type\": \"scatter\", \"x\": [\"2019-01-10T00:00:00\", \"2019-01-26T00:00:00\", \"2019-02-08T00:00:00\", \"2019-02-17T00:00:00\", \"2019-02-23T00:00:00\", \"2019-03-14T00:00:00\", \"2019-03-24T00:00:00\", \"2019-03-26T00:00:00\", \"2019-03-29T00:00:00\", \"2019-03-30T00:00:00\", \"2019-04-02T00:00:00\", \"2019-04-10T00:00:00\", \"2019-04-16T00:00:00\", \"2019-04-26T00:00:00\", \"2019-04-28T00:00:00\", \"2019-05-02T00:00:00\", \"2019-05-08T00:00:00\", \"2019-05-09T00:00:00\", \"2019-06-15T00:00:00\", \"2019-06-27T00:00:00\", \"2019-07-12T00:00:00\", \"2019-07-13T00:00:00\", \"2019-07-15T00:00:00\", \"2019-07-17T00:00:00\", \"2019-07-22T00:00:00\", \"2019-07-31T00:00:00\", \"2019-09-02T00:00:00\", \"2019-09-15T00:00:00\", \"2019-09-20T00:00:00\", \"2019-10-05T00:00:00\", \"2019-11-10T00:00:00\", \"2019-11-11T00:00:00\", \"2019-11-22T00:00:00\", \"2019-11-30T00:00:00\", \"2019-12-04T00:00:00\", \"2019-12-05T00:00:00\", \"2019-12-17T00:00:00\"], \"y\": [3951637.6083198306, 6694330.266559232, 5595844.716295882, 255434.86204041084, 6726153.180625907, 3945890.7212624867, 256297.56354038988, 3854479.0742465435, 5608437.727541162, 6718769.34202043, 3861785.241273736, 3818085.512399577, 3872045.2062310935, 5602531.322587293, -1933471.0345590713, 3980288.186474263, 3807472.805739452, 3946006.569827185, 6708117.720036445, 3973193.289001137, 5627008.380274839, 6738338.924906702, 4673703.875705427, 3811631.478734812, 4674456.874535914, 3804541.149419639, 4676860.03829084, 255824.70912938684, 5609007.288306465, 6711468.331577279, 255700.97788574288, 4661004.6050778385, 5617429.063578412, 6735327.999792778, 3808083.477815781, 3970077.9279047446, 3877106.093288736]}],\n",
       "                        {\"template\": {\"data\": {\"bar\": [{\"error_x\": {\"color\": \"#2a3f5f\"}, \"error_y\": {\"color\": \"#2a3f5f\"}, \"marker\": {\"line\": {\"color\": \"#E5ECF6\", \"width\": 0.5}}, \"type\": \"bar\"}], \"barpolar\": [{\"marker\": {\"line\": {\"color\": \"#E5ECF6\", \"width\": 0.5}}, \"type\": \"barpolar\"}], \"carpet\": [{\"aaxis\": {\"endlinecolor\": \"#2a3f5f\", \"gridcolor\": \"white\", \"linecolor\": \"white\", \"minorgridcolor\": \"white\", \"startlinecolor\": \"#2a3f5f\"}, \"baxis\": {\"endlinecolor\": \"#2a3f5f\", \"gridcolor\": \"white\", \"linecolor\": \"white\", \"minorgridcolor\": \"white\", \"startlinecolor\": \"#2a3f5f\"}, \"type\": \"carpet\"}], \"choropleth\": [{\"colorbar\": {\"outlinewidth\": 0, \"ticks\": \"\"}, \"type\": \"choropleth\"}], \"contour\": [{\"colorbar\": {\"outlinewidth\": 0, \"ticks\": \"\"}, \"colorscale\": [[0.0, \"#0d0887\"], [0.1111111111111111, \"#46039f\"], [0.2222222222222222, \"#7201a8\"], [0.3333333333333333, \"#9c179e\"], [0.4444444444444444, \"#bd3786\"], [0.5555555555555556, \"#d8576b\"], [0.6666666666666666, \"#ed7953\"], [0.7777777777777778, \"#fb9f3a\"], [0.8888888888888888, \"#fdca26\"], [1.0, \"#f0f921\"]], \"type\": \"contour\"}], \"contourcarpet\": [{\"colorbar\": {\"outlinewidth\": 0, \"ticks\": \"\"}, \"type\": \"contourcarpet\"}], \"heatmap\": [{\"colorbar\": {\"outlinewidth\": 0, \"ticks\": \"\"}, \"colorscale\": [[0.0, \"#0d0887\"], [0.1111111111111111, \"#46039f\"], [0.2222222222222222, \"#7201a8\"], [0.3333333333333333, \"#9c179e\"], [0.4444444444444444, \"#bd3786\"], [0.5555555555555556, \"#d8576b\"], [0.6666666666666666, \"#ed7953\"], [0.7777777777777778, \"#fb9f3a\"], [0.8888888888888888, \"#fdca26\"], [1.0, \"#f0f921\"]], \"type\": \"heatmap\"}], \"heatmapgl\": [{\"colorbar\": {\"outlinewidth\": 0, \"ticks\": \"\"}, \"colorscale\": [[0.0, \"#0d0887\"], [0.1111111111111111, \"#46039f\"], [0.2222222222222222, \"#7201a8\"], [0.3333333333333333, \"#9c179e\"], [0.4444444444444444, \"#bd3786\"], [0.5555555555555556, \"#d8576b\"], [0.6666666666666666, \"#ed7953\"], [0.7777777777777778, \"#fb9f3a\"], [0.8888888888888888, \"#fdca26\"], [1.0, \"#f0f921\"]], \"type\": \"heatmapgl\"}], \"histogram\": [{\"marker\": {\"colorbar\": {\"outlinewidth\": 0, \"ticks\": \"\"}}, \"type\": \"histogram\"}], \"histogram2d\": [{\"colorbar\": {\"outlinewidth\": 0, \"ticks\": \"\"}, \"colorscale\": [[0.0, \"#0d0887\"], [0.1111111111111111, \"#46039f\"], [0.2222222222222222, \"#7201a8\"], [0.3333333333333333, \"#9c179e\"], [0.4444444444444444, \"#bd3786\"], [0.5555555555555556, \"#d8576b\"], [0.6666666666666666, \"#ed7953\"], [0.7777777777777778, \"#fb9f3a\"], [0.8888888888888888, \"#fdca26\"], [1.0, \"#f0f921\"]], \"type\": \"histogram2d\"}], \"histogram2dcontour\": [{\"colorbar\": {\"outlinewidth\": 0, \"ticks\": \"\"}, \"colorscale\": [[0.0, \"#0d0887\"], [0.1111111111111111, \"#46039f\"], [0.2222222222222222, \"#7201a8\"], [0.3333333333333333, \"#9c179e\"], [0.4444444444444444, \"#bd3786\"], [0.5555555555555556, \"#d8576b\"], [0.6666666666666666, \"#ed7953\"], [0.7777777777777778, \"#fb9f3a\"], [0.8888888888888888, \"#fdca26\"], [1.0, \"#f0f921\"]], \"type\": \"histogram2dcontour\"}], \"mesh3d\": [{\"colorbar\": {\"outlinewidth\": 0, \"ticks\": \"\"}, \"type\": \"mesh3d\"}], \"parcoords\": [{\"line\": {\"colorbar\": {\"outlinewidth\": 0, \"ticks\": \"\"}}, \"type\": \"parcoords\"}], \"pie\": [{\"automargin\": true, \"type\": \"pie\"}], \"scatter\": [{\"marker\": {\"colorbar\": {\"outlinewidth\": 0, \"ticks\": \"\"}}, \"type\": \"scatter\"}], \"scatter3d\": [{\"line\": {\"colorbar\": {\"outlinewidth\": 0, \"ticks\": \"\"}}, \"marker\": {\"colorbar\": {\"outlinewidth\": 0, \"ticks\": \"\"}}, \"type\": \"scatter3d\"}], \"scattercarpet\": [{\"marker\": {\"colorbar\": {\"outlinewidth\": 0, \"ticks\": \"\"}}, \"type\": \"scattercarpet\"}], \"scattergeo\": [{\"marker\": {\"colorbar\": {\"outlinewidth\": 0, \"ticks\": \"\"}}, \"type\": \"scattergeo\"}], \"scattergl\": [{\"marker\": {\"colorbar\": {\"outlinewidth\": 0, \"ticks\": \"\"}}, \"type\": \"scattergl\"}], \"scattermapbox\": [{\"marker\": {\"colorbar\": {\"outlinewidth\": 0, \"ticks\": \"\"}}, \"type\": \"scattermapbox\"}], \"scatterpolar\": [{\"marker\": {\"colorbar\": {\"outlinewidth\": 0, \"ticks\": \"\"}}, \"type\": \"scatterpolar\"}], \"scatterpolargl\": [{\"marker\": {\"colorbar\": {\"outlinewidth\": 0, \"ticks\": \"\"}}, \"type\": \"scatterpolargl\"}], \"scatterternary\": [{\"marker\": {\"colorbar\": {\"outlinewidth\": 0, \"ticks\": \"\"}}, \"type\": \"scatterternary\"}], \"surface\": [{\"colorbar\": {\"outlinewidth\": 0, \"ticks\": \"\"}, \"colorscale\": [[0.0, \"#0d0887\"], [0.1111111111111111, \"#46039f\"], [0.2222222222222222, \"#7201a8\"], [0.3333333333333333, \"#9c179e\"], [0.4444444444444444, \"#bd3786\"], [0.5555555555555556, \"#d8576b\"], [0.6666666666666666, \"#ed7953\"], [0.7777777777777778, \"#fb9f3a\"], [0.8888888888888888, \"#fdca26\"], [1.0, \"#f0f921\"]], \"type\": \"surface\"}], \"table\": [{\"cells\": {\"fill\": {\"color\": \"#EBF0F8\"}, \"line\": {\"color\": \"white\"}}, \"header\": {\"fill\": {\"color\": \"#C8D4E3\"}, \"line\": {\"color\": \"white\"}}, \"type\": \"table\"}]}, \"layout\": {\"annotationdefaults\": {\"arrowcolor\": \"#2a3f5f\", \"arrowhead\": 0, \"arrowwidth\": 1}, \"coloraxis\": {\"colorbar\": {\"outlinewidth\": 0, \"ticks\": \"\"}}, \"colorscale\": {\"diverging\": [[0, \"#8e0152\"], [0.1, \"#c51b7d\"], [0.2, \"#de77ae\"], [0.3, \"#f1b6da\"], [0.4, \"#fde0ef\"], [0.5, \"#f7f7f7\"], [0.6, \"#e6f5d0\"], [0.7, \"#b8e186\"], [0.8, \"#7fbc41\"], [0.9, \"#4d9221\"], [1, \"#276419\"]], \"sequential\": [[0.0, \"#0d0887\"], [0.1111111111111111, \"#46039f\"], [0.2222222222222222, \"#7201a8\"], [0.3333333333333333, \"#9c179e\"], [0.4444444444444444, \"#bd3786\"], [0.5555555555555556, \"#d8576b\"], [0.6666666666666666, \"#ed7953\"], [0.7777777777777778, \"#fb9f3a\"], [0.8888888888888888, \"#fdca26\"], [1.0, \"#f0f921\"]], \"sequentialminus\": [[0.0, \"#0d0887\"], [0.1111111111111111, \"#46039f\"], [0.2222222222222222, \"#7201a8\"], [0.3333333333333333, \"#9c179e\"], [0.4444444444444444, \"#bd3786\"], [0.5555555555555556, \"#d8576b\"], [0.6666666666666666, \"#ed7953\"], [0.7777777777777778, \"#fb9f3a\"], [0.8888888888888888, \"#fdca26\"], [1.0, \"#f0f921\"]]}, \"colorway\": [\"#636efa\", \"#EF553B\", \"#00cc96\", \"#ab63fa\", \"#FFA15A\", \"#19d3f3\", \"#FF6692\", \"#B6E880\", \"#FF97FF\", \"#FECB52\"], \"font\": {\"color\": \"#2a3f5f\"}, \"geo\": {\"bgcolor\": \"white\", \"lakecolor\": \"white\", \"landcolor\": \"#E5ECF6\", \"showlakes\": true, \"showland\": true, \"subunitcolor\": \"white\"}, \"hoverlabel\": {\"align\": \"left\"}, \"hovermode\": \"closest\", \"mapbox\": {\"style\": \"light\"}, \"paper_bgcolor\": \"white\", \"plot_bgcolor\": \"#E5ECF6\", \"polar\": {\"angularaxis\": {\"gridcolor\": \"white\", \"linecolor\": \"white\", \"ticks\": \"\"}, \"bgcolor\": \"#E5ECF6\", \"radialaxis\": {\"gridcolor\": \"white\", \"linecolor\": \"white\", \"ticks\": \"\"}}, \"scene\": {\"xaxis\": {\"backgroundcolor\": \"#E5ECF6\", \"gridcolor\": \"white\", \"gridwidth\": 2, \"linecolor\": \"white\", \"showbackground\": true, \"ticks\": \"\", \"zerolinecolor\": \"white\"}, \"yaxis\": {\"backgroundcolor\": \"#E5ECF6\", \"gridcolor\": \"white\", \"gridwidth\": 2, \"linecolor\": \"white\", \"showbackground\": true, \"ticks\": \"\", \"zerolinecolor\": \"white\"}, \"zaxis\": {\"backgroundcolor\": \"#E5ECF6\", \"gridcolor\": \"white\", \"gridwidth\": 2, \"linecolor\": \"white\", \"showbackground\": true, \"ticks\": \"\", \"zerolinecolor\": \"white\"}}, \"shapedefaults\": {\"line\": {\"color\": \"#2a3f5f\"}}, \"ternary\": {\"aaxis\": {\"gridcolor\": \"white\", \"linecolor\": \"white\", \"ticks\": \"\"}, \"baxis\": {\"gridcolor\": \"white\", \"linecolor\": \"white\", \"ticks\": \"\"}, \"bgcolor\": \"#E5ECF6\", \"caxis\": {\"gridcolor\": \"white\", \"linecolor\": \"white\", \"ticks\": \"\"}}, \"title\": {\"x\": 0.05}, \"xaxis\": {\"automargin\": true, \"gridcolor\": \"white\", \"linecolor\": \"white\", \"ticks\": \"\", \"title\": {\"standoff\": 15}, \"zerolinecolor\": \"white\", \"zerolinewidth\": 2}, \"yaxis\": {\"automargin\": true, \"gridcolor\": \"white\", \"linecolor\": \"white\", \"ticks\": \"\", \"title\": {\"standoff\": 15}, \"zerolinecolor\": \"white\", \"zerolinewidth\": 2}}}, \"yaxis\": {\"title\": {\"text\": \"Ventas \\u20ac\"}}},\n",
       "                        {\"responsive\": true}\n",
       "                    ).then(function(){\n",
       "                            \n",
       "var gd = document.getElementById('7bdfc71a-74bb-4e04-a602-54ecb520f058');\n",
       "var x = new MutationObserver(function (mutations, observer) {{\n",
       "        var display = window.getComputedStyle(gd).display;\n",
       "        if (!display || display === 'none') {{\n",
       "            console.log([gd, 'removed!']);\n",
       "            Plotly.purge(gd);\n",
       "            observer.disconnect();\n",
       "        }}\n",
       "}});\n",
       "\n",
       "// Listen for the removal of the full notebook cells\n",
       "var notebookContainer = gd.closest('#notebook-container');\n",
       "if (notebookContainer) {{\n",
       "    x.observe(notebookContainer, {childList: true});\n",
       "}}\n",
       "\n",
       "// Listen for the clearing of the current output cell\n",
       "var outputEl = gd.closest('.output');\n",
       "if (outputEl) {{\n",
       "    x.observe(outputEl, {childList: true});\n",
       "}}\n",
       "\n",
       "                        })\n",
       "                };\n",
       "                });\n",
       "            </script>\n",
       "        </div>"
      ]
     },
     "metadata": {},
     "output_type": "display_data"
    }
   ],
   "source": [
    "iplot({\n",
    "    'data': [go.Scatter(\n",
    "                x=dias,\n",
    "                y=validation_y * max_value,\n",
    "                name='Real'\n",
    "            ),go.Scatter(\n",
    "                x=dias,\n",
    "                y=loaded_model.predict(validation_data) * max_value,\n",
    "                name='Predicción'\n",
    "    )],\n",
    "    'layout': go.Layout(\n",
    "                yaxis={\n",
    "                    'title': 'Ventas €'\n",
    "                }\n",
    "    )\n",
    "})"
   ]
  }
 ],
 "metadata": {
  "@webio": {
   "lastCommId": null,
   "lastKernelId": null
  },
  "hide_input": false,
  "kernelspec": {
   "display_name": "Python 3",
   "language": "python",
   "name": "python3"
  },
  "language_info": {
   "codemirror_mode": {
    "name": "ipython",
    "version": 3
   },
   "file_extension": ".py",
   "mimetype": "text/x-python",
   "name": "python",
   "nbconvert_exporter": "python",
   "pygments_lexer": "ipython3",
   "version": "3.7.4"
  },
  "varInspector": {
   "cols": {
    "lenName": 16,
    "lenType": 16,
    "lenVar": 40
   },
   "kernels_config": {
    "python": {
     "delete_cmd_postfix": "",
     "delete_cmd_prefix": "del ",
     "library": "var_list.py",
     "varRefreshCmd": "print(var_dic_list())"
    },
    "r": {
     "delete_cmd_postfix": ") ",
     "delete_cmd_prefix": "rm(",
     "library": "var_list.r",
     "varRefreshCmd": "cat(var_dic_list()) "
    }
   },
   "types_to_exclude": [
    "module",
    "function",
    "builtin_function_or_method",
    "instance",
    "_Feature"
   ],
   "window_display": true
  }
 },
 "nbformat": 4,
 "nbformat_minor": 2
}
