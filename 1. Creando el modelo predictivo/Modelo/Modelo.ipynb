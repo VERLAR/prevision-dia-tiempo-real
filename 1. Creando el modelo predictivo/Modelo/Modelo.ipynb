{
  "nbformat": 4,
  "nbformat_minor": 0,
  "metadata": {
    "@webio": {
      "lastCommId": null,
      "lastKernelId": null
    },
    "hide_input": false,
    "kernelspec": {
      "display_name": "Python 3",
      "language": "python",
      "name": "python3"
    },
    "language_info": {
      "codemirror_mode": {
        "name": "ipython",
        "version": 3
      },
      "file_extension": ".py",
      "mimetype": "text/x-python",
      "name": "python",
      "nbconvert_exporter": "python",
      "pygments_lexer": "ipython3",
      "version": "3.7.4"
    },
    "varInspector": {
      "cols": {
        "lenName": 16,
        "lenType": 16,
        "lenVar": 40
      },
      "kernels_config": {
        "python": {
          "delete_cmd_postfix": "",
          "delete_cmd_prefix": "del ",
          "library": "var_list.py",
          "varRefreshCmd": "print(var_dic_list())"
        },
        "r": {
          "delete_cmd_postfix": ") ",
          "delete_cmd_prefix": "rm(",
          "library": "var_list.r",
          "varRefreshCmd": "cat(var_dic_list()) "
        }
      },
      "types_to_exclude": [
        "module",
        "function",
        "builtin_function_or_method",
        "instance",
        "_Feature"
      ],
      "window_display": true
    },
    "colab": {
      "name": "Copia de Copia de Copia de Modelo.ipynb",
      "provenance": [],
      "toc_visible": true
    }
  },
  "cells": [
    {
      "cell_type": "markdown",
      "metadata": {
        "id": "IDZ-Rb0wbOkZ"
      },
      "source": [
        "# Creando el modelo de regresión\n",
        "\n",
        "En este apartado cargaremos los datos históricos y crearemos un modelo de regresión para hacer los cálculos de predicción. Para este ejemplo, utilizaremos el modelo SVR (`Support Vector Regression` del módulo de [scikit-learn](https://scikit-learn.org/stable/index.html) de [Python](https://www.python.org/): [sklearn.svm.SVR](https://scikit-learn.org/stable/modules/generated/sklearn.svm.SVR.html)), pero se podrían utilizar otros modelos de regresión para comparar los resultados.\n",
        "\n",
        "Los pasos que se seguirán en este *notebook* son los siguientes:\n",
        "\n",
        " 1. [Carga de datos históricos](#Carga-de-datos-históricos)\n",
        " 2. [Preparación de los datos](#Preparación-de-los-datos)\n",
        " 3. [Normalización](#Normalización)\n",
        " 4. [Añadiendo información a los datos de entrada](#Añadiendo-información-a-los-datos-de-entrada)\n",
        " 5. [Training/Test/Validation Set](#Training/Test/Validation-Set)\n",
        " 6. [Creando el modelo](#Creando-el-modelo)\n",
        " 7. [Visualizando los resultados](#Visualizando-los-resultados)\n",
        "\n",
        "## Carga de datos históricos\n",
        "\n",
        "Vamos a empezar cargando los datos. Para ello, vamos a colocar los datos históricos creados en el apartado anterior en nuesto directorio. El fichero a pasar debse ser el que se llame:\n",
        "\n",
        "```\n",
        "            TXT_Simulación_datos_YYYY-01-01_YYYY-12-31.txt\n",
        "```"
      ]
    },
    {
      "cell_type": "markdown",
      "metadata": {
        "id": "JIYQLbnhcPzE"
      },
      "source": [
        "**IMPORTANTE!** También debemos crear una carpeta que se llame **modelos**. En esta carpeta se crearán los modelos."
      ]
    },
    {
      "cell_type": "markdown",
      "metadata": {
        "id": "VsQPb7ya2L9l"
      },
      "source": [
        "Además, aunque Colab tiene preinstalada la librería scikit-learn. Debemos instalar la siguiente versión (para que coincida con la misma versión futura, donde se ejecuten los modelos)"
      ]
    },
    {
      "cell_type": "code",
      "metadata": {
        "id": "C_gP1k9W2GOx"
      },
      "source": [
        "!pip install scikit-learn==0.21.3"
      ],
      "execution_count": null,
      "outputs": []
    },
    {
      "cell_type": "markdown",
      "metadata": {
        "id": "jPz1lw2Y2mCx"
      },
      "source": [
        "Ahora estamos en situación de cargar los datos:"
      ]
    },
    {
      "cell_type": "code",
      "metadata": {
        "id": "TRsvDj2p2k3m"
      },
      "source": [
        "import pandas as pd\r\n",
        "\r\n",
        "\r\n",
        "nombre_archivo = 'TXT_Simulación_datos_2021-01-01_2021-12-31.txt' #insertar aqui el filename\r\n",
        "\r\n",
        "\r\n",
        "df = pd.read_csv( nombre_archivo,\r\n",
        "                 parse_dates=['ticketDate'])\r\n",
        "\r\n",
        "df.rename(columns={\"ticketDate\": \"Fecha\", \"amount\": \"Importe\"}, inplace=True)\r\n"
      ],
      "execution_count": null,
      "outputs": []
    },
    {
      "cell_type": "markdown",
      "metadata": {
        "id": "PgU9jLvwbOky"
      },
      "source": [
        "Nuestros `dataframe` de momento sólo contiene 2 columnas:\n",
        "\n",
        " - `Fecha`: día y hora de la emisión del ticket (formato `%Y-%m-%d %H:%M:%S`)\n",
        " - `Importe`: importe del ticket en €"
      ]
    },
    {
      "cell_type": "code",
      "metadata": {
        "ExecuteTime": {
          "end_time": "2019-11-27T12:07:28.412753Z",
          "start_time": "2019-11-27T12:07:28.079646Z"
        },
        "id": "hD2bEj39bOkz"
      },
      "source": [
        "df.tail()"
      ],
      "execution_count": null,
      "outputs": []
    },
    {
      "cell_type": "markdown",
      "metadata": {
        "id": "o97u7UJabOk1"
      },
      "source": [
        "y el tipo de dato que contiene cada columna:\n",
        " - `Fecha`: tipo de dato `datetime`\n",
        " - `Importe`: tipo de dato `float`"
      ]
    },
    {
      "cell_type": "code",
      "metadata": {
        "ExecuteTime": {
          "end_time": "2019-11-27T12:07:28.632166Z",
          "start_time": "2019-11-27T12:07:28.415746Z"
        },
        "id": "XAqATdO7bOk2"
      },
      "source": [
        "df.info()"
      ],
      "execution_count": null,
      "outputs": []
    },
    {
      "cell_type": "markdown",
      "metadata": {
        "id": "6oGuwZBbbOk3"
      },
      "source": [
        "## Preparación de los datos\n",
        "\n",
        "Como se ha indicado al inicio, el objetivo es crear un modelo de **regresión**, por lo que tenemos que preparar los datos de forma que tengamos unos datos de entrada $X$ y otros de salida $Y$.\n",
        "\n",
        "Para ello, vamos a intentar transformar nuestro `dataframe` para que tenga un formato similar a la siguiente tabla (en donde las ventas se van acumulando cada 15 minutos):\n",
        "\n",
        "| Dia | 09:00 | 09:15 | 09:30 | ... | 21:30 | 21:45 | 22:00 |\n",
        "| --- | --- | --- | --- | --- | --- | --- | --- |\n",
        "| 2019-09-26 | 0 | 20 000 | 51 000 | ... | 5 000 000 | 5 000 100 | 5 000 150 |\n",
        "| 2019-09-27 | 0 | 20 200 | 51 400 | ... | 5 500 000 | 5 500 100 | 5 500 150 |\n",
        "| 2019-09-28 | 0 | 23 000 | 53 000 | ... | 6 000 000 | 6 000 100 | 6 000 150 |\n",
        "\n",
        "De esta manera, tendríamos los datos de entrada $X$ (en el que se introducirán más variables):\n",
        "\n",
        "| 09:00 | 09:15 | 09:30 | ... | 21:30 | 21:45 |\n",
        "| --- | --- | --- | --- | --- | --- |\n",
        "| 0 | 20 000 | 51 000 | ... | 5 000 000 | 5 000 100 |\n",
        "| 0 | 20 200 | 51 400 | ... | 5 500 000 | 5 500 100 |\n",
        "| 0 | 23 000 | 53 000 | ... | 6 000 000 | 6 000 100 |\n",
        "\n",
        "Y los datos de salida $Y$:\n",
        "\n",
        "| 22:00 |\n",
        "| --- |\n",
        "| 5 000 150 |\n",
        "| 5 500 150 |\n",
        "| 6 000 150 |\n",
        "\n",
        "Este es un ejemplo ilustrativo, ya que se contabilizan compras fueras del rango usual laboral (compras online u horarios especiales).\n",
        "\n",
        "Para preparar esa tabla, vamos a empezar agregando las ventas en intervalos de 15 minutos:"
      ]
    },
    {
      "cell_type": "code",
      "metadata": {
        "ExecuteTime": {
          "end_time": "2019-11-27T12:07:28.830667Z",
          "start_time": "2019-11-27T12:07:28.634161Z"
        },
        "id": "-fOfOx_RbOk4"
      },
      "source": [
        "df.index = df.pop('Fecha')\n",
        "df = df.resample('15T').sum()\n",
        "\n",
        "df.tail()"
      ],
      "execution_count": null,
      "outputs": []
    },
    {
      "cell_type": "markdown",
      "metadata": {
        "id": "spPB7pJkbOk5"
      },
      "source": [
        "Continuaremos desglosando la `Fecha` en 2 nuevas columnas:\n",
        " - `Dia`\n",
        " - `Hora`"
      ]
    },
    {
      "cell_type": "code",
      "metadata": {
        "ExecuteTime": {
          "end_time": "2019-11-27T12:07:29.670394Z",
          "start_time": "2019-11-27T12:07:28.832630Z"
        },
        "id": "c5Mwx0a_bOk6"
      },
      "source": [
        "df['Dia'] = df.index.map(lambda x: x.strftime('%Y-%m-%d'))\n",
        "df['Hora'] = df.index.map(lambda x: x.strftime('%H:%M'))\n",
        "\n",
        "df.tail()"
      ],
      "execution_count": null,
      "outputs": []
    },
    {
      "cell_type": "markdown",
      "metadata": {
        "id": "o8FLnmykbOk7"
      },
      "source": [
        "Ahora ya estamos listos para formatear nuestro `dataframe`, para ello utilizaremos la función [crosstab](https://pandas.pydata.org/pandas-docs/stable/reference/api/pandas.crosstab.html) del módulo de [pandas](https://pandas.pydata.org/pandas-docs/stable/index.html):"
      ]
    },
    {
      "cell_type": "code",
      "metadata": {
        "ExecuteTime": {
          "end_time": "2019-11-27T12:07:29.963657Z",
          "start_time": "2019-11-27T12:07:29.672382Z"
        },
        "id": "l9kgKMMzbOk8"
      },
      "source": [
        "df = pd.crosstab(index=df['Dia'],\n",
        "                 columns=[df['Hora']],\n",
        "                 values=df.Importe,\n",
        "                 aggfunc=sum).fillna(0).reset_index()\n",
        "\n",
        "df.set_index('Dia', inplace=True)\n",
        "\n",
        "df.tail()"
      ],
      "execution_count": null,
      "outputs": []
    },
    {
      "cell_type": "markdown",
      "metadata": {
        "id": "rGqHm8cgbOk8"
      },
      "source": [
        "Para finalizar con esta parte, vamos hacer la suma acumulada de cada fila:"
      ]
    },
    {
      "cell_type": "code",
      "metadata": {
        "ExecuteTime": {
          "end_time": "2019-11-27T12:07:30.338825Z",
          "start_time": "2019-11-27T12:07:29.965624Z"
        },
        "id": "4-YpEHFwbOk9"
      },
      "source": [
        "df = df.cumsum(axis=1)\n",
        "\n",
        "df.tail()"
      ],
      "execution_count": null,
      "outputs": []
    },
    {
      "cell_type": "markdown",
      "metadata": {
        "id": "jHNy9AT4bOk-"
      },
      "source": [
        "## Normalización\n",
        "\n",
        "Para la normalización de los datos vamos a dividir todos los campos por el máximo valor de la tabla. De esa manera, todos nuestros valores oscilarán entre 0 y 1."
      ]
    },
    {
      "cell_type": "code",
      "metadata": {
        "ExecuteTime": {
          "end_time": "2019-11-27T12:07:30.748143Z",
          "start_time": "2019-11-27T12:07:30.345807Z"
        },
        "id": "SIbQ1yCTbOk-"
      },
      "source": [
        "max_value = df['23:45'].max()\n",
        "df /= max_value\n",
        "df.reset_index(inplace=True)\n",
        "\n",
        "df.tail()"
      ],
      "execution_count": null,
      "outputs": []
    },
    {
      "cell_type": "markdown",
      "metadata": {
        "id": "ROYJJ3dxbOk_"
      },
      "source": [
        "## Añadiendo información a los datos de entrada\n",
        "\n",
        "Una vez que hemos preparado los datos para poder aplicar un modelo de regresión, vamos a añadir información adicional a los datos para intentar crear un modelo más afinado. En este caso vamos a añadir información de calendario:\n",
        "\n",
        " - Día de la semana\n",
        " - Días festivos\n",
        " \n",
        "Esas nuevas variables van a ser variables **categóricas** por lo que crearemos [variables *dummy*](https://medium.com/hugo-ferreiras-blog/dealing-with-categorical-features-in-machine-learning-1bb70f07262d) para introducirlo en el modelo.\n",
        "\n",
        "### Días de la semana"
      ]
    },
    {
      "cell_type": "code",
      "metadata": {
        "ExecuteTime": {
          "end_time": "2019-11-27T12:07:31.259149Z",
          "start_time": "2019-11-27T12:07:30.750110Z"
        },
        "id": "mNhW1q9ebOlA"
      },
      "source": [
        "df['Dia'] = pd.to_datetime(df['Dia'])\n",
        "weekdays = [\n",
        "    [0, 'Lunes'],\n",
        "    [1, 'Martes'],\n",
        "    [2, 'Miercoles'],\n",
        "    [3, 'Jueves'],\n",
        "    [4, 'Viernes'],\n",
        "    [5, 'Sabado'],\n",
        "    [6, 'Domingo']\n",
        "]\n",
        "for weekday, weekday_name in weekdays:\n",
        "    df[weekday_name] = df['Dia'].map(lambda x: x.weekday() == weekday)\n",
        "    \n",
        "df[['Dia', 'Lunes', 'Martes', 'Miercoles',\n",
        "    'Jueves', 'Viernes', 'Sabado', 'Domingo']].tail()"
      ],
      "execution_count": null,
      "outputs": []
    },
    {
      "cell_type": "markdown",
      "metadata": {
        "id": "znVmbIqibOlA"
      },
      "source": [
        "### Días Festivos"
      ]
    },
    {
      "cell_type": "code",
      "metadata": {
        "ExecuteTime": {
          "end_time": "2019-11-27T12:07:31.745303Z",
          "start_time": "2019-11-27T12:07:31.262142Z"
        },
        "id": "Gza2VDacbOlB"
      },
      "source": [
        "calendario = ['2021-01-01','2021-01-06','2021-03-19',\n",
        "              '2021-04-28','2021-05-15','2021-07-25','2021-08-15',\n",
        "              '2021-10-12','2021-11-01','2021-12-06','2021-12-08','2021-12-25','2021-12-26']\n",
        "\n",
        "df['Festivo'] = df['Dia'].isin(calendario)"
      ],
      "execution_count": null,
      "outputs": []
    },
    {
      "cell_type": "markdown",
      "metadata": {
        "id": "aOjOpZrTbOlC"
      },
      "source": [
        "## Training/Test/Validation Set\n",
        "\n",
        "Por último, antes de crear el modelo vamos a dividir los datos en 3 bloques:\n",
        "\n",
        " - **Training Set**: 80% de los datos\n",
        " - **Test Set**: 10% de los datos\n",
        " - **Validation Set**: 10% de los datos"
      ]
    },
    {
      "cell_type": "code",
      "metadata": {
        "ExecuteTime": {
          "end_time": "2019-11-27T12:07:32.204420Z",
          "start_time": "2019-11-27T12:07:31.747266Z"
        },
        "id": "b3QyDVZgbOlD"
      },
      "source": [
        "def training_test_set():\n",
        "    # Training Set (80%)\n",
        "    train_data = df.sample(frac=0.8, random_state=0)\n",
        "    test_validation_data = df.drop(train_data.index)\n",
        "\n",
        "    # Test/Validatin Set (10%/10%)\n",
        "    test_data = test_validation_data.sample(frac=0.5, random_state=0)\n",
        "    validation_data = test_validation_data.drop(test_data.index)\n",
        "\n",
        "    # Definir la variable 'Y'\n",
        "    train_y = train_data.pop('23:45')\n",
        "    test_y = test_data.pop('23:45')\n",
        "    validation_y = validation_data.pop('23:45')\n",
        "\n",
        "    # Eliminamos la columna 'Dia'\n",
        "    train_data.drop(['Dia'], axis=1, inplace=True)\n",
        "    test_data.drop(['Dia'], axis=1, inplace=True)\n",
        "    validation_data.drop(['Dia'], axis=1, inplace=True)\n",
        "    \n",
        "    return [train_data, test_data, validation_data, train_y, test_y, validation_y]"
      ],
      "execution_count": null,
      "outputs": []
    },
    {
      "cell_type": "markdown",
      "metadata": {
        "id": "SMxIjnncbOlF"
      },
      "source": [
        "## Creando el modelo\n",
        "\n",
        "Como se ha indicado en la introducción, en este ejemplo se va a utilizar el modelo [SVR](https://scikit-learn.org/stable/modules/generated/sklearn.svm.SVR.html) para la regresión y se va a elegir el `kernel` `rbf`.\n",
        "\n",
        "No es objeto de este *notebook* explicar los detalles de este modelo, pero el lector que esté interesado en profundizar en este modelo puede ver con más detalle los algoritmos que se utilizan para hacer los cálculos en la documentación oficial de [scikit-learn](https://scikit-learn.org/stable/modules/svm.html#svm-regression).\n",
        "\n",
        "En `SVR` hay básicamente 2 parámetros que se utilizan para ajustar el modelo:\n",
        "\n",
        " - `C`\n",
        " - `Epsilon`\n",
        " \n",
        "a los que vamos a darle diferentes valores."
      ]
    },
    {
      "cell_type": "code",
      "metadata": {
        "ExecuteTime": {
          "end_time": "2019-11-27T12:07:32.316558Z",
          "start_time": "2019-11-27T12:07:32.207344Z"
        },
        "id": "X-zMS0v-bOlI"
      },
      "source": [
        "from sklearn.svm import SVR\n",
        "\n",
        "def crear_modelo():\n",
        "    error = -1\n",
        "\n",
        "    for C in [0.1, 1, 100, 1000]:\n",
        "        for epsilon in [0.0001, 0.0005, 0.001, 0.005, 0.01, 0.05, 0.1, 0.5, 1, 5, 10]:\n",
        "            # Creamos el modelo con los parámetros seleccionados\n",
        "            svr_rbf = SVR(kernel='rbf', C=C, gamma='auto', epsilon=epsilon)\n",
        "\n",
        "            # Ajustamos el modelo a nuestros datos\n",
        "            model = svr_rbf.fit(train_data, train_y)\n",
        "\n",
        "            # Medir la calidad del modelo con el Test Set\n",
        "            error_now = (model.predict(test_data) - test_y).std()\n",
        "\n",
        "            # Guardar los parámetros si se ha mejorado el error\n",
        "            if (error_now < error) or (error == -1):\n",
        "                error = error_now\n",
        "                C_good = C\n",
        "                epsilon_good = epsilon\n",
        "                \n",
        "    return SVR(kernel='rbf', C=C_good, gamma='auto', epsilon=epsilon_good)"
      ],
      "execution_count": null,
      "outputs": []
    },
    {
      "cell_type": "markdown",
      "metadata": {
        "id": "LRcCOo8jbOlK"
      },
      "source": [
        "Como queremos crear diferentes modelos para cada hora, a la hora de crear el modelo tendremos que modificar las variables de entrada $X$, eliminando las columnas que no se van a tener en cuenta para el modelo. Para ese fin vamos a definir la siguiente función:"
      ]
    },
    {
      "cell_type": "code",
      "metadata": {
        "ExecuteTime": {
          "end_time": "2019-11-27T12:07:32.368062Z",
          "start_time": "2019-11-27T12:07:32.318556Z"
        },
        "id": "vP4kg_RabOlL"
      },
      "source": [
        "def eliminar_columnas(hour_now):\n",
        "    \"\"\"Eliminar las columnas que no se van a utilizar para el cálculo de las previsiones\"\"\"\n",
        "\n",
        "    cols_drop = df.columns[(df.columns > hour_now) & (df.columns < '23:45')]\n",
        "    for col in cols_drop:\n",
        "        df.pop(col)"
      ],
      "execution_count": null,
      "outputs": []
    },
    {
      "cell_type": "markdown",
      "metadata": {
        "id": "8ZSEES2CbOlO"
      },
      "source": [
        "También vamos a necesitar otra función para guardar los modelos utilizando el módulo `joblib`"
      ]
    },
    {
      "cell_type": "code",
      "metadata": {
        "ExecuteTime": {
          "end_time": "2019-11-27T12:07:32.419024Z",
          "start_time": "2019-11-27T12:07:32.370082Z"
        },
        "id": "zGbRPE50bOlP"
      },
      "source": [
        "import os\n",
        "import joblib\n",
        "\n",
        "\n",
        "def guardar_modelo_svr(name):\n",
        "    \"\"\"Guardar los resultados del modelo\"\"\"\n",
        "\n",
        "    folder = 'modelos/'\n",
        "    if not os.path.exists(folder):\n",
        "        os.makedirs(folder)\n",
        "\n",
        "    filename = 'all_data_model_' + name + '.sav'\n",
        "    joblib.dump(model, folder + filename)"
      ],
      "execution_count": null,
      "outputs": []
    },
    {
      "cell_type": "code",
      "metadata": {
        "ExecuteTime": {
          "end_time": "2019-11-27T12:07:32.470815Z",
          "start_time": "2019-11-27T12:07:32.421018Z"
        },
        "id": "dYXOKSFhbOlQ"
      },
      "source": [
        "df_orig = df.copy()"
      ],
      "execution_count": null,
      "outputs": []
    },
    {
      "cell_type": "markdown",
      "metadata": {
        "id": "1CsiJgp1bOlS"
      },
      "source": [
        "Pongamos en marcha los cálculos..."
      ]
    },
    {
      "cell_type": "code",
      "metadata": {
        "ExecuteTime": {
          "end_time": "2019-11-27T12:07:39.871779Z",
          "start_time": "2019-11-27T12:07:32.471780Z"
        },
        "scrolled": true,
        "id": "GeVPbl7HbOlU"
      },
      "source": [
        "for hour in range(10, 22):\n",
        "    print('\\nCreando modelo para las ' + str(hour) + '...')\n",
        "    df = df_orig.copy()\n",
        "    eliminar_columnas(str(hour) + ':00')\n",
        "    train_data, test_data, validation_data, train_y, test_y, validation_y = training_test_set()\n",
        "    model = crear_modelo()\n",
        "    model.fit(train_data, train_y)\n",
        "    guardar_modelo_svr(str(hour) + '00')\n",
        "    print('Modelo guardado!')\n",
        "    print('Error de validación: ' + str((model.predict(validation_data) - validation_y).std()))\n",
        "    \n",
        "# Guardamos también el valor máximo 'max_value'\n",
        "file = open('modelos/max_value.txt', 'w')\n",
        "file.write(str(round(max_value, 2)))\n",
        "file.close()"
      ],
      "execution_count": null,
      "outputs": []
    },
    {
      "cell_type": "markdown",
      "metadata": {
        "id": "7YHlvdDabOlW"
      },
      "source": [
        "## Visualizando los resultados\n",
        "\n",
        "Cargamos las librerias de [Plotly](https://plot.ly/python/)"
      ]
    },
    {
      "cell_type": "code",
      "metadata": {
        "ExecuteTime": {
          "end_time": "2019-11-27T12:07:39.878732Z",
          "start_time": "2019-11-27T12:07:39.872748Z"
        },
        "id": "LtrXnfQTbOlX"
      },
      "source": [
        "import plotly.graph_objs as go\n",
        "from plotly.offline import download_plotlyjs, init_notebook_mode, plot, iplot\n",
        "\n",
        "init_notebook_mode(connected=True)"
      ],
      "execution_count": null,
      "outputs": []
    },
    {
      "cell_type": "markdown",
      "metadata": {
        "id": "clGrm7ksbOlY"
      },
      "source": [
        "Seleccionamos los días que queremos mostrar"
      ]
    },
    {
      "cell_type": "code",
      "metadata": {
        "ExecuteTime": {
          "end_time": "2019-11-27T12:07:41.219599Z",
          "start_time": "2019-11-27T12:07:39.881725Z"
        },
        "id": "BzzW2IA_bOlZ"
      },
      "source": [
        "dias = df_orig.loc[df_orig.index.isin(validation_y.index), 'Dia']"
      ],
      "execution_count": null,
      "outputs": []
    },
    {
      "cell_type": "markdown",
      "metadata": {
        "id": "dHTxHVZkbOla"
      },
      "source": [
        "Cargamos el modelo que queremos analizar:"
      ]
    },
    {
      "cell_type": "code",
      "metadata": {
        "ExecuteTime": {
          "end_time": "2019-11-27T12:07:41.319947Z",
          "start_time": "2019-11-27T12:07:41.223589Z"
        },
        "id": "1U_9E4szbOlb"
      },
      "source": [
        "hour = 10\n",
        "\n",
        "# Cargamos el modelo\n",
        "loaded_model = joblib.load('modelos/all_data_model_{}00.sav'.format(str(hour)))\n",
        "\n",
        "# Creamos los datos de validación\n",
        "df = df_orig.copy()\n",
        "eliminar_columnas(str(hour) + ':00')\n",
        "train_data, test_data, validation_data, train_y, test_y, validation_y = training_test_set()"
      ],
      "execution_count": null,
      "outputs": []
    },
    {
      "cell_type": "markdown",
      "metadata": {
        "id": "F7qNUFA0bOlb"
      },
      "source": [
        "Visualizamos"
      ]
    },
    {
      "cell_type": "code",
      "metadata": {
        "ExecuteTime": {
          "end_time": "2019-11-27T12:07:41.488387Z",
          "start_time": "2019-11-27T12:07:41.320861Z"
        },
        "id": "A-XHAwhqbOlc"
      },
      "source": [
        "import plotly.io as pio\n",
        "pio.renderers.default = 'colab'\n",
        "iplot({\n",
        "    'data': [go.Scatter(\n",
        "                x=dias,\n",
        "                y=validation_y * max_value,\n",
        "                name='Real'\n",
        "            ),go.Scatter(\n",
        "                x=dias,\n",
        "                y=loaded_model.predict(validation_data) * max_value,\n",
        "                name='Predicción'\n",
        "    )],\n",
        "    'layout': go.Layout(\n",
        "                yaxis={\n",
        "                    'title': 'Ventas €'\n",
        "                }\n",
        "    )\n",
        "})"
      ],
      "execution_count": null,
      "outputs": []
    },
    {
      "cell_type": "code",
      "metadata": {
        "id": "PH_CodJjTGVZ"
      },
      "source": [
        ""
      ],
      "execution_count": null,
      "outputs": []
    }
  ]
}